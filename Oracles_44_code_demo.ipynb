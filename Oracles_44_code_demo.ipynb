{
 "cells": [
  {
   "cell_type": "code",
   "execution_count": null,
   "metadata": {},
   "outputs": [],
   "source": [
    "import git\n",
    "import sys\n",
    "repo = git.Repo(\"./\", search_parent_directories=True)\n",
    "homedir = repo.working_dir\n",
    "sys.path.insert(0, f\"{homedir}\" + '/models/epidemiological/production/')\n",
    "sys.path.insert(1, f\"{homedir}\" + '/models/submissions/epidemiological/version3_0/')\n",
    "import datetime\n",
    "import preprocess_data as preprocess\n",
    "# import generate_submission3_0_0\n",
    "# import generate_submission3_0_1\n",
    "# import generate_submission3_0_2\n",
    "import generate_submission3_0_3 as submission\n",
    "\n",
    "if __name__ == '__main__':\n",
    "    start = datetime.datetime(2020, 4, 1)\n",
    "    end = datetime.datetime(2020, 6, 30)\n",
    "    # Preprocesses and compiles training data\n",
    "    preprocess.process_data(\"/data/us/covid/nyt_us_counties.csv\", \"/data/us/demographics/county_populations.csv\", save=True)\n",
    "    # Trains on all counties, reformats into a submission script\n",
    "    submission.generate_submission(start, end, bias=True, weight=True, policy_regime=False, tail_regime=-14, death_metric=\"deaths\", adaptive=True, sub_id=\"test\", location = f'{homedir}/test/')\n",
    "    # Submission script located at \"test/submissiontest.csv\"\n",
    "    # This is multithreaded and on the HPC with a single node and 28 cpu cores requested it runs in around 20-30 minutes"
   ]
  },
  {
   "cell_type": "code",
   "execution_count": null,
   "metadata": {},
   "outputs": [],
   "source": []
  }
 ],
 "metadata": {
  "kernelspec": {
   "display_name": "Python 3",
   "language": "python",
   "name": "python3"
  },
  "language_info": {
   "codemirror_mode": {
    "name": "ipython",
    "version": 3
   },
   "file_extension": ".py",
   "mimetype": "text/x-python",
   "name": "python",
   "nbconvert_exporter": "python",
   "pygments_lexer": "ipython3",
   "version": "3.7.4"
  }
 },
 "nbformat": 4,
 "nbformat_minor": 2
}
