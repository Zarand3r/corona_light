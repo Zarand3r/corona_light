{
 "cells": [
  {
   "cell_type": "markdown",
   "metadata": {},
   "source": [
    "#### Models used from https://github.com/fonnesbeck/gp_regression/blob/master/notebooks/spawning_salmon.ipynb\n",
    "#### Hope this is ok, asked on Piazza"
   ]
  },
  {
   "cell_type": "code",
   "execution_count": 1,
   "metadata": {},
   "outputs": [],
   "source": [
    "import os\n",
    "\n",
    "%matplotlib inline\n",
    "import numpy as np\n",
    "import pandas as pd\n",
    "import pymc3 as pm\n",
    "import arviz as az\n",
    "import theano.tensor as tt\n",
    "import matplotlib.pyplot as plt\n",
    "from theano import function\n",
    "from theano.tensor import _shared\n",
    "from scipy import special\n",
    "from scipy.stats import weibull_min \n",
    "from scipy.optimize import curve_fit\n",
    "\n",
    "import warnings\n",
    "warnings.simplefilter('ignore')\n",
    "\n",
    "os.environ['MKL_NUM_THREADS'] = '1'\n",
    "os.environ['OPENBLAS_NUM_THREADS'] = '1'"
   ]
  },
  {
   "cell_type": "code",
   "execution_count": 2,
   "metadata": {},
   "outputs": [],
   "source": [
    "import git\n",
    "import sys\n",
    "repo = git.Repo(\"./\", search_parent_directories=True)\n",
    "homedir = repo.working_dir\n",
    "sys.path.insert(1, f\"{homedir}\" + '/models/data_processing')\n",
    "import loader"
   ]
  },
  {
   "cell_type": "code",
   "execution_count": 3,
   "metadata": {},
   "outputs": [],
   "source": [
    "def process_data(data_covid, data_population, save=True):\n",
    "\tcovid = loader.load_data(data_covid)\n",
    "\tloader.convert_dates(covid, \"date\")\n",
    "\tpopulation = loader.load_data(data_population)\n",
    "\tcovid.loc[covid[\"county\"]=='New York City', \"fips\"]=36061\n",
    "\tcovid['Population'] = covid.apply(lambda row: loader.query(population, \"FIPS\", row.fips)['total_pop'], axis=1)\n",
    "\tcovid.dropna(subset=['fips'], inplace=True)\n",
    "\tcovid['fips']=covid['fips'].astype(int)\n",
    "\t# covid = add_active_cases(covid, \"/data/us/covid/JHU_daily_US.csv\")\n",
    "\tif save:\n",
    "\t\tcovid.to_csv(f\"{homedir}\" + \"/models/gaussian/us_training_data.csv\")\n",
    "\treturn covid\n",
    "\n",
    "def fit_single_county(input_dict):\n",
    "\t#put the logic to fit a single county here\n",
    "\t#all the data should be in input_dict\n",
    "\tus = input_dict[\"us\"]\n",
    "\tpolicies = input_dict[\"policies\"]\n",
    "\tcounty = input_dict[\"county\"]\n",
    "\tend = input_dict[\"end\"]\n",
    "\tdeath_metric = input_dict[\"death_metric\"]\n",
    "\n",
    "\tcounty_data = loader.query(us, \"fips\", county)\n",
    "\tcounty_data['avg_deaths'] = county_data.iloc[:,6].rolling(window=3).mean()\n",
    "\tcounty_data = county_data[2:]\n",
    "\tif len(county_data) == 0:\n",
    "\t\treturn None\n",
    "\n",
    "\tdates = pd.to_datetime(county_data[\"date\"].values)\n",
    "\textrapolate = (end-dates[-1])/np.timedelta64(1, 'D')\n",
    "\n",
    "\tnoise = calculate_noise(county_data, death_metric=death_metric)\n",
    "\tX_pred = np.arange(0, len(county_data)+extrapolate).reshape(-1,1)\n",
    "\tX_train = np.arange(0, len(county_data)).reshape(-1, 1)\n",
    "\tY_train = county_data[death_metric].values\n",
    "\n",
    "\tmean, std_error = fit(X_train, Y_train, X_pred, noise)\n",
    "\tprint(mean[len(county_data):])\n",
    "\n",
    "\t# Try using object oriented design. \n",
    "\t# Create an instance for each county, pass the county specific parameters as instance variables, so we dont have to keep passing them between functions\n",
    "\t# To get results (death_cdf), call its main function below, and return them in the tuple\n",
    "\n",
    "\t# death_cdf = []\n",
    "\t# return (dates, death_cdf, county) \n",
    "\treturn None\n",
    "\n",
    "def multi_submission(end, death_metric=\"deaths\"):\n",
    "\tcounties_dates = []\n",
    "\tcounties_death_errors = []\n",
    "\tcounties_fips = []\n",
    "\n",
    "\t# This first line regenerates the us_training_data.csv with new data pulled from upstream. It is usually commented out because I dont want to run it every time I test this function.\n",
    "\t# us = process_data(\"/data/us/covid/nyt_us_counties_daily.csv\", \"/data/us/demographics/county_populations.csv\")\n",
    "\tus = loader.load_data(\"/models/gaussian/us_training_data.csv\")\n",
    "\tpolicies = loader.load_data(\"/data/us/other/policies.csv\")\n",
    "\tfips_key = loader.load_data(\"/data/us/processing_data/fips_key.csv\", encoding=\"latin-1\")\n",
    "\t# fips_list = fips_key[\"FIPS\"]\n",
    "\tfips_list = [36061]\n",
    "\n",
    "\tdata = []\n",
    "\tfor index, county in enumerate(fips_list):\n",
    "\t\tinput_dict = {}\n",
    "\t\tinput_dict[\"us\"] = us\n",
    "\t\tinput_dict[\"policies\"] = policies\n",
    "\t\tinput_dict[\"county\"] = county\n",
    "\t\tinput_dict[\"end\"] = end\n",
    "\t\tinput_dict[\"death_metric\"] = death_metric\n",
    "\t\tdata.append(input_dict)\n",
    "\t\n",
    "\tpool = Pool(os.cpu_count())\n",
    "\tresults = pool.map(fit_single_county, data)\n",
    "\t\n",
    "\tfor result in results:\n",
    "\t\tif result is not None:\n",
    "\t\t\t(dates, death_cdf, county) = result\n",
    "\t\t\tcounties_dates.append(dates)\n",
    "\t\t\tcounties_death_errors.append(death_cdf)\n",
    "\t\t\tcounties_fips.append(county)\n",
    "\n",
    "\toutput_dict = {\"counties_dates\": np.array(counties_dates), \"counties_death_errors\": np.array(counties_death_errors), \"counties_fips\": np.array(counties_fips)}\n",
    "\treturn output_dict"
   ]
  },
  {
   "cell_type": "code",
   "execution_count": 4,
   "metadata": {},
   "outputs": [],
   "source": [
    "class Weibull(pm.gp.mean.Mean):\n",
    "    # custom mean -- Weibull PDF\n",
    "    def __init__(self, c, loc, scale):\n",
    "        #Mean.__init__(self)\n",
    "        self.c = c\n",
    "        self.loc = loc\n",
    "        self.scale = scale\n",
    "\n",
    "    def __call__(self, X):\n",
    "        X = _shared(X)\n",
    "        for i in range(0, X.shape[0].eval()):\n",
    "            X = tt.set_subtensor(X[i], self.c * (((X[i].eval() - self.loc) / self.scale)**(self.c - 1.0)) * \n",
    "                                 (np.e ** (-1.0 * (((X[i].eval() - self.loc) / self.scale)**self.c))) / self.scale)\n",
    "        X = X.reshape((X.shape[0],),)\n",
    "        return X"
   ]
  },
  {
   "cell_type": "code",
   "execution_count": 5,
   "metadata": {},
   "outputs": [
    {
     "data": {
      "text/html": [
       "<div>\n",
       "<style scoped>\n",
       "    .dataframe tbody tr th:only-of-type {\n",
       "        vertical-align: middle;\n",
       "    }\n",
       "\n",
       "    .dataframe tbody tr th {\n",
       "        vertical-align: top;\n",
       "    }\n",
       "\n",
       "    .dataframe thead th {\n",
       "        text-align: right;\n",
       "    }\n",
       "</style>\n",
       "<table border=\"1\" class=\"dataframe\">\n",
       "  <thead>\n",
       "    <tr style=\"text-align: right;\">\n",
       "      <th></th>\n",
       "      <th>fips</th>\n",
       "      <th>deaths</th>\n",
       "      <th>date_processed</th>\n",
       "    </tr>\n",
       "  </thead>\n",
       "  <tbody>\n",
       "    <tr>\n",
       "      <th>0</th>\n",
       "      <td>53061</td>\n",
       "      <td>0.0</td>\n",
       "      <td>0.0</td>\n",
       "    </tr>\n",
       "    <tr>\n",
       "      <th>1</th>\n",
       "      <td>53061</td>\n",
       "      <td>0.0</td>\n",
       "      <td>1.0</td>\n",
       "    </tr>\n",
       "    <tr>\n",
       "      <th>2</th>\n",
       "      <td>53061</td>\n",
       "      <td>0.0</td>\n",
       "      <td>2.0</td>\n",
       "    </tr>\n",
       "    <tr>\n",
       "      <th>3</th>\n",
       "      <td>53061</td>\n",
       "      <td>0.0</td>\n",
       "      <td>3.0</td>\n",
       "    </tr>\n",
       "    <tr>\n",
       "      <th>4</th>\n",
       "      <td>53061</td>\n",
       "      <td>0.0</td>\n",
       "      <td>4.0</td>\n",
       "    </tr>\n",
       "  </tbody>\n",
       "</table>\n",
       "</div>"
      ],
      "text/plain": [
       "    fips  deaths  date_processed\n",
       "0  53061     0.0             0.0\n",
       "1  53061     0.0             1.0\n",
       "2  53061     0.0             2.0\n",
       "3  53061     0.0             3.0\n",
       "4  53061     0.0             4.0"
      ]
     },
     "execution_count": 5,
     "metadata": {},
     "output_type": "execute_result"
    }
   ],
   "source": [
    "# load data, from prototype\n",
    "\n",
    "df = pd.read_csv('us_training_data.csv')\n",
    "data = df[['fips', 'deaths', 'date_processed']]\n",
    "data.head()"
   ]
  },
  {
   "cell_type": "code",
   "execution_count": 6,
   "metadata": {},
   "outputs": [
    {
     "data": {
      "image/png": "[encoded data removed]",
      "text/plain": [
       "<Figure size 432x288 with 1 Axes>"
      ]
     },
     "metadata": {
      "needs_background": "light"
     },
     "output_type": "display_data"
    }
   ],
   "source": [
    "# test on county 53061 first\n",
    "\n",
    "test_data = [[], []]\n",
    "fips_list = list(data['fips'])\n",
    "dates_list = list(data['date_processed'])\n",
    "deaths_list = list(data['deaths'])\n",
    "\n",
    "for i in range(0, len(data)):\n",
    "    if fips_list[i] == 53061:\n",
    "        date = dates_list[i]\n",
    "        deaths = deaths_list[i]\n",
    "        test_data[0].append(date)\n",
    "        test_data[1].append(deaths)\n",
    "\n",
    "test_data = np.array(test_data).transpose()\n",
    "test_data = pd.DataFrame(test_data)\n",
    "test_data.columns = ['date', 'deaths']\n",
    "#print(test_data)\n",
    "\n",
    "test_data.plot.scatter(x='date', y='deaths', s=50);"
   ]
  },
  {
   "cell_type": "code",
   "execution_count": 7,
   "metadata": {},
   "outputs": [
    {
     "name": "stdout",
     "output_type": "stream",
     "text": [
      "   date  deaths  avg_deaths\n",
      "0   0.0     0.0         0.0\n",
      "1   1.0     0.0         0.0\n",
      "2   2.0     0.0         0.0\n",
      "3   3.0     0.0         0.0\n",
      "4   4.0     0.0         0.0\n"
     ]
    }
   ],
   "source": [
    "rolling_deaths = []\n",
    "for i in range(0, len(test_data)):\n",
    "    if i == 0:\n",
    "        rolling_deaths.append(test_data['deaths'][0])\n",
    "    elif i == 1:\n",
    "        rolling_deaths.append((test_data['deaths'][0] + test_data['deaths'][1]) / 2.0)\n",
    "    else:\n",
    "        rolling_deaths.append((test_data['deaths'][i - 2] + test_data['deaths'][i - 1] + test_data['deaths'][i]) / 3)\n",
    "test_data['avg_deaths'] = rolling_deaths\n",
    "print(test_data.head())"
   ]
  },
  {
   "cell_type": "code",
   "execution_count": 8,
   "metadata": {},
   "outputs": [],
   "source": [
    "with pm.Model() as covid_model:\n",
    "    m_val = max(test_data.avg_deaths)\n",
    "    c, loc, scale = weibull_min.fit(np.array(test_data.avg_deaths))\n",
    "    μ = pm.HalfCauchy('μ', m_val / 10.0)\n",
    "    l = pm.HalfCauchy('l', 3)\n",
    "    \n",
    "    weibull_mean = Weibull(c = c, loc = loc, scale = scale)\n",
    "    K = (μ**2) * pm.gp.cov.ExpQuad(1, l)\n",
    "    σ = pm.HalfNormal('σ', m_val / 20)\n",
    "    \n",
    "    recruit_gp = pm.gp.Marginal(mean_func=weibull_mean, cov_func=K)\n",
    "    recruit_gp.marginal_likelihood('deaths', X=test_data.date.values.reshape(-1,1), \n",
    "                           y=test_data.avg_deaths.values, noise=σ)"
   ]
  },
  {
   "cell_type": "code",
   "execution_count": null,
   "metadata": {},
   "outputs": [
    {
     "name": "stderr",
     "output_type": "stream",
     "text": [
      "Auto-assigning NUTS sampler...\n",
      "Initializing NUTS using jitter+adapt_diag...\n"
     ]
    }
   ],
   "source": [
    "with covid_model:\n",
    "    gp_trace = pm.sample(1000, tune=2000)"
   ]
  },
  {
   "cell_type": "code",
   "execution_count": null,
   "metadata": {},
   "outputs": [],
   "source": []
  },
  {
   "cell_type": "code",
   "execution_count": null,
   "metadata": {},
   "outputs": [],
   "source": []
  },
  {
   "cell_type": "code",
   "execution_count": null,
   "metadata": {},
   "outputs": [],
   "source": []
  },
  {
   "cell_type": "code",
   "execution_count": null,
   "metadata": {},
   "outputs": [],
   "source": []
  },
  {
   "cell_type": "code",
   "execution_count": null,
   "metadata": {},
   "outputs": [],
   "source": [
    "# modelling function"
   ]
  },
  {
   "cell_type": "code",
   "execution_count": 11,
   "metadata": {},
   "outputs": [
    {
     "data": {
      "text/html": [
       "<div>\n",
       "<style scoped>\n",
       "    .dataframe tbody tr th:only-of-type {\n",
       "        vertical-align: middle;\n",
       "    }\n",
       "\n",
       "    .dataframe tbody tr th {\n",
       "        vertical-align: top;\n",
       "    }\n",
       "\n",
       "    .dataframe thead th {\n",
       "        text-align: right;\n",
       "    }\n",
       "</style>\n",
       "<table border=\"1\" class=\"dataframe\">\n",
       "  <thead>\n",
       "    <tr style=\"text-align: right;\">\n",
       "      <th></th>\n",
       "      <th>fips</th>\n",
       "      <th>deaths</th>\n",
       "      <th>date_processed</th>\n",
       "    </tr>\n",
       "  </thead>\n",
       "  <tbody>\n",
       "    <tr>\n",
       "      <th>0</th>\n",
       "      <td>53061</td>\n",
       "      <td>0.0</td>\n",
       "      <td>0.0</td>\n",
       "    </tr>\n",
       "    <tr>\n",
       "      <th>1</th>\n",
       "      <td>53061</td>\n",
       "      <td>0.0</td>\n",
       "      <td>1.0</td>\n",
       "    </tr>\n",
       "    <tr>\n",
       "      <th>2</th>\n",
       "      <td>53061</td>\n",
       "      <td>0.0</td>\n",
       "      <td>2.0</td>\n",
       "    </tr>\n",
       "    <tr>\n",
       "      <th>3</th>\n",
       "      <td>53061</td>\n",
       "      <td>0.0</td>\n",
       "      <td>3.0</td>\n",
       "    </tr>\n",
       "    <tr>\n",
       "      <th>4</th>\n",
       "      <td>53061</td>\n",
       "      <td>0.0</td>\n",
       "      <td>4.0</td>\n",
       "    </tr>\n",
       "  </tbody>\n",
       "</table>\n",
       "</div>"
      ],
      "text/plain": [
       "    fips  deaths  date_processed\n",
       "0  53061     0.0             0.0\n",
       "1  53061     0.0             1.0\n",
       "2  53061     0.0             2.0\n",
       "3  53061     0.0             3.0\n",
       "4  53061     0.0             4.0"
      ]
     },
     "execution_count": 11,
     "metadata": {},
     "output_type": "execute_result"
    }
   ],
   "source": [
    "# get fips codes\n",
    "fips_codes = []\n",
    "\n",
    "# for each fips code, train a model, get predictions til june 30th, write to a csv"
   ]
  },
  {
   "cell_type": "code",
   "execution_count": null,
   "metadata": {},
   "outputs": [],
   "source": []
  }
 ],
 "metadata": {
  "kernelspec": {
   "display_name": "Python 3",
   "language": "python",
   "name": "python3"
  },
  "language_info": {
   "codemirror_mode": {
    "name": "ipython",
    "version": 3
   },
   "file_extension": ".py",
   "mimetype": "text/x-python",
   "name": "python",
   "nbconvert_exporter": "python",
   "pygments_lexer": "ipython3",
   "version": "3.7.7"
  }
 },
 "nbformat": 4,
 "nbformat_minor": 4
}
