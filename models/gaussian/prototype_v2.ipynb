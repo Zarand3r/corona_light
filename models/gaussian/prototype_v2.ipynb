{
 "cells": [
  {
<<<<<<< HEAD
   "cell_type": "code",
   "execution_count": 2,
   "metadata": {},
   "outputs": [],
   "source": [
    "# packages for PyMC3 fitting, from https://github.com/fonnesbeck/gp_regression/blob/master/notebooks/spawning_salmon.ipynb\n",
    "\n",
=======
   "cell_type": "markdown",
   "metadata": {},
   "source": [
    "#### Models used from https://github.com/fonnesbeck/gp_regression/blob/master/notebooks/spawning_salmon.ipynb\n",
    "#### Hope this is ok, asked on Piazza"
   ]
  },
  {
   "cell_type": "code",
   "execution_count": 33,
   "metadata": {},
   "outputs": [],
   "source": [
    "# packages for PyMC3 fitting\n",
>>>>>>> 1c4f2e4f002e0dc6b68d84d52e0f1eb215fd95a6
    "import os\n",
    "\n",
    "%matplotlib inline\n",
    "import numpy as np\n",
    "import pandas as pd\n",
    "import pymc3 as pm\n",
    "import arviz as az\n",
    "import theano.tensor as tt\n",
    "import matplotlib.pyplot as plt\n",
<<<<<<< HEAD
=======
    "from theano import function\n",
    "from theano.tensor import _shared\n",
    "from scipy import special\n",
>>>>>>> 1c4f2e4f002e0dc6b68d84d52e0f1eb215fd95a6
    "\n",
    "import warnings\n",
    "warnings.simplefilter('ignore')\n",
    "\n",
    "os.environ['MKL_NUM_THREADS'] = '1'\n",
    "os.environ['OPENBLAS_NUM_THREADS'] = '1'"
   ]
  },
  {
   "cell_type": "code",
<<<<<<< HEAD
   "execution_count": 12,
=======
   "execution_count": 34,
   "metadata": {},
   "outputs": [],
   "source": [
    "class Quadratic(pm.gp.mean.Mean):\n",
    "    # custom mean of a quadratic, assuming max deaths already passed which is reasonable\n",
    "    def __init__(self, t_0, t_max, max_val):\n",
    "        #Mean.__init__(self)\n",
    "        t_delta = t_max - t_0\n",
    "        self.a = -1 * max_val / (t_delta ** 2)\n",
    "        self.b = 2 * max_val / t_delta\n",
    "\n",
    "    def __call__(self, X):\n",
    "        X = _shared(X)\n",
    "        for i in range(0, X.shape[0].eval()):\n",
    "            X = tt.set_subtensor(X[i], self.a * X[i].eval()**2 + self.b * X[i].eval() )\n",
    "        return X"
   ]
  },
  {
   "cell_type": "code",
   "execution_count": 35,
   "metadata": {},
   "outputs": [],
   "source": [
    "class ERF(pm.gp.mean.Mean):\n",
    "    # custom mean of an ERF\n",
    "    def __init__(self, t_0, t_max, max_val):\n",
    "        #Mean.__init__(self)\n",
    "        self.m = 6.0 / (t_max - t_0)\n",
    "        self.b = 3.0 * (t_0 + t_max) / (t_0 - t_max)\n",
    "        self.c = max_val\n",
    "\n",
    "    def __call__(self, X):\n",
    "        X = _shared(X)\n",
    "        for i in range(0, X.shape[0].eval()):\n",
    "            X = tt.set_subtensor(X[i], special.erf([X[i].eval() * self.m + self.b])[0])\n",
    "        return X"
   ]
  },
  {
   "cell_type": "code",
   "execution_count": null,
   "metadata": {},
   "outputs": [],
   "source": [
    "def get_vals(df):\n",
    "    t_0 = 0\n",
    "    for i in range(0, len(df)):\n",
    "        if df."
   ]
  },
  {
   "cell_type": "code",
   "execution_count": 36,
>>>>>>> 1c4f2e4f002e0dc6b68d84d52e0f1eb215fd95a6
   "metadata": {},
   "outputs": [
    {
     "data": {
      "text/html": [
       "<div>\n",
       "<style scoped>\n",
       "    .dataframe tbody tr th:only-of-type {\n",
       "        vertical-align: middle;\n",
       "    }\n",
       "\n",
       "    .dataframe tbody tr th {\n",
       "        vertical-align: top;\n",
       "    }\n",
       "\n",
       "    .dataframe thead th {\n",
       "        text-align: right;\n",
       "    }\n",
       "</style>\n",
       "<table border=\"1\" class=\"dataframe\">\n",
       "  <thead>\n",
       "    <tr style=\"text-align: right;\">\n",
       "      <th></th>\n",
       "      <th>fips</th>\n",
       "      <th>deaths</th>\n",
       "      <th>date_processed</th>\n",
       "    </tr>\n",
       "  </thead>\n",
       "  <tbody>\n",
       "    <tr>\n",
       "      <th>0</th>\n",
       "      <td>53061</td>\n",
       "      <td>0.0</td>\n",
       "      <td>0.0</td>\n",
       "    </tr>\n",
       "    <tr>\n",
       "      <th>1</th>\n",
       "      <td>53061</td>\n",
       "      <td>0.0</td>\n",
       "      <td>1.0</td>\n",
       "    </tr>\n",
       "    <tr>\n",
       "      <th>2</th>\n",
       "      <td>53061</td>\n",
       "      <td>0.0</td>\n",
       "      <td>2.0</td>\n",
       "    </tr>\n",
       "    <tr>\n",
       "      <th>3</th>\n",
       "      <td>53061</td>\n",
       "      <td>0.0</td>\n",
       "      <td>3.0</td>\n",
       "    </tr>\n",
       "    <tr>\n",
       "      <th>4</th>\n",
       "      <td>53061</td>\n",
       "      <td>0.0</td>\n",
       "      <td>4.0</td>\n",
       "    </tr>\n",
       "  </tbody>\n",
       "</table>\n",
       "</div>"
      ],
      "text/plain": [
       "    fips  deaths  date_processed\n",
       "0  53061     0.0             0.0\n",
       "1  53061     0.0             1.0\n",
       "2  53061     0.0             2.0\n",
       "3  53061     0.0             3.0\n",
       "4  53061     0.0             4.0"
      ]
     },
<<<<<<< HEAD
     "execution_count": 12,
=======
     "execution_count": 36,
>>>>>>> 1c4f2e4f002e0dc6b68d84d52e0f1eb215fd95a6
     "metadata": {},
     "output_type": "execute_result"
    }
   ],
   "source": [
    "# load data, from prototype\n",
    "\n",
    "df = pd.read_csv('us_training_data.csv')\n",
    "data = df[['fips', 'deaths', 'date_processed']]\n",
    "data.head()"
   ]
  },
  {
   "cell_type": "code",
<<<<<<< HEAD
   "execution_count": 23,
=======
   "execution_count": 38,
>>>>>>> 1c4f2e4f002e0dc6b68d84d52e0f1eb215fd95a6
   "metadata": {},
   "outputs": [
    {
     "name": "stdout",
     "output_type": "stream",
     "text": [
      "      date  deaths\n",
      "0      0.0     0.0\n",
      "1      1.0     0.0\n",
      "2      2.0     0.0\n",
      "3      3.0     0.0\n",
      "4      4.0     0.0\n",
      "..     ...     ...\n",
      "107  107.0     2.0\n",
      "108  108.0     0.0\n",
      "109  109.0     0.0\n",
      "110  110.0     2.0\n",
      "111  111.0     2.0\n",
      "\n",
      "[112 rows x 2 columns]\n"
     ]
    },
    {
     "data": {
      "image/png": "iVBORw0KGgoAAAANSUhEUgAAAXgAAAEGCAYAAABvtY4XAAAABHNCSVQICAgIfAhkiAAAAAlwSFlzAAALEgAACxIB0t1+/AAAADh0RVh0U29mdHdhcmUAbWF0cGxvdGxpYiB2ZXJzaW9uMy4xLjMsIGh0dHA6Ly9tYXRwbG90bGliLm9yZy+AADFEAAAa6ElEQVR4nO3df3Dc913n8edbK2vVXcXn2FKKldRsmgmE0rFoT3bTBjptGg5D1SbQMi1DD6zrkOGGO9pSpmnCH/y4ApcBCoHpFEJ6Vst1Wq4hcB0dFzhKKQwzF1lOa7dNTNNQJXXlNLJDnVhbryz5zR/7lVjL++O7u9/v/vjs6zHjsfb74/N5fz6fr95afferz8fcHRERCc9QtwMQEZF0KMGLiARKCV5EJFBK8CIigVKCFxEJ1HC3A6g0Pj7uhUKh22GIiPSNY8eOnXH3iWr7eirBFwoFFhcXux2GiEjfMLOnau3TLRoRkUApwYuIBEoJXkQkUErwIiKBUoIXEQlUTz1FIyKddb60zvzxZZbOrlLYk2dmapKxrNJCKDSSIgPq6NJzHD6ygDsU1zbIjWT4b//nMeZmD3KgsLvb4UkCdItGZACdL61z+MgCq6UNimsbQDnJr5Y2ou3rXY5QkqAELzKA5o8vU2spCHeYP7Hc2YAkFUrwIgNo6ezq1jv37YprGyydKXY4IkmDErzIACrsyZMbyVTdlxvJUBjPdTgiSYMSvMgAmpmaxKz6PjOY2T/Z2YAkFUrwIgNoLDvM3OxB8tnM1jv53EiGfDYTbdcDdiHQKIoMqAOF3SzccxvzJ5ZZOlOkMJ5jZv+kkntANJIiAyyfHeZtB/Z1OwxJiW7RiIgESgleRCRQSvAiIoFSghcRCZQSvIhIoJTgRUQCpQQvIhIoJXgRkUApwYuIBEoJXkQkUErwIiKBUoIXEQlUqgnezN5jZl82sy+Z2SfMbDTN+kRE5N+kluDN7Frg54Fpd385kAHenlZ9IiJyubRv0QwDLzKzYSAHaCVfEZEOSS3Bu/s3gN8GngZOA+fc/a+3H2dmd5rZopktrqyspBWOiMjASfMWzdXA7cD1wCSQN7N3bD/O3e9392l3n56YmEgrHBGRgZPmLZrbgK+5+4q7XwQeAl6TYn0iIlIhzQT/NHCzmeXMzIA3AI+nWJ+IiFRI8x78I8CDwKPAF6O67k+rPhERuVyqi267+y8Dv5xmHSIiUp3+klVEJFBK8CIigVKCFxEJlBK8iEiglOBFRAKlBC8iEigleBGRQCnBi4gESgleRCRQSvAiIoFSghcRCZQSvIhIoFKdbExEkne+tM788WWWzq5S2JNnZmoS4IptY1l9ew86c/dux7BlenraFxcXux2GSM86uvQch48s4A7FtQ1yIxkuRd/DQ2Zb28xgbvYgBwq7uxyxpM3Mjrn7dLV9ukUj0ifOl9Y5fGSB1dIGxbUNoJzkL1y8xIWLly7btlraiI5d72bI0mVK8CJ9Yv74Ms38wu0O8yeW0wtIep4SvEifWDq7uvUuPY7i2gZLZ4opRiS9TglepE8U9uTJjWRiH58byVAYz6UYkfQ6JXiRPjEzNYlZ/OPNYGb/ZHoBSc9TghfpE2PZYeZmD5LPZrbeyedGMozuGGJ0x9Bl2/LZTHSsHpUcZBp9kT5yoLCbhXtuY/7EMktnihTGc1vv0rdvU3IXXQEifSafHeZtB/Zdsb3aNhlsukUjIhIoJXgRkUApwYuIBEoJXkQkUErwIiKBUoIXEQmUEryISKCU4EVEAqUELyISKCV4EZFAKcGLiARKCV5EJFBK8CIigUo1wZvZLjN70MxOmtnjZvbqNOsTEZF/k/Z0wfcBD7v7W81sBND6YSIiHZJagjezncBrgcMA7r4GrKVVn4iIXC7NWzQvBVaAI2b2eTN7wMzy2w8yszvNbNHMFldWVlIMR0RksKSZ4IeBVwIfdvdXAKvA+7cf5O73u/u0u09PTEykGI6IyGBJM8GfAk65+yPR6wcpJ3wREemA1BK8uz8DfN3Mvjva9AbgsbTqExGRy6X9FM1/BT4ePUHzz8BsyvWJiEgk1QTv7l8AptOsQ0REqtNfsoqIBEoJXkQkUErwIiKBUoIXEQmUEryISKCU4EVEAqUELyISKCV4EZFAKcGLiARKCV5EJFBK8CIigVKCFxEJVNqzSYrINudL68wfX2bp7CqFPXlmpiYZyw7H3t/PqrUNCLa93Wbu3vggs1uAL7j7qpm9g/LCHfe5+1NJBjM9Pe2Li4tJFinSU44uPcfhIwu4Q3Ftg9xIBjOYmz3IgcLuhvv7WbW2XYryz5BZcO3tFDM75u5VZ+2Ne4vmw0DRzKaA9wFPAR9LKD6RgXC+tM7hIwusljYorm0A5US3Wtrg8JEFnn3+Qt39q6X1bobfllptv3DxEhcuXgquvb0iboJf9/Jb/dspv3O/D7gqvbBEwjN/fJlavzC7w70Pn6y7f/7EcnrBpaxe26vp9/b2irg3ul4ws7uBdwCvNbMMsCO9sETCs3R2deud6nbFtQ2eXKm/f+lMMc3wUlWv7dX0e3t7Rdx38G8DSsA7o7VWrwV+K7WoRAJU2JMnN5Kpui83kuGGifr7C+O5NMNLVb22V9Pv7e0VsRK8uz/j7h9093+IXj/t7roHL9KEmalJzKrvM4O7Dt1Ud//M/sn0gktZvbZX0+/t7RWxEryZ/ZiZPWFm58zseTN7wcyeTzs4kZCMZYeZmz1IPpvZejebG8mQz2aYmz3INTtH6+7P9/Gjg7XaPrpjiNEdQ8G1t1fEfUzyq8Cb3P3xNIPRY5IyCFZL68yfWGbpTJHCeI6Z/ZOXJbNG+/tZtbYBwba3E+o9Jhk3wf+ju9+SeGTbKMGLiDSnXoKv+2PSzH4s+nLRzP4U+AvKH7YC4O4PJRaliIgkqtHvQW+q+LoI/IeK1w4owYuI9Ki6Cd7dZ6E8VYG7/2Plvmj6AhER6VFxn4P/g5jbRESkRzS6B/9q4DXAhJn9QsWunUD8v1oQEZGOa3QPfgQYi46rnHvmeeCtaQUlIiLta3QP/nPA58xsLumpgUVEJF1x/5qgaGa/BXwvMLq50d1vTSUqERFpW9wPWT8OnASuB34VWAKOphSTiIgkIG6C3+PuHwEuuvvn3P0/ATenGJeIiLQp7i2ai9H/p83sjcAycF06IYmISBLiJvgPmNm/A95L+fn3ncB7UotKRETaFivBu/t89OU54PXphSMiaTtfWmf++DJLZ1cp7MkzMzXJWAKzN1aWu3fnKG7GM+e+3XIdacU5SOLOJvldlBfefrG7v9zM9gNvdvcPxDg3AywC33D3mXrHajZJkXQdXXqOw0cWcC8vi5cbyWAGc7MHOVDYnVi5lVqpI604Q1RvNsm4H7L+MXA30b14dz8BvD3mue8CUp1HXkQaO19a5/CRBVZLG1tJuLi2wWppI9q+nli5lZqtI604B1HcBJ9z94Vt2xr2spldB7wReKDZwEQkWfPHl6n1C7t7edGNpMttpY604hxEcRP8GTO7gfIUwZjZW4HTMc77PeB9wKVaB5jZnWa2aGaLKysrMcMRkWYtnV2t+g4byu+Ql84UEy+3lTrSinMQxU3wPwf8EXCTmX0DeDfws/VOMLMZ4Fl3P1bvOHe/392n3X16YmIiZjgi0qzCnvzW2qfb5UYyFMZziZfbSh1pxTmI6iZ4M/uFaBbJO4C/BH4d+EPKC328pUHZtwBvNrMl4JPArWb2P9uOWERaMjM1iVn1fWZsrY+aZLmt1JFWnIOo0Tv4q6J/08B/Bq4GdlF+9/6yeie6+93ufp27Fyh/IPu37v6OtiMWkZaMZYeZmz1IPpvZeoecG8mQz2ai7a09glit3ErN1pFWnIMo7mOSfw28xd1fiF5fBXzK3Q/FqsTsdcAv6jFJke5bLa0zf2KZpTNFCuM5ZvZPJpI0K8vduysLbpw+d6HlOtKKMzT1HpOMm+BPAlPuXopeZ4Hj7n5TkoEqwYuINKdego/74/BPgAUz+3PKT9L8KPDRhOITEZEUxJ2q4NfN7P8CPxBtmnX3z6cXloiItCv2DS13fxR4NMVYREQkQXGfgxcRkT6jBC8iEigleBGRQCnBi4gESgleRCRQSvAiIoFSghcRCZQSvIhIoJTgRUQCpanZRHrA+dI688eXWTq7SmFPnpmpScYSnjmxUR3t7u/ltg2qWLNJdopmk5RBdHTpOQ4fWcC9vCRdbiSDGczNHuRAYXdH6mh3fy+3LXT1ZpPULRqRLjpfWufwkQVWSxtb65AW1zZYLW1E2xuubd92Hc8+f6Gt/bVi7IW2JVFHP1OCF+mi+ePL1Pol2h3mTyynXse9D59sa3+tGHuhbUnU0c+U4EW6aOns6tY7z+2KaxssnSmmXseTK+3trxVjL7QtiTr6mRK8SBcV9uSrrmMK5XVIC+O51Ou4YaK9/bVi7IW2JVFHP1OCF+mimalJzKrvM4OZ/ZOp13HXoZva2l8rxl5oWxJ19DMleJEuGssOMzd7kHw2s/VONDeSIZ/NRNvbf9SvUR3X7Bxta3+tGHuhbYO+SLcekxTpAauldeZPLLN0pkhhPMfM/snEk1OjOtrd38ttC1m9xySV4EVE+piegxcRGUBK8CIigVKCFxEJlBK8iEiglOBFRAKlBC8iEigleBGRQCnBi4gESgleRCRQSvAiIoFSghcRCZQSvIhIoAZjujWRyPnSOvPHl1k6u0phT56ZqUnGEpx1MO3ym62v3XjinN9KHc2ck0SfJtlP1Y4Ftrbt3TmKm/HMuW83rKvRse1KbTZJM3sJ8DHgO4BLwP3ufl+9czSbpKTp6NJzHD6ygHt5ObfcSAYzmJs9yIHC7p4vv9n62o0nzvmt1NHMOUn0aZL9VO3YS1EOHTK7YvnARnXVOzaurkwXbGZ7gb3u/qiZXQUcA+5w98dqnaMEL2k5X1rnVb/xN6yWrly/M5/NsHDPbW3NH552+c3W99n3vo7X/87ftRxPnPY4NN3mZvopiT5Nsp/qldVIo7rq1dtIV6YLdvfT7v5o9PULwOPAtWnVJ1LP/PFlar2XcYf5E8s9XX6z9d378Mm24onTnlba3Mw5SfRpkv1Ur6xGGtVVr952dOQevJkVgFcAj1TZdydwJ8C+ffs6EY4MoKWzq1f8SrypuLbB0pliT5ffbH1PrrQXT5z2ON50Hc30UxJ9mmQ/1SurkUZ11au3Hak/RWNmY8CfAe929+e373f3+9192t2nJyYm0g5HBlRhT35rzc7tciMZCuO5ni6/2fpumGgvnjjtaaXNzZyTRJ8m2U/1ymqkUV316m1HqgnezHZQTu4fd/eH0qxLpJ6ZqUnMqu8zg5n9kz1dfrP13XXoprbiidOeVtrczDlJ9GmS/VSvrEYa1VWv3nakluDNzICPAI+7+wfTqkckjrHsMHOzB8lnM1vvonIjGfLZTLS9vbuVaZffbH3X7BxtK5447Wmlzc2ck0SfJtlPtcoa3THE6I6hqu/OG9VV69ikrpc0n6L5fuAfgC9SfkwS4B53/8ta5+gpGknbammd+RPLLJ0pUhjPMbN/MtHkm3b5zdbXbjxxzm+ljmbOSaJPk+ynascCW9v27sqCG6fPXWhYV6Nj4+jKY5KtUIIXEWlOVx6TFBGR7lKCFxEJlBK8iEiglOBFRAKlBC8iEigleBGRQCnBi4gESgleRCRQSvAiIoFSghcRCZQSvIhIoJTgRUQC1ZEVnUS6qXIV+1ZWrq88f+/OUdyMZ859u+bXm3UAbdXbTY36rN0+TStGoOpY9Vv/J0WzSUrQtq9i3+zK9dvPjyM3kuFS9H01ZNZSvd3UqM/a7dO0Ytze55X6qf+bpdkkZSCdL61z+MgCq6WNrW/44toGq6WNaPt60+fHUVzb4MLFS1y4eKmlerupUZ89+/yFtvo0zRi393mlfun/pCnBS7Dmjy/XXMU+zsr19c5vVZx6u6lRn9378Mm2+jQJ7YxLr/d/0pTgJVhLZ2uvYh9n5fp657cqTr3d1KjPnlxpr0+T0M649Hr/J00JXoJV2FN7Ffs4K9fXO79VcertpkZ9dsNEe32ahHbGpdf7P2lK8BKsmanJmqvYx1m5vt75rYpTbzc16rO7Dt3UVp8moZ1x6fX+T5oSvARrLDt8xSr2zaxcX+38OHIjGUZ3DDG6Y6ilerupUZ9ds3O0rT5NM8btfV6pX/o/aXpMUoJXuYp9KyvXV56/d1cW3Dh97kLNrzfrANqqt5sa9Vm7fZpWjEDVseq3/m9GvcckleBFRPqYnoMXERlASvAiIoFSghcRCZQSvIhIoJTgRUQCpQQvIhIoJXgRkUApwYuIBEoJXkQkUErwIiKBUoIXEQmUEryISKBSnVrNzA4B9wEZ4AF3/+9J11Ftxfunz67yreJFduV28J27c1srq1eush732CTL0rHdqbewJ8/M1CRjFTMJVrtuapVbq4xWr9PNsoArtm0vf/O8r3zzha22fdeLr6obS7W6Wo270xrF3m7bao17ZVnV+rzW9dRMvEleT3GlNpukmWWArwA/CJwCjgI/4e6P1Tqn2dkkW1nxXgZPbiSDGczNHuRAYXdL1832Mpqxvb7cSIZL0ffdkNnWtu3lb563vuGU1i9tlZcdHmI4Y1VjqVZXq3F3WqPY221bvXHfLOuuQzdx78Mnr+jzesfGjbdaGUmMS1emCzazVwO/4u4/FL2+G8Ddf7PWOc0k+POldV71G3/DakmJXeLJZzN89r2v4/W/83ctXzf5bIaFe26LPa94s9fpZvkODc/bHku9upqNu9MaxV5v3OK0rZP5opnrLIlx6dZ0wdcCX694fSralog0VryXsLmz9Y6rnTLmTyzHPr7Z63Sz/DjnbY+l3jnNxt1pjWKvN25x2tbJfNHMdZb2uKT547zaqolXNNnM7gTuBNi3b1/swtNY8V7CVlzb4MmV9q6b4toGS2eKsY9v9jrdLN/xhudtj6VeXc3G3WmNYq83bnHa1sl80cx1lva4pPkO/hTwkorX1wFX/Khy9/vdfdrdpycmJmIXnsaK9xK23EiGGybau25yIxkK47nYxzd7nW6WH+e87bHUO6fZuDutUez1xi1O2zqZL5q5ztIelzQT/FHgRjO73sxGgLcDn06q8DRWvJewbX4w1s51Y8bW2p9xNHudbpYf57ztsdQ7p9m4O61R7PXGLU7bOpkvmrnO0h6X1BK8u68D/wX4K+Bx4H+5+5eTKr/VFe9l8ORGMuSzGeZmD3LNztGWrpvKMpr5QKzadZobyTC6Y4jRHUOXbassv/K87PDl36bZ4aGqsdSqq5W4O61R7NXGrZm2NcoXm2X92u3fW7XP6x0bN95qZaQ9Ln2/6Ha1Fe+ffq7IvxTXuDo3wr49L9paWb1ylfW4xyZZlo7tTr2F8Rwz+ycv+0aqdt3UKrdWGa1ep5tlAVds217+5nlPfPP8VttufPFY3Viq1dXLyb1So9jbbVutca8sq1qf17qemok3yeupUlcek2xFKwleRGSQdesxSRER6SIleBGRQCnBi4gESgleRCRQPfUhq5mtAE+1ePo4cCbBcHpJqG0LtV2gtvWrfmzbd7p71b8S7akE3w4zW6z1SXK/C7VtobYL1LZ+FVrbdItGRCRQSvAiIoEKKcHf3+0AUhRq20JtF6ht/SqotgVzD15ERC4X0jt4ERGpoAQvIhKovk/wZnbIzP7JzL5qZu/vdjztMLOXmNlnzexxM/uymb0r2r7bzP6fmT0R/X91t2NtlZllzOzzZjYfvb7ezB6J2van0doBfcfMdpnZg2Z2Mhq/V4cybmb2nuh6/JKZfcLMRvt13Mzsf5jZs2b2pYptVcfJyn4/yi0nzOyV3Yu8NX2d4M0sA3wI+GHgZcBPmNnLuhtVW9aB97r79wA3Az8Xtef9wGfc/UbgM9HrfvUuyusDbLoX+N2obf8CvLMrUbXvPuBhd78JmKLcxr4fNzO7Fvh5YNrdXw5kKC/e06/jNgcc2rat1jj9MHBj9O9O4MMdijExfZ3ggYPAV939n919DfgkcHuXY2qZu59290ejr1+gnCSupdymj0aHfRS4ozsRtsfMrgPeCDwQvTbgVuDB6JC+bJuZ7QReC3wEwN3X3P1bBDJulNdufpGZDQM54DR9Om7u/vfAc9s21xqn24GPedn/B3aZ2d7ORJqMfk/w1wJfr3h9KtrW98ysALwCeAR4sbufhvIPAeCa7kXWlt8D3gdcil7vAb4Vrf4F/Tt+LwVWgCPR7acHzCxPAOPm7t8Afht4mnJiPwccI4xx21RrnPo+v/R7gq+26mHfP/dpZmPAnwHvdvfnux1PEsxsBnjW3Y9Vbq5yaD+O3zDwSuDD7v4KYJU+vB1TTXQ/+nbgemASyFO+dbFdP45bI31/ffZ7gj8FvKTi9XXAcpdiSYSZ7aCc3D/u7g9Fm7+5+ath9P+z3YqvDbcAbzazJcq30m6l/I5+V/SrP/Tv+J0CTrn7I9HrBykn/BDG7Tbga+6+4u4XgYeA1xDGuG2qNU59n1/6PcEfBW6MPtEfofzhz6e7HFPLonvSHwEed/cPVuz6NPDT0dc/DfzvTsfWLne/292vc/cC5XH6W3f/SeCzwFujw/q1bc8AXzez7442vQF4jADGjfKtmZvNLBddn5tt6/txq1BrnD4N/FT0NM3NwLnNWzl9w937+h/wI8BXgCeBX+p2PG225fsp/wp4AvhC9O9HKN+r/gzwRPT/7m7H2mY7XwfMR1+/FFgAvgp8Csh2O74W2/R9wGI0dn8BXB3KuAG/CpwEvgT8CZDt13EDPkH5s4SLlN+hv7PWOFG+RfOhKLd8kfKTRF1vQzP/NFWBiEig+v0WjYiI1KAELyISKCV4EZFAKcGLiARKCV5EJFBK8CIRM/sVM/vFOvvv6PPJ7GTAKMGLxHcH5VlLRfqCnoOXgWZmvwT8FOVJpVYoT6R1jvL0sCOU/5DnP1L+Q6b5aN854C1RER8CJoAi8DPufrKT8YvUowQvA8vM/j3l+cFfRXnCsEeBPwSOuPvZ6JgPAN909z8wsznKf4H7YLTvM8DPuvsTZvYq4Dfd/dbOt0SkuuHGh4gE6weAP3f3IoCZbc5j9PIose8CxoC/2n5iNOPna4BPladoAcp/wi/SM5TgZdBV+xV2DrjD3Y+b2WHKc+dsN0R5TvTvSy80kfboQ1YZZH8P/KiZvcjMrgLeFG2/CjgdTd38kxXHvxDtw8vz9H/NzH4cttbvnOpc6CKN6R68DLSKD1mfojy74GOUF+x4X7Tti8BV7n7YzG4B/hgoUZ4q9xLldTr3AjuAT7r7r3W8ESI1KMGLiARKt2hERAKlBC8iEigleBGRQCnBi4gESgleRCRQSvAiIoFSghcRCdS/AvF9c1bSVE7mAAAAAElFTkSuQmCC\n",
      "text/plain": [
       "<Figure size 432x288 with 1 Axes>"
      ]
     },
     "metadata": {
      "needs_background": "light"
     },
     "output_type": "display_data"
    }
   ],
   "source": [
    "# test on county 53061 first\n",
    "\n",
    "test_data = [[], []]\n",
    "fips_list = list(data['fips'])\n",
    "dates_list = list(data['date_processed'])\n",
    "deaths_list = list(data['deaths'])\n",
    "\n",
    "for i in range(0, len(data)):\n",
    "    if fips_list[i] == 53061:\n",
    "        date = dates_list[i]\n",
    "        deaths = deaths_list[i]\n",
    "        test_data[0].append(date)\n",
    "        test_data[1].append(deaths)\n",
    "\n",
    "test_data = np.array(test_data).transpose()\n",
    "test_data = pd.DataFrame(test_data)\n",
    "test_data.columns = ['date', 'deaths']\n",
    "print(test_data)\n",
    "\n",
    "test_data.plot.scatter(x='date', y='deaths', s=50);"
   ]
  },
  {
   "cell_type": "code",
<<<<<<< HEAD
   "execution_count": null,
   "metadata": {},
   "outputs": [],
   "source": [
    "with pm.Model() as gaussian_model:\n",
    "\n",
    "    # Lengthscale\n",
    "    ρ = pm.HalfCauchy('ρ', 5)\n",
    "    η = pm.HalfCauchy('η', 5)\n",
    "    \n",
    "    M = pm.gp.mean.Linear(coeffs=(salmon_data.recruits/salmon_data.spawners).mean())\n",
    "    K = (η**2) * pm.gp.cov.ExpQuad(1, ρ) \n",
    "    \n",
    "    σ = pm.HalfNormal('σ', 50)\n",
    "    \n",
    "    recruit_gp = pm.gp.Marginal(mean_func=M, cov_func=K)\n",
    "    recruit_gp.marginal_likelihood('recruits', X=salmon_data.spawners.values.reshape(-1,1), \n",
    "                           y=salmon_data.recruits.values, noise=σ)\n",
=======
   "execution_count": 40,
   "metadata": {},
   "outputs": [
    {
     "name": "stdout",
     "output_type": "stream",
     "text": [
      "13.0\n"
     ]
    }
   ],
   "source": [
    "print(test_data.date[13])"
   ]
  },
  {
   "cell_type": "code",
   "execution_count": null,
   "metadata": {},
   "outputs": [],
   "source": []
  },
  {
   "cell_type": "code",
   "execution_count": 4,
   "metadata": {},
   "outputs": [],
   "source": [
    "with pm.Model() as covid_model:\n",
    "    \n",
    "    M = pm.gp.mean.Linear(coeffs=(test_data.deaths/test_data.date).mean())\n",
    "    \n",
    "    ρ = pm.HalfCauchy('ρ', test_data.deaths.max() / 5)\n",
    "    μ = pm.HalfCauchy('μ', 3)\n",
    "    K = (μ**2) * pm.gp.cov.ExpQuad(1, ρ) \n",
    "    σ = pm.Normal('σ', test_data.deaths.max() / 10)\n",
    "    \n",
    "    recruit_gp = pm.gp.Marginal(mean_func=M, cov_func=K)\n",
    "    recruit_gp.marginal_likelihood('deaths', X=test_data.date.values.reshape(-1,1), \n",
    "                           y=test_data.deaths.values, noise=σ)\n",
>>>>>>> 1c4f2e4f002e0dc6b68d84d52e0f1eb215fd95a6
    "    "
   ]
  },
  {
   "cell_type": "code",
   "execution_count": null,
   "metadata": {},
   "outputs": [],
<<<<<<< HEAD
   "source": []
=======
   "source": [
    "with covid_model:\n",
    "    gp_trace = pm.sample(1000, tune=2000)"
   ]
>>>>>>> 1c4f2e4f002e0dc6b68d84d52e0f1eb215fd95a6
  },
  {
   "cell_type": "code",
   "execution_count": null,
   "metadata": {},
   "outputs": [],
   "source": []
  },
  {
   "cell_type": "code",
   "execution_count": null,
   "metadata": {},
   "outputs": [],
   "source": []
  },
  {
   "cell_type": "code",
   "execution_count": null,
   "metadata": {},
   "outputs": [],
   "source": []
  },
  {
   "cell_type": "code",
   "execution_count": null,
   "metadata": {},
   "outputs": [],
   "source": []
  },
  {
   "cell_type": "code",
   "execution_count": null,
   "metadata": {},
   "outputs": [],
   "source": [
    "# modelling function"
   ]
  },
  {
   "cell_type": "code",
   "execution_count": 11,
   "metadata": {},
   "outputs": [
    {
     "data": {
      "text/html": [
       "<div>\n",
       "<style scoped>\n",
       "    .dataframe tbody tr th:only-of-type {\n",
       "        vertical-align: middle;\n",
       "    }\n",
       "\n",
       "    .dataframe tbody tr th {\n",
       "        vertical-align: top;\n",
       "    }\n",
       "\n",
       "    .dataframe thead th {\n",
       "        text-align: right;\n",
       "    }\n",
       "</style>\n",
       "<table border=\"1\" class=\"dataframe\">\n",
       "  <thead>\n",
       "    <tr style=\"text-align: right;\">\n",
       "      <th></th>\n",
       "      <th>fips</th>\n",
       "      <th>deaths</th>\n",
       "      <th>date_processed</th>\n",
       "    </tr>\n",
       "  </thead>\n",
       "  <tbody>\n",
       "    <tr>\n",
       "      <th>0</th>\n",
       "      <td>53061</td>\n",
       "      <td>0.0</td>\n",
       "      <td>0.0</td>\n",
       "    </tr>\n",
       "    <tr>\n",
       "      <th>1</th>\n",
       "      <td>53061</td>\n",
       "      <td>0.0</td>\n",
       "      <td>1.0</td>\n",
       "    </tr>\n",
       "    <tr>\n",
       "      <th>2</th>\n",
       "      <td>53061</td>\n",
       "      <td>0.0</td>\n",
       "      <td>2.0</td>\n",
       "    </tr>\n",
       "    <tr>\n",
       "      <th>3</th>\n",
       "      <td>53061</td>\n",
       "      <td>0.0</td>\n",
       "      <td>3.0</td>\n",
       "    </tr>\n",
       "    <tr>\n",
       "      <th>4</th>\n",
       "      <td>53061</td>\n",
       "      <td>0.0</td>\n",
       "      <td>4.0</td>\n",
       "    </tr>\n",
       "  </tbody>\n",
       "</table>\n",
       "</div>"
      ],
      "text/plain": [
       "    fips  deaths  date_processed\n",
       "0  53061     0.0             0.0\n",
       "1  53061     0.0             1.0\n",
       "2  53061     0.0             2.0\n",
       "3  53061     0.0             3.0\n",
       "4  53061     0.0             4.0"
      ]
     },
     "execution_count": 11,
     "metadata": {},
     "output_type": "execute_result"
    }
   ],
   "source": [
    "# get fips codes\n",
    "fips_codes = []\n",
    "\n",
    "# for each fips code, train a model, get predictions til june 30th, write to a csv"
   ]
  },
  {
   "cell_type": "code",
   "execution_count": null,
   "metadata": {},
   "outputs": [],
   "source": []
  }
 ],
 "metadata": {
  "kernelspec": {
   "display_name": "Python 3",
   "language": "python",
   "name": "python3"
  },
  "language_info": {
   "codemirror_mode": {
    "name": "ipython",
    "version": 3
   },
   "file_extension": ".py",
   "mimetype": "text/x-python",
   "name": "python",
   "nbconvert_exporter": "python",
   "pygments_lexer": "ipython3",
   "version": "3.7.7"
  }
 },
 "nbformat": 4,
 "nbformat_minor": 4
}
