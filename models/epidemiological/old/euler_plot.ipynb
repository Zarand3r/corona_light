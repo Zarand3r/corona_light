{
 "cells": [
  {
   "cell_type": "code",
   "execution_count": 1,
   "metadata": {},
   "outputs": [],
   "source": [
    "import numpy as np\n",
    "import math\n",
    "import matplotlib.pyplot as plt\n",
    "%matplotlib inline"
   ]
  },
  {
   "cell_type": "code",
   "execution_count": 36,
   "metadata": {},
   "outputs": [
    {
     "name": "stdout",
     "output_type": "stream",
     "text": [
      "Values of P,E,C,A,I,R after 200 time intervals\n",
      "601667.8021369934\n",
      "7537.709093553007\n",
      "0.0008086572038681725\n",
      "0.05422592108142593\n",
      "0.05422592108142593\n",
      "367761.7551292989\n"
     ]
    },
    {
     "data": {
      "image/png": "[encoded data removed]",
      "text/plain": [
       "<Figure size 432x288 with 1 Axes>"
      ]
     },
     "metadata": {
      "needs_background": "light"
     },
     "output_type": "display_data"
    }
   ],
   "source": [
    "a1 = 0.5\n",
    "a2 = 0.5\n",
    "b1 = 1\n",
    "b2 = 1\n",
    "b3 = 0.1\n",
    "c1 = 0.5\n",
    "c2 = 0.5\n",
    "d1 = 0.1\n",
    "d2 = 0.1\n",
    "\n",
    "T = np.linspace(0, 200, num=200)\n",
    "intervals = len(T)\n",
    "P_list = np.zeros(intervals)\n",
    "E_list = np.zeros(intervals)\n",
    "C_list = np.zeros(intervals)\n",
    "A_list = np.zeros(intervals)\n",
    "I_list = np.zeros(intervals)\n",
    "R_list = np.zeros(intervals)\n",
    "\n",
    "P = 750000\n",
    "E = 250000\n",
    "C = 10\n",
    "A = 10\n",
    "I = 10\n",
    "R = 0\n",
    "N = P+E+C+A+I+R\n",
    "\n",
    "for i,t in enumerate(T):\n",
    "    if i > 0:\n",
    "        P += -(a1+a2)*C*P/N\n",
    "        E += -(b1*A+b2*I)*(E/N)+b3*C\n",
    "        C += -(c1+c2)*C +(b1*A+b2*I)*(E/N)-b3*C\n",
    "        A += (a1*C*P/N)+c1*C-d1*A\n",
    "        I += (a2*C*P/N)+c2*C-d2*I\n",
    "        R += d1*A+d2*I\n",
    "    P_list[i] = P\n",
    "    E_list[i] = E\n",
    "    C_list[i] = C\n",
    "    A_list[i] = A\n",
    "    I_list[i] = I\n",
    "    R_list[i] = R\n",
    "\n",
    "plt.plot(T, P_list)\n",
    "plt.plot(T, E_list)\n",
    "plt.plot(T, C_list)\n",
    "plt.plot(T, A_list)\n",
    "plt.plot(T, I_list)\n",
    "plt.plot(T, R_list)\n",
    "\n",
    "print(\"Values of P,E,C,A,I,R after 200 time intervals\")\n",
    "print(P_list[-1])\n",
    "print(E_list[-1])\n",
    "print(C_list[-1])\n",
    "print(A_list[-1])\n",
    "print(I_list[-1])\n",
    "print(R_list[-1])"
   ]
  },
  {
   "cell_type": "code",
   "execution_count": null,
   "metadata": {},
   "outputs": [],
   "source": []
  }
 ],
 "metadata": {
  "kernelspec": {
   "display_name": "Python 3",
   "language": "python",
   "name": "python3"
  },
  "language_info": {
   "codemirror_mode": {
    "name": "ipython",
    "version": 3
   },
   "file_extension": ".py",
   "mimetype": "text/x-python",
   "name": "python",
   "nbconvert_exporter": "python",
   "pygments_lexer": "ipython3",
   "version": "3.6.8"
  }
 },
 "nbformat": 4,
 "nbformat_minor": 2
}
