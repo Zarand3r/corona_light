{
 "cells": [
  {
   "cell_type": "code",
   "execution_count": 1,
   "metadata": {},
   "outputs": [],
   "source": [
    "import pandas as pd\n",
    "import math\n",
    "import git\n",
    "import sys\n",
    "import statistics\n",
    "repo = git.Repo(\"./\", search_parent_directories=True)\n",
    "homedir = repo.working_dir\n",
    "data = pd.read_csv('modified_submission2.csv')\n",
    "data.to_csv('modified_submission3.csv', index=False)"
   ]
  },
  {
   "cell_type": "code",
   "execution_count": 2,
   "metadata": {},
   "outputs": [],
   "source": [
    "df = pd.read_csv('modified_submission3.csv').set_index('id').sort_index()\n",
    "sample_submission = pd.read_csv(f\"{homedir}/sample_submission.csv\").set_index('id').sort_index()"
   ]
  },
  {
   "cell_type": "code",
   "execution_count": 3,
   "metadata": {},
   "outputs": [
    {
     "data": {
      "text/plain": [
       "False"
      ]
     },
     "execution_count": 3,
     "metadata": {},
     "output_type": "execute_result"
    }
   ],
   "source": [
    "df.isnull().values.any()"
   ]
  },
  {
   "cell_type": "code",
   "execution_count": 4,
   "metadata": {},
   "outputs": [
    {
     "name": "stdout",
     "output_type": "stream",
     "text": [
      "True\n"
     ]
    }
   ],
   "source": [
    "print(df.index.equals(sample_submission.index))"
   ]
  },
  {
   "cell_type": "code",
   "execution_count": 5,
   "metadata": {},
   "outputs": [
    {
     "name": "stdout",
     "output_type": "stream",
     "text": [
      "True\n"
     ]
    }
   ],
   "source": [
    "df1 = pd.read_csv('formatted_submission.csv').set_index('id').sort_index()\n",
    "df1.isnull().values.any()\n",
    "print(df1.index.equals(sample_submission.index))"
   ]
  },
  {
   "cell_type": "code",
   "execution_count": 6,
   "metadata": {},
   "outputs": [],
   "source": [
    "def get_date(str1):\n",
    "    counter = 0\n",
    "    month = \"\"\n",
    "    day = \"\"\n",
    "    for x in str1:\n",
    "        if counter == 1:\n",
    "            month += x\n",
    "        elif counter == 2:\n",
    "            day += x\n",
    "        if x == '-':\n",
    "            counter += 1\n",
    "    month = month[:-1]\n",
    "    day = day[:-1]\n",
    "    return (month, day)  \n",
    "\n",
    "def get_fips(code):\n",
    "    counter = 0\n",
    "    fips = \"\"\n",
    "    for x in code:\n",
    "        if counter == 3:\n",
    "            fips += x\n",
    "        if x == '-':\n",
    "            counter += 1\n",
    "    return fips"
   ]
  },
  {
   "cell_type": "code",
   "execution_count": 7,
   "metadata": {},
   "outputs": [],
   "source": [
    "for row in df1.iterrows():\n",
    "    row0 = row[0]\n",
    "    row = row[1]\n",
    "    for i in range(0, 9):\n",
    "        if row[i] > 1000000:\n",
    "            print(row0)"
   ]
  },
  {
   "cell_type": "code",
   "execution_count": 8,
   "metadata": {},
   "outputs": [
    {
     "name": "stdout",
     "output_type": "stream",
     "text": [
      "2020-04-09-36061\n",
      "2020-04-10-36061\n",
      "2020-04-11-36061\n",
      "2020-04-12-36061\n",
      "2020-04-13-36061\n",
      "2020-04-14-36061\n",
      "2020-04-15-36061\n",
      "2020-04-16-36061\n",
      "2020-04-17-36061\n",
      "2020-04-18-36061\n",
      "2020-04-19-36061\n",
      "2020-04-20-36061\n",
      "2020-04-21-36061\n",
      "2020-04-22-36061\n",
      "2020-04-23-36061\n",
      "2020-04-24-36061\n",
      "2020-04-25-36061\n",
      "2020-04-26-36061\n",
      "2020-04-27-36061\n",
      "2020-04-28-36061\n",
      "2020-04-29-36061\n",
      "2020-04-30-36061\n",
      "2020-05-01-36061\n",
      "2020-05-02-36061\n",
      "2020-05-03-36061\n",
      "2020-05-04-36061\n",
      "2020-05-05-36061\n",
      "2020-05-06-36061\n",
      "2020-05-07-36061\n",
      "2020-05-08-36061\n",
      "2020-05-09-36061\n",
      "2020-05-10-36061\n",
      "2020-05-10-42011\n"
     ]
    }
   ],
   "source": [
    "counter = 0\n",
    "for row in df1.iterrows():\n",
    "    row0 = row[0]\n",
    "    row = row[1]\n",
    "    \n",
    "    date = get_date(row0)\n",
    "    if int(date[0]) == 5:\n",
    "        if int(date[1]) > 10:\n",
    "            break\n",
    "        \n",
    "    elif int(date[0]) > 5:\n",
    "        break\n",
    "    \n",
    "    badRow = False\n",
    "    if row[-1] > 5000:\n",
    "        badRow = True\n",
    "    if badRow == True:\n",
    "        counter += 1\n",
    "        print(row0)\n",
    "    \"\"\"\n",
    "    if row[0] == 0 and row[8] > 1000:\n",
    "        print(row0)\n",
    "    \"\"\""
   ]
  },
  {
   "cell_type": "markdown",
   "metadata": {},
   "source": [
    "The counties with predicted deaths > 10000 at some point in the next two weeks are\n",
    "1. 36061, this is alright since it is new york\n",
    "2. 21207, russell county kentucky which has 0 deaths so far and less than 20 cases...makes no sense\n",
    "3. 1037, coosa county alabama which is rural having 25 cases and 1 death...makes no sense\n",
    "4. 48107,crosby county texas which has 1 case and 1 death ... makes no sense\n",
    "3. 18031. decatur county which is pretty bad, 194 cases and 26 deaths, I could believe it. Dividing by 100\n",
    "So we set the values to \"3\" for 21207, \"3\" for 1037 and \"3\" for 48107\n",
    "Additional counties with predicted deaths > 5000 at some point in the next two weeks are\n",
    "1. 42055. franklin county pa which has 152 cases and 10 deaths, I could believe it. Dividng by 100\n",
    "2. 47159. smith county tennessee which has 19 cases and 1 death...setting values to \"3\"\n"
   ]
  },
  {
   "cell_type": "markdown",
   "metadata": {},
   "source": [
    "Counties with largest prediction > 5000:\n",
    "1. 5061: hempstead county -> 2-3 category\n",
    "2. 21207: russell county kentucky -> 2-3 category\n",
    "3. 39075: holmes county oh -> 2-3 category\n",
    "4. 48365: panola county texas -> 5-10 category\n",
    "5. 42011: berks county pa. This is legit"
   ]
  },
  {
   "cell_type": "code",
   "execution_count": 9,
   "metadata": {},
   "outputs": [
    {
     "name": "stdout",
     "output_type": "stream",
     "text": [
      "33\n"
     ]
    }
   ],
   "source": [
    "print(counter)"
   ]
  },
  {
   "cell_type": "code",
   "execution_count": 10,
   "metadata": {},
   "outputs": [
    {
     "name": "stdout",
     "output_type": "stream",
     "text": [
      "3.0\n"
     ]
    }
   ],
   "source": [
    "from scipy.stats import norm\n",
    "from scipy import stats\n",
    "mean, sigma = 3.0, 0.5\n",
    "\n",
    "conf_int = stats.norm.interval(0.0, loc=mean, \n",
    "    scale=sigma)\n",
    "\n",
    "print(conf_int[0])"
   ]
  },
  {
   "cell_type": "code",
   "execution_count": 11,
   "metadata": {},
   "outputs": [
    {
     "ename": "TypeError",
     "evalue": "ppf() missing 1 required positional argument: 'q'",
     "output_type": "error",
     "traceback": [
      "\u001b[1;31m---------------------------------------------------------------------------\u001b[0m",
      "\u001b[1;31mTypeError\u001b[0m                                 Traceback (most recent call last)",
      "\u001b[1;32m<ipython-input-11-af04da9eb3b9>\u001b[0m in \u001b[0;36m<module>\u001b[1;34m\u001b[0m\n\u001b[1;32m----> 1\u001b[1;33m \u001b[0mnorm\u001b[0m\u001b[1;33m.\u001b[0m\u001b[0mppf\u001b[0m\u001b[1;33m(\u001b[0m\u001b[1;33m)\u001b[0m\u001b[1;33m\u001b[0m\u001b[1;33m\u001b[0m\u001b[0m\n\u001b[0m",
      "\u001b[1;31mTypeError\u001b[0m: ppf() missing 1 required positional argument: 'q'"
     ]
    }
   ],
   "source": [
    "norm.ppf()"
   ]
  },
  {
   "cell_type": "code",
   "execution_count": null,
   "metadata": {},
   "outputs": [],
   "source": [
    "min(34, 5)"
   ]
  }
 ],
 "metadata": {
  "kernelspec": {
   "display_name": "Python 3",
   "language": "python",
   "name": "python3"
  },
  "language_info": {
   "codemirror_mode": {
    "name": "ipython",
    "version": 3
   },
   "file_extension": ".py",
   "mimetype": "text/x-python",
   "name": "python",
   "nbconvert_exporter": "python",
   "pygments_lexer": "ipython3",
   "version": "3.7.7"
  }
 },
 "nbformat": 4,
 "nbformat_minor": 4
}
