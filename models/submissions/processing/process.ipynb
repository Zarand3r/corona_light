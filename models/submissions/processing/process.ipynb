{
 "cells": [
  {
   "cell_type": "code",
   "execution_count": 4,
   "metadata": {},
   "outputs": [],
   "source": [
    "import pandas as pd\n",
    "import numpy as np\n",
    "import matplotlib.pyplot as plt\n",
    "import datetime\n",
    "import csv\n",
    "from datetime import timedelta\n",
    "\n",
    "import git\n",
    "import sys\n",
    "repo = git.Repo(\"./\", search_parent_directories=True)\n",
    "homedir = repo.working_dir\n",
    "# FIXES NANs\n",
    "\n",
    "def fix_nans(submission, save=False):\n",
    "\tsubmission.fillna(method='ffill', inplace=True)\n",
    "\tnum = submission._get_numeric_data()\n",
    "\tnum[num < 0.1] = 0\n",
    "\tif save:\n",
    "\t\tsubmission.to_csv(\"modified_submission.csv\", index=False)\n",
    "\n",
    "def reformat(file1, file2, save=True):\n",
    "\tsubmission = pd.read_csv(file1, index_col=False)\n",
    "\tmodified_submission = pd.read_csv(file2, index_col=False)\n",
    "\tfix_nans(submission)\n",
    "\tfor index, row in modified_submission.iterrows():\n",
    "\t\tcurrent_id = row[\"id\"]\n",
    "\t\treplacement = [current_id, 0, 0, 0, 0, 0, 0, 0, 0, 0]\n",
    "\t\tforecast = submission[submission[\"id\"]==current_id].values\n",
    "\t\tif len(forecast) > 0:\n",
    "\t\t\treplacement = forecast[0]\n",
    "\t\tmodified_submission.loc[index] = replacement\n",
    "\t\t# modified_submission.loc[index, \"id\"] = (submission[submission[\"id\"]==current_id]).values[0]\n",
    "\tif save:\n",
    "\t\tmodified_submission.to_csv(\"modified_submission.csv\", index=False)\n",
    "\n",
    "def reformat2(file1, file2, save=True):\n",
    "\tsubmission = pd.read_csv(file1, index_col=False)\n",
    "\tmodified_submission = pd.read_csv(file2, index_col=False)\n",
    "\tfix_nans(submission)\n",
    "\n",
    "\tfinal_submission = []\n",
    "\n",
    "\tforecast_dict = {}\n",
    "\tfor index, row in submission.iterrows():\n",
    "\t\tcurrent_id = row[\"id\"]\n",
    "\t\tforecast_dict[current_id] = row.values\n",
    "\n",
    "\tfor index, row in modified_submission.iterrows():\n",
    "\t\tcurrent_id = row[\"id\"]\n",
    "\t\treplacement = forecast_dict.pop(current_id, [current_id, 0, 0, 0, 0, 0, 0, 0, 0, 0]) \n",
    "\t\tfinal_submission.append(replacement)\n",
    "\n",
    "\tif save:\n",
    "\t\theader = [\"id\", \"10\", \"20\", \"30\", \"40\", \"50\", \"60\", \"70\", \"80\", \"90\"]\n",
    "\t\twith open('modified_submission2.csv', 'w') as submission_file:\n",
    "\t\t\twriter = csv.writer(submission_file, delimiter=',')\n",
    "\t\t\twriter.writerow(header)\n",
    "\t\t\twriter.writerows(final_submission)\n",
    "            \n",
    "            \n",
    "\n",
    "if __name__ == '__main__':\n",
    "\n",
    "\treformat2(\"../submission1.csv\", f\"{homedir}/sample_submission.csv\")\n"
   ]
  },
  {
   "cell_type": "code",
   "execution_count": null,
   "metadata": {},
   "outputs": [],
   "source": [
    "import csv"
   ]
  }
 ],
 "metadata": {
  "kernelspec": {
   "display_name": "Python 3",
   "language": "python",
   "name": "python3"
  },
  "language_info": {
   "codemirror_mode": {
    "name": "ipython",
    "version": 3
   },
   "file_extension": ".py",
   "mimetype": "text/x-python",
   "name": "python",
   "nbconvert_exporter": "python",
   "pygments_lexer": "ipython3",
   "version": "3.7.7"
  }
 },
 "nbformat": 4,
 "nbformat_minor": 4
}
