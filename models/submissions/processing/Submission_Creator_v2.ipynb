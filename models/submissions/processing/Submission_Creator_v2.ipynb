{
 "cells": [
  {
   "cell_type": "code",
   "execution_count": 11,
   "metadata": {},
   "outputs": [],
   "source": [
    "import pandas as pd\n",
    "import numpy as np\n",
    "import os\n",
    "import datetime"
   ]
  },
  {
   "cell_type": "code",
   "execution_count": 12,
   "metadata": {},
   "outputs": [],
   "source": [
    "# hashtable with month and number of days in the month\n",
    "maxMonth = {1:31, 2:29, 3:31, 4:30, 5:31, 6:30, 7:31, 8:31, 9:30, 10:31, 11:30, 12:31}\n",
    "\n",
    "# gets next day, needed because the current day could be the last of the month\n",
    "def next_day(current_day):\n",
    "    # assumes that everything is in 2020\n",
    "    if current_day.day < maxMonth[current_day.month]:\n",
    "        return datetime.datetime(2020, current_day.month, current_day.day + 1)\n",
    "    else:\n",
    "        return datetime.datetime(2020, current_day.month + 1, 1)\n",
    "\n",
    "# we want formatting in the form 2020-04-01, with 0s before months, days < 10\n",
    "def formatter(numb):\n",
    "    if numb < 10:\n",
    "        return \"0\" + str(numb)\n",
    "    else:\n",
    "        return str(numb)"
   ]
  },
  {
   "cell_type": "code",
   "execution_count": 13,
   "metadata": {},
   "outputs": [],
   "source": [
    "def format_submission(dates, death_errors, start, fips):\n",
    "    dates = dates.tolist()\n",
    "    \n",
    "    # swap columns and rows for death_errors\n",
    "    death_errors = np.array(death_errors)\n",
    "    death_errors = death_errors.T\n",
    "    death_errors = death_errors.tolist()\n",
    "    \n",
    "    # adding to dates so lengths match up\n",
    "    final_date = dates[-1]\n",
    "    while len(dates) < len(death_errors):\n",
    "        dates.append(next_day(final_date))\n",
    "        final_date = dates[-1]\n",
    "    \n",
    "    #print(dates)\n",
    "    #print(death_errors)\n",
    "    \n",
    "    # trim both lists so they begin with date represented by start\n",
    "    # assumes the lists begin originally at the same place\n",
    "    start_index = -1\n",
    "    for i in range(0, len(dates)):\n",
    "        current_day = dates[i]\n",
    "        if current_day.month == start.month and current_day.day == start.day:\n",
    "            start_index = i\n",
    "            break\n",
    "    if start_index == -1: # start doesn't exist in dates\n",
    "        raise Exception(\"start date not present\")\n",
    "        \n",
    "    dates = dates[start_index:]\n",
    "    death_errors = death_errors[start_index:]\n",
    "    \n",
    "    # convert dates from datetime to string, add fips code\n",
    "    for i in range(len(dates)):\n",
    "        day = dates[i]\n",
    "        day_format = '{year}-{month}-{day}-{fips}'.format(year = day.year,\n",
    "                                                          month = formatter(day.month), \n",
    "                                                          day = formatter(day.day), \n",
    "                                                          fips = fips)\n",
    "        dates[i] = day_format\n",
    "        if i < len(death_errors):\n",
    "            death_errors[i].insert(0, dates[i])\n",
    "        \n",
    "    return death_errors"
   ]
  },
  {
   "cell_type": "code",
   "execution_count": 14,
   "metadata": {},
   "outputs": [
    {
     "name": "stdout",
     "output_type": "stream",
     "text": [
      "31\n",
      "[['2020-04-01-36061', 0, 1, 2, 3, 4, 5, 6, 7, 8, 9], ['2020-04-02-36061', 0, 1, 2, 3, 4, 5, 6, 7, 8, 9], ['2020-04-03-36061', 0, 1, 2, 3, 4, 5, 6, 7, 8, 9], ['2020-04-04-36061', 0, 1, 2, 3, 4, 5, 6, 7, 8, 9], ['2020-04-05-36061', 0, 1, 2, 3, 4, 5, 6, 7, 8, 9], ['2020-04-06-36061', 0, 1, 2, 3, 4, 5, 6, 7, 8, 9], ['2020-04-07-36061', 0, 1, 2, 3, 4, 5, 6, 7, 8, 9], ['2020-04-08-36061', 0, 1, 2, 3, 4, 5, 6, 7, 8, 9], ['2020-04-09-36061', 0, 1, 2, 3, 4, 5, 6, 7, 8, 9], ['2020-04-10-36061', 0, 1, 2, 3, 4, 5, 6, 7, 8, 9], ['2020-04-11-36061', 0, 1, 2, 3, 4, 5, 6, 7, 8, 9], ['2020-04-12-36061', 0, 1, 2, 3, 4, 5, 6, 7, 8, 9], ['2020-04-13-36061', 0, 1, 2, 3, 4, 5, 6, 7, 8, 9], ['2020-04-14-36061', 0, 1, 2, 3, 4, 5, 6, 7, 8, 9], ['2020-04-15-36061', 0, 1, 2, 3, 4, 5, 6, 7, 8, 9], ['2020-04-16-36061', 0, 1, 2, 3, 4, 5, 6, 7, 8, 9], ['2020-04-17-36061', 0, 1, 2, 3, 4, 5, 6, 7, 8, 9], ['2020-04-18-36061', 0, 1, 2, 3, 4, 5, 6, 7, 8, 9], ['2020-04-19-36061', 0, 1, 2, 3, 4, 5, 6, 7, 8, 9], ['2020-04-20-36061', 0, 1, 2, 3, 4, 5, 6, 7, 8, 9], ['2020-04-21-36061', 0, 1, 2, 3, 4, 5, 6, 7, 8, 9], ['2020-04-22-36061', 0, 1, 2, 3, 4, 5, 6, 7, 8, 9], ['2020-04-23-36061', 0, 1, 2, 3, 4, 5, 6, 7, 8, 9], ['2020-04-24-36061', 0, 1, 2, 3, 4, 5, 6, 7, 8, 9], ['2020-04-25-36061', 0, 1, 2, 3, 4, 5, 6, 7, 8, 9], ['2020-04-26-36061', 0, 1, 2, 3, 4, 5, 6, 7, 8, 9], ['2020-04-27-36061', 0, 1, 2, 3, 4, 5, 6, 7, 8, 9], ['2020-04-28-36061', 0, 1, 2, 3, 4, 5, 6, 7, 8, 9], ['2020-04-29-36061', 0, 1, 2, 3, 4, 5, 6, 7, 8, 9], ['2020-04-30-36061', 0, 1, 2, 3, 4, 5, 6, 7, 8, 9], ['2020-05-01-36061', 0, 1, 2, 3, 4, 5, 6, 7, 8, 9], ['2020-05-02-36061', 0, 1, 2, 3, 4, 5, 6, 7, 8, 9], ['2020-05-03-36061', 0, 1, 2, 3, 4, 5, 6, 7, 8, 9], ['2020-05-04-36061', 0, 1, 2, 3, 4, 5, 6, 7, 8, 9], ['2020-05-05-36061', 0, 1, 2, 3, 4, 5, 6, 7, 8, 9], ['2020-05-06-36061', 0, 1, 2, 3, 4, 5, 6, 7, 8, 9], ['2020-05-07-36061', 0, 1, 2, 3, 4, 5, 6, 7, 8, 9], ['2020-05-08-36061', 0, 1, 2, 3, 4, 5, 6, 7, 8, 9], ['2020-05-09-36061', 0, 1, 2, 3, 4, 5, 6, 7, 8, 9], ['2020-05-10-36061', 0, 1, 2, 3, 4, 5, 6, 7, 8, 9], ['2020-05-11-36061', 0, 1, 2, 3, 4, 5, 6, 7, 8, 9], ['2020-05-12-36061', 0, 1, 2, 3, 4, 5, 6, 7, 8, 9], ['2020-05-13-36061', 0, 1, 2, 3, 4, 5, 6, 7, 8, 9], ['2020-05-14-36061', 0, 1, 2, 3, 4, 5, 6, 7, 8, 9], ['2020-05-15-36061', 0, 1, 2, 3, 4, 5, 6, 7, 8, 9], ['2020-05-16-36061', 0, 1, 2, 3, 4, 5, 6, 7, 8, 9], ['2020-05-17-36061', 0, 1, 2, 3, 4, 5, 6, 7, 8, 9], ['2020-05-18-36061', 0, 1, 2, 3, 4, 5, 6, 7, 8, 9], ['2020-05-19-36061', 0, 1, 2, 3, 4, 5, 6, 7, 8, 9], ['2020-05-20-36061', 0, 1, 2, 3, 4, 5, 6, 7, 8, 9], ['2020-05-21-36061', 0, 1, 2, 3, 4, 5, 6, 7, 8, 9], ['2020-05-22-36061', 0, 1, 2, 3, 4, 5, 6, 7, 8, 9], ['2020-05-23-36061', 0, 1, 2, 3, 4, 5, 6, 7, 8, 9], ['2020-05-24-36061', 0, 1, 2, 3, 4, 5, 6, 7, 8, 9], ['2020-05-25-36061', 0, 1, 2, 3, 4, 5, 6, 7, 8, 9], ['2020-05-26-36061', 0, 1, 2, 3, 4, 5, 6, 7, 8, 9], ['2020-05-27-36061', 0, 1, 2, 3, 4, 5, 6, 7, 8, 9], ['2020-05-28-36061', 0, 1, 2, 3, 4, 5, 6, 7, 8, 9], ['2020-05-29-36061', 0, 1, 2, 3, 4, 5, 6, 7, 8, 9], ['2020-05-30-36061', 0, 1, 2, 3, 4, 5, 6, 7, 8, 9], ['2020-05-31-36061', 0, 1, 2, 3, 4, 5, 6, 7, 8, 9], ['2020-06-01-36061', 0, 1, 2, 3, 4, 5, 6, 7, 8, 9], ['2020-06-02-36061', 0, 1, 2, 3, 4, 5, 6, 7, 8, 9], ['2020-06-03-36061', 0, 1, 2, 3, 4, 5, 6, 7, 8, 9], ['2020-06-04-36061', 0, 1, 2, 3, 4, 5, 6, 7, 8, 9], ['2020-06-05-36061', 0, 1, 2, 3, 4, 5, 6, 7, 8, 9], ['2020-06-06-36061', 0, 1, 2, 3, 4, 5, 6, 7, 8, 9], ['2020-06-07-36061', 0, 1, 2, 3, 4, 5, 6, 7, 8, 9], ['2020-06-08-36061', 0, 1, 2, 3, 4, 5, 6, 7, 8, 9]]\n"
     ]
    }
   ],
   "source": [
    "import git\n",
    "import sys\n",
    "repo = git.Repo(\"./\", search_parent_directories=True)\n",
    "homedir = repo.working_dir\n",
    "sys.path.insert(1, f\"{homedir}\" + '/models/data_processing')\n",
    "import loader\n",
    "\n",
    "us = loader.load_data(\"/models/epidemiological/us_training_data.csv\")\n",
    "fips = 36061\n",
    "county_data = loader.query(us, \"fips\", fips)\n",
    "start = datetime.datetime(2020, 4, 1)\n",
    "dates = pd.to_datetime(county_data[\"date\"].values)\n",
    "#death_errors = np.array([[1,2,3,4,5,6,7,8,9] for i in range(100)])\n",
    "death_errors = np.array([[i] * 100 for i in range(10)])\n",
    "\n",
    "print(format_submission(dates, death_errors, start, fips))"
   ]
  }
 ],
 "metadata": {
  "kernelspec": {
   "display_name": "Python 3",
   "language": "python",
   "name": "python3"
  },
  "language_info": {
   "codemirror_mode": {
    "name": "ipython",
    "version": 3
   },
   "file_extension": ".py",
   "mimetype": "text/x-python",
   "name": "python",
   "nbconvert_exporter": "python",
   "pygments_lexer": "ipython3",
   "version": "3.7.7"
  }
 },
 "nbformat": 4,
 "nbformat_minor": 4
}
