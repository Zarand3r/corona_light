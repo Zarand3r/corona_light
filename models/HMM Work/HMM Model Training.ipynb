{
 "cells": [
  {
   "cell_type": "code",
   "execution_count": 1,
   "metadata": {},
   "outputs": [],
   "source": [
    "import pandas as pd\n",
    "import numpy as np\n",
    "import os\n",
    "import datetime\n",
    "from HMM import unsupervised_HMM\n",
    "from HMM import supervised_HMM\n",
    "from HMM_helper import sample_sentence\n"
   ]
  },
  {
   "cell_type": "code",
   "execution_count": 2,
   "metadata": {},
   "outputs": [],
   "source": [
    "import git\n",
    "import sys\n",
    "repo = git.Repo(\"./\", search_parent_directories=True)\n",
    "homedir = repo.working_dir"
   ]
  },
  {
   "cell_type": "code",
   "execution_count": 4,
   "metadata": {},
   "outputs": [],
   "source": [
    "def makeHMMUnSupData(Input, colname, fipsname):\n",
    "    #Takes input dataframe, and gives out HMM format of data, a list of lists \n",
    "    #of the colname value, each list in the set represents one fips code.\n",
    "    Output = []\n",
    "    for fips in Input[fipsname].unique():\n",
    "        temp = list(Input[Input[fipsname] == fips][colname])\n",
    "        Output.append(temp)\n",
    "    return Output"
   ]
  },
  {
   "cell_type": "code",
   "execution_count": 5,
   "metadata": {},
   "outputs": [],
   "source": [
    "def makeHMMmap(Output):\n",
    "    #Takes in output of makeHMMUnSupData and transforms data into list from 0 to D-1, where D is the number of unique\n",
    "    #values of the output\n",
    "    #Unqiue values in the input\n",
    "    UniqueVals = np.array(list(set(x for l in Output for x in l)))\n",
    "    UniqueVals = np.sort(UniqueVals)\n",
    "    HMMOutput = []\n",
    "    templs = []\n",
    "    Map = {}\n",
    "    RMap = {}\n",
    "    for x in range(len(UniqueVals)):\n",
    "        Map[int(UniqueVals[x])] = x\n",
    "        RMap[x] = int(UniqueVals[x])\n",
    "    for ls in Output:\n",
    "        for val in ls:\n",
    "            templs.append(Map[val])\n",
    "        HMMOutput.append(templs)\n",
    "        templs = []\n",
    "    return [Map,RMap,HMMOutput]"
   ]
  },
  {
   "cell_type": "code",
   "execution_count": 6,
   "metadata": {},
   "outputs": [],
   "source": [
    "def makeHMMSupData(UnSupData):\n",
    "    #Takes list of lists of time series data from makeHMMUnSupData and makes it into data with X and Y\n",
    "    X = []\n",
    "    Y = []\n",
    "    tempX = []\n",
    "    tempY = []\n",
    "    for ls in UnSupData:\n",
    "        lenls = len(ls)\n",
    "        for n in range(lenls):            \n",
    "            if n == 0:\n",
    "                tempX.append(ls[n])\n",
    "            elif n == lenls - 1:\n",
    "                tempY.append(ls[n])\n",
    "            else:\n",
    "                tempX.append(ls[n])\n",
    "                tempY.append(ls[n])\n",
    "        if len(tempX) != 0 and len(tempY) != 0:\n",
    "            X.append(tempX)\n",
    "            Y.append(tempY)\n",
    "        tempX = []\n",
    "        tempY = []   \n",
    "    return [X,Y]"
   ]
  },
  {
   "cell_type": "code",
   "execution_count": 7,
   "metadata": {},
   "outputs": [],
   "source": [
    "#Differenced Daily Death Data\n",
    "NYT_daily = pd.read_csv(f\"{homedir}/data/us/covid/nyt_us_counties_daily.csv\")\n",
    "NYT_daily = NYT_daily.drop(columns=['county','state']).sort_values(['fips','date']).reset_index(drop=True)\n",
    "NYT_daily['fips'] = NYT_daily.fips.astype(int)\n",
    "NYT_daily['date'] = pd.to_datetime(NYT_daily['date'])\n",
    "NYT_daily['id'] = NYT_daily.fips.astype(str).str.cat(NYT_daily.date.astype(str), sep=', ')\n"
   ]
  },
  {
   "cell_type": "code",
   "execution_count": 10,
   "metadata": {},
   "outputs": [],
   "source": [
    "#This is just a testing file so far, because our actual HMM clusterings are not available\n",
    "#Maknig basic list of list data from the direct NYT Data (no clustering we just take the whole dataset)\n",
    "DailyDeathUnSup = makeHMMUnSupData(NYT_daily, 'deaths', 'fips')\n",
    "#Making the mapping of number of deaths to HMM states\n",
    "[DailyDeathMap, DailyDeathRMap, DailyDeathUnSupHMM] = makeHMMmap(DailyDeathUnSup)\n",
    "#Making supervised X and Y datasets\n",
    "DailyDeathSup = makeHMMSupData(DailyDeathUnSupHMM)"
   ]
  },
  {
   "cell_type": "code",
   "execution_count": 11,
   "metadata": {},
   "outputs": [
    {
     "data": {
      "text/plain": [
       "<HMM.HiddenMarkovModel at 0x1a01ee52c50>"
      ]
     },
     "execution_count": 11,
     "metadata": {},
     "output_type": "execute_result"
    }
   ],
   "source": [
    "#using the superviesed testing data, and making a supervised HMM from this \n",
    "SupHMM = supervised_HMM(DailyDeathSup[0],DailyDeathSup[1])\n",
    "SupHMM"
   ]
  },
  {
   "cell_type": "code",
   "execution_count": 13,
   "metadata": {},
   "outputs": [
    {
     "name": "stdout",
     "output_type": "stream",
     "text": [
      "[1.355 1.145 1.213 1.019 0.806 0.712 0.668 0.776 0.617 0.632 0.631 0.596\n",
      " 0.632 0.562]\n"
     ]
    }
   ],
   "source": [
    "test = np.zeros(14)\n",
    "for j in range(1000): #This generates a sample of length 14, with a starting state of 2, \n",
    "    test += np.array(sample_sentence(SupHMM, DailyDeathMap, 14, 2))#state of 2 means 2 people died in the county yesterday\n",
    "print(test/1000)"
   ]
  },
  {
   "cell_type": "code",
   "execution_count": null,
   "metadata": {},
   "outputs": [],
   "source": []
  }
 ],
 "metadata": {
  "kernelspec": {
   "display_name": "Python 3",
   "language": "python",
   "name": "python3"
  },
  "language_info": {
   "codemirror_mode": {
    "name": "ipython",
    "version": 3
   },
   "file_extension": ".py",
   "mimetype": "text/x-python",
   "name": "python",
   "nbconvert_exporter": "python",
   "pygments_lexer": "ipython3",
   "version": "3.7.3"
  }
 },
 "nbformat": 4,
 "nbformat_minor": 2
}
