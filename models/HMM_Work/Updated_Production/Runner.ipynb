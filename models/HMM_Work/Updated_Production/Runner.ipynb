{
 "cells": [
  {
   "cell_type": "code",
   "execution_count": 3,
   "metadata": {},
   "outputs": [],
   "source": [
    "!python HMM_DatatoClusters.py"
   ]
  },
  {
   "cell_type": "code",
   "execution_count": null,
   "metadata": {},
   "outputs": [],
   "source": [
    "!python HMM_DatatoModels.py"
   ]
  },
  {
   "cell_type": "code",
   "execution_count": null,
   "metadata": {},
   "outputs": [],
   "source": [
    "!python HMM_DatatoSamples.py"
   ]
  },
  {
   "cell_type": "code",
   "execution_count": 3,
   "metadata": {},
   "outputs": [
    {
     "name": "stderr",
     "output_type": "stream",
     "text": [
      "Some rows of transmat_ have zero sum because no transition from the state was ever observed.\n",
      "Some rows of transmat_ have zero sum because no transition from the state was ever observed.\n",
      "Some rows of transmat_ have zero sum because no transition from the state was ever observed.\n",
      "Some rows of transmat_ have zero sum because no transition from the state was ever observed.\n",
      "Some rows of transmat_ have zero sum because no transition from the state was ever observed.\n",
      "Some rows of transmat_ have zero sum because no transition from the state was ever observed.\n",
      "Some rows of transmat_ have zero sum because no transition from the state was ever observed.\n",
      "Some rows of transmat_ have zero sum because no transition from the state was ever observed.\n",
      "Some rows of transmat_ have zero sum because no transition from the state was ever observed.\n",
      "Some rows of transmat_ have zero sum because no transition from the state was ever observed.\n",
      "Some rows of transmat_ have zero sum because no transition from the state was ever observed.\n",
      "Some rows of transmat_ have zero sum because no transition from the state was ever observed.\n",
      "Some rows of transmat_ have zero sum because no transition from the state was ever observed.\n",
      "Some rows of transmat_ have zero sum because no transition from the state was ever observed.\n",
      "Some rows of transmat_ have zero sum because no transition from the state was ever observed.\n",
      "Some rows of transmat_ have zero sum because no transition from the state was ever observed.\n"
     ]
    }
   ],
   "source": [
    "#Requires HMM_DatatoClusters to have been run in the environment\n",
    "!python HMM_ClusterstoModels.py"
   ]
  },
  {
   "cell_type": "code",
   "execution_count": null,
   "metadata": {},
   "outputs": [],
   "source": [
    "#Requires HMM_DatatoClusters to have been run in the environment\n",
    "!python HMM_ClusterstoSamples.py"
   ]
  },
  {
   "cell_type": "code",
   "execution_count": 4,
   "metadata": {},
   "outputs": [],
   "source": [
    "#Requires HMM_DatatoClusters and HMM_ClusterstoModels to have been run in the environment\n",
    "!python HMM_ModelstoSamples.py"
   ]
  },
  {
   "cell_type": "code",
   "execution_count": null,
   "metadata": {},
   "outputs": [],
   "source": []
  }
 ],
 "metadata": {
  "kernelspec": {
   "display_name": "Python 3",
   "language": "python",
   "name": "python3"
  },
  "language_info": {
   "codemirror_mode": {
    "name": "ipython",
    "version": 3
   },
   "file_extension": ".py",
   "mimetype": "text/x-python",
   "name": "python",
   "nbconvert_exporter": "python",
   "pygments_lexer": "ipython3",
   "version": "3.7.3"
  }
 },
 "nbformat": 4,
 "nbformat_minor": 2
}
