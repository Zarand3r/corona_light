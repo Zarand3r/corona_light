{
 "cells": [
  {
   "cell_type": "code",
   "execution_count": 1,
   "metadata": {},
   "outputs": [],
   "source": [
    "import pandas as pd\n",
    "import numpy as np\n",
    "import os\n",
    "from hmmlearn import hmm\n",
    "from matplotlib import pyplot as plt\n",
    "from sklearn.utils import check_random_state\n",
    "import pickle\n",
    "import simplejson"
   ]
  },
  {
   "cell_type": "code",
   "execution_count": 2,
   "metadata": {},
   "outputs": [],
   "source": [
    "import git\n",
    "import sys\n",
    "repo = git.Repo(\"./\", search_parent_directories=True)\n",
    "homedir = repo.working_dir"
   ]
  },
  {
   "cell_type": "code",
   "execution_count": 3,
   "metadata": {},
   "outputs": [],
   "source": [
    "def loadHMM(name):\n",
    "    with open(name, \"rb\") as file: x = pickle.load(file)\n",
    "    return x"
   ]
  },
  {
   "cell_type": "code",
   "execution_count": 4,
   "metadata": {},
   "outputs": [],
   "source": [
    "def loadHMMlist(colname, minclust, maxclust):\n",
    "    HMMlist = [0]*(maxclust - minclust + 1)\n",
    "    n = 0\n",
    "    labels = [0]*(maxclust - minclust + 1)\n",
    "    for i in range(minclust, maxclust + 1):\n",
    "        name = str(colname) + '_' + str(i) + '.0.pkl'\n",
    "        HMMlist[n] = loadHMM(str(name))\n",
    "        labels[n] = i\n",
    "        n += 1\n",
    "    return HMMlist, labels"
   ]
  },
  {
   "cell_type": "code",
   "execution_count": 5,
   "metadata": {},
   "outputs": [],
   "source": [
    "def makeSample(HMM, length, initState = -1, smalltol = 2, largetol = 0.05, numSamples = 1000):\n",
    "    Vals = [0.0] * length\n",
    "    States = [0.0] * length\n",
    "    \n",
    "    if initState == -1:\n",
    "        for i in range(numSamples):\n",
    "            Sample = HMM.sample(n_samples=length)\n",
    "            Vals = np.add(Vals, [a[0] for a in Sample[0]])\n",
    "            States += Sample[1]\n",
    "        return Vals/numSamples, States/numSamples\n",
    "    else:\n",
    "        for i in range(numSamples):\n",
    "            print(i)\n",
    "            Flag = True\n",
    "            while Flag:\n",
    "                Sample = HMM.sample(n_samples=length)\n",
    "                if initState > 50:\n",
    "                    if np.abs(Sample[0][0] - initState)/(initState + 1) <= largetol:\n",
    "                        Flag = False\n",
    "                else:\n",
    "                    if Sample[0][0] > 0.5:\n",
    "                        print('5')\n",
    "                    if Sample[0][0] > 0.1:\n",
    "                        print('1')\n",
    "                    if Sample[0][0] > 1.0:\n",
    "                        print('pop')\n",
    "                    if np.abs(Sample[0][0] - initState) <= smalltol:\n",
    "                        Flag = False\n",
    "            Vals = np.add(Vals, [a[0] for a in Sample[0]])\n",
    "            States += Sample[1]\n",
    "        return Vals/numSamples, States/numSamples         \n",
    "    "
   ]
  },
  {
   "cell_type": "code",
   "execution_count": 6,
   "metadata": {},
   "outputs": [],
   "source": [
    "def makeHMMUnSupData(Input, colname='Deaths', fipsname='FIPS'):\n",
    "    #Takes input dataframe, and gives out HMM format of data, a list of lists \n",
    "    #of the colname value, each list in the set represents one fips code.\n",
    "    Output = []\n",
    "    for fips in Input[fipsname].unique():\n",
    "        temp = list(Input[Input[fipsname] == fips][colname])\n",
    "        Output.append(temp)\n",
    "    return Output"
   ]
  },
  {
   "cell_type": "code",
   "execution_count": 7,
   "metadata": {},
   "outputs": [],
   "source": [
    "def makeFipsPrediction(HMM, Data, fipscode, length=14, n_iters=10):\n",
    "    #Takes in an HMM, a dataset (either JHU, NYT_F, or NYT_W) and a fips code,\n",
    "    #Gives the HMM state predictions and emission predictions\n",
    "    #Does this predictions n_iters times, and reports the average states/emissions\n",
    "    X = makeHMMUnSupData(Data[Data['FIPS']==fipscode])[0]\n",
    "    states = HMM.predict(np.array(X).reshape(-1,1))\n",
    "    transmat_cdf = np.cumsum(HMM.transmat_, axis=1)\n",
    "    Emissions = [0.0] * length\n",
    "    States = [0.0] * length\n",
    "    \n",
    "    for i in range(n_iters):\n",
    "        for j in range(length):\n",
    "            random_state = check_random_state(HMM.random_state)\n",
    "            if j == 0:\n",
    "                next_state = (transmat_cdf[states[-1]] > random_state.rand()).argmax()\n",
    "            else:\n",
    "                next_state = (transmat_cdf[next_state] > random_state.rand()).argmax()\n",
    "            \n",
    "            next_obs = HMM._generate_sample_from_state(next_state, random_state)\n",
    "            \n",
    "            Emissions[j] += next_obs[0]/n_iters\n",
    "            States[j] += next_state/n_iters\n",
    "            \n",
    "    return States, Emissions       "
   ]
  },
  {
   "cell_type": "code",
   "execution_count": 8,
   "metadata": {},
   "outputs": [],
   "source": [
    "def makeHMMListPrediction(HMMList, Data, colname, DTW, length=14, n_iters=10):\n",
    "    HMMs = HMMList[0]\n",
    "    labels = HMMList[1]\n",
    "    PredictionFrame = DTW[~DTW[colname].isna()][['FIPS']]\n",
    "    \n",
    "    for i in range(length):\n",
    "        PredictionFrame[str(1 + i)] = 0\n",
    "    n = 0\n",
    "    \n",
    "    for i in labels:\n",
    "        codes = DTW[DTW[colname] == i]['FIPS'].unique().tolist()\n",
    "        HMM = HMMs[n]\n",
    "        for code in codes:\n",
    "            Prediction = makeFipsPrediction(HMM, Data, code, length, n_iters)[1]\n",
    "            for j in range(length):\n",
    "                PredictionFrame.loc[PredictionFrame['FIPS'] == code, str(j + 1)] = Prediction[j]\n",
    "        n += 1\n",
    "    return PredictionFrame\n",
    "            \n",
    "            "
   ]
  },
  {
   "cell_type": "code",
   "execution_count": 9,
   "metadata": {},
   "outputs": [],
   "source": [
    "#Dataframes of deaths\n",
    "NYT_F = pd.read_csv(f\"{homedir}/models/HMM_Work/NYT_daily_Filled.csv\", index_col=0)\n",
    "NYT_W = pd.read_csv(f\"{homedir}/models/HMM_Work/NYT_daily_Warp.csv\", index_col=0)\n",
    "NYT_F = NYT_F.rename(columns={'fips':'FIPS','deaths':'Deaths'})\n",
    "NYT_W = NYT_W.rename(columns={'fips':'FIPS','deaths':'Deaths'})\n",
    "JHU = pd.read_csv(f\"{homedir}/models/HMM_Work/JHU_daily.csv\", index_col=0)\n",
    "#list of lists of deaths data\n",
    "with open('NYT_daily_Warp_Death.txt') as f:\n",
    "    NYT_daily_Warp_Death = simplejson.load(f)\n",
    "with open('NYT_daily_Death_Filled.txt') as g:\n",
    "    NYT_daily_Death_Filled = simplejson.load(g)\n",
    "with open('JHU_daily_death.txt') as h:\n",
    "    JHU_daily_death = simplejson.load(h)\n",
    "#DTW Based Clusters\n",
    "DTW_Clusters = pd.read_csv(f\"{homedir}/models/HMM_Work/DTW_Clustering.csv\", index_col=0)"
   ]
  },
  {
   "cell_type": "code",
   "execution_count": 10,
   "metadata": {},
   "outputs": [],
   "source": [
    "JHU_Z_T_HMMs = loadHMMlist('JHU_Z_T', 1, 2)\n",
    "JHU_Z_L_HMMs = loadHMMlist('JHU_Z_L', 1, 6)\n",
    "JHU_N_T_HMMs = loadHMMlist('JHU_N_T', 0, 2)\n",
    "JHU_N_L_HMMs = loadHMMlist('JHU_N_L', 0, 6)\n"
   ]
  },
  {
   "cell_type": "code",
   "execution_count": 11,
   "metadata": {},
   "outputs": [],
   "source": [
    "JHU_Z_T_Pred = makeHMMListPrediction(JHU_Z_T_HMMs, JHU, 'JHU_Z_T', DTW_Clusters, length=14, n_iters=10)\n",
    "JHU_Z_L_Pred = makeHMMListPrediction(JHU_Z_L_HMMs, JHU, 'JHU_Z_L', DTW_Clusters, length=14, n_iters=10)\n",
    "JHU_N_T_Pred = makeHMMListPrediction(JHU_N_T_HMMs, JHU, 'JHU_N_T', DTW_Clusters, length=14, n_iters=10)\n",
    "JHU_N_L_Pred = makeHMMListPrediction(JHU_N_L_HMMs, JHU, 'JHU_N_L', DTW_Clusters, length=14, n_iters=10)"
   ]
  },
  {
   "cell_type": "code",
   "execution_count": 12,
   "metadata": {},
   "outputs": [],
   "source": [
    "NYT_F_Z_T_HMMs = loadHMMlist('NYT_F_Z_T', 1, 2)\n",
    "NYT_F_Z_L_HMMs = loadHMMlist('NYT_F_Z_L', 1, 5)\n",
    "NYT_F_N_T_HMMs = loadHMMlist('NYT_F_N_T', 0, 2)\n",
    "NYT_F_N_L_HMMs = loadHMMlist('NYT_F_N_L', 0, 5)\n",
    "NYT_F_N_L_L_HMMs = loadHMMlist('NYT_F_N_L_L', 0, 9)"
   ]
  },
  {
   "cell_type": "code",
   "execution_count": 13,
   "metadata": {},
   "outputs": [],
   "source": [
    "NYT_F_Z_T_Pred = makeHMMListPrediction(NYT_F_Z_T_HMMs, NYT_F, 'NYT_F_Z_T', DTW_Clusters, length=14, n_iters=10)\n",
    "NYT_F_Z_L_Pred = makeHMMListPrediction(NYT_F_Z_L_HMMs, NYT_F, 'NYT_F_Z_L', DTW_Clusters, length=14, n_iters=10)\n",
    "NYT_F_N_T_Pred = makeHMMListPrediction(NYT_F_N_T_HMMs, NYT_F, 'NYT_F_N_T', DTW_Clusters, length=14, n_iters=10)\n",
    "NYT_F_N_L_Pred = makeHMMListPrediction(NYT_F_N_L_HMMs, NYT_F, 'NYT_F_N_L', DTW_Clusters, length=14, n_iters=10)\n",
    "NYT_F_N_L_L_Pred = makeHMMListPrediction(NYT_F_N_L_L_HMMs, NYT_F, 'NYT_F_N_L_L', DTW_Clusters, length=14, n_iters=10)"
   ]
  },
  {
   "cell_type": "code",
   "execution_count": 14,
   "metadata": {},
   "outputs": [],
   "source": [
    "NYT_W_Z_T_HMMs = loadHMMlist('NYT_W_Z_T', 1, 2)\n",
    "NYT_W_Z_L_HMMs = loadHMMlist('NYT_W_Z_L', 1, 7)\n",
    "NYT_W_N_T_HMMs = loadHMMlist('NYT_W_N_T', 0, 2)\n",
    "NYT_W_N_L_HMMs = loadHMMlist('NYT_W_N_L', 0, 7)\n"
   ]
  },
  {
   "cell_type": "code",
   "execution_count": 15,
   "metadata": {},
   "outputs": [],
   "source": [
    "NYT_W_Z_T_Pred = makeHMMListPrediction(NYT_W_Z_T_HMMs, NYT_W, 'NYT_W_Z_T', DTW_Clusters, length=14, n_iters=10)\n",
    "NYT_W_Z_L_Pred = makeHMMListPrediction(NYT_W_Z_L_HMMs, NYT_W, 'NYT_W_Z_L', DTW_Clusters, length=14, n_iters=10)\n",
    "NYT_W_N_T_Pred = makeHMMListPrediction(NYT_W_N_T_HMMs, NYT_W, 'NYT_W_N_T', DTW_Clusters, length=14, n_iters=10)\n",
    "NYT_W_N_L_Pred = makeHMMListPrediction(NYT_W_N_L_HMMs, NYT_W, 'NYT_W_N_L', DTW_Clusters, length=14, n_iters=10)\n"
   ]
  },
  {
   "cell_type": "code",
   "execution_count": 17,
   "metadata": {},
   "outputs": [
    {
     "data": {
      "text/html": [
       "<div>\n",
       "<style scoped>\n",
       "    .dataframe tbody tr th:only-of-type {\n",
       "        vertical-align: middle;\n",
       "    }\n",
       "\n",
       "    .dataframe tbody tr th {\n",
       "        vertical-align: top;\n",
       "    }\n",
       "\n",
       "    .dataframe thead th {\n",
       "        text-align: right;\n",
       "    }\n",
       "</style>\n",
       "<table border=\"1\" class=\"dataframe\">\n",
       "  <thead>\n",
       "    <tr style=\"text-align: right;\">\n",
       "      <th></th>\n",
       "      <th>FIPS</th>\n",
       "      <th>1</th>\n",
       "      <th>2</th>\n",
       "      <th>3</th>\n",
       "      <th>4</th>\n",
       "      <th>5</th>\n",
       "      <th>6</th>\n",
       "      <th>7</th>\n",
       "      <th>8</th>\n",
       "      <th>9</th>\n",
       "      <th>10</th>\n",
       "      <th>11</th>\n",
       "      <th>12</th>\n",
       "      <th>13</th>\n",
       "      <th>14</th>\n",
       "    </tr>\n",
       "  </thead>\n",
       "  <tbody>\n",
       "    <tr>\n",
       "      <th>1717</th>\n",
       "      <td>36061.0</td>\n",
       "      <td>60.357464</td>\n",
       "      <td>47.047603</td>\n",
       "      <td>36.964599</td>\n",
       "      <td>49.382815</td>\n",
       "      <td>33.915387</td>\n",
       "      <td>45.954971</td>\n",
       "      <td>34.829428</td>\n",
       "      <td>31.63624</td>\n",
       "      <td>33.863018</td>\n",
       "      <td>48.878625</td>\n",
       "      <td>22.972845</td>\n",
       "      <td>22.124733</td>\n",
       "      <td>14.602803</td>\n",
       "      <td>27.91129</td>\n",
       "    </tr>\n",
       "  </tbody>\n",
       "</table>\n",
       "</div>"
      ],
      "text/plain": [
       "         FIPS          1          2          3          4          5  \\\n",
       "1717  36061.0  60.357464  47.047603  36.964599  49.382815  33.915387   \n",
       "\n",
       "              6          7         8          9         10         11  \\\n",
       "1717  45.954971  34.829428  31.63624  33.863018  48.878625  22.972845   \n",
       "\n",
       "             12         13        14  \n",
       "1717  22.124733  14.602803  27.91129  "
      ]
     },
     "execution_count": 17,
     "metadata": {},
     "output_type": "execute_result"
    }
   ],
   "source": [
    "NYT_W_Z_T_Pred[NYT_W_Z_T_Pred['FIPS'] == 36061]"
   ]
  },
  {
   "cell_type": "code",
   "execution_count": null,
   "metadata": {},
   "outputs": [],
   "source": []
  }
 ],
 "metadata": {
  "kernelspec": {
   "display_name": "Python 3",
   "language": "python",
   "name": "python3"
  },
  "language_info": {
   "codemirror_mode": {
    "name": "ipython",
    "version": 3
   },
   "file_extension": ".py",
   "mimetype": "text/x-python",
   "name": "python",
   "nbconvert_exporter": "python",
   "pygments_lexer": "ipython3",
   "version": "3.7.3"
  }
 },
 "nbformat": 4,
 "nbformat_minor": 2
}
