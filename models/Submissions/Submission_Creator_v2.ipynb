{
 "cells": [
  {
   "cell_type": "code",
   "execution_count": 1,
   "metadata": {},
   "outputs": [],
   "source": [
    "import pandas as pd\n",
    "import numpy as np\n",
    "import os\n",
    "import datetime"
   ]
  },
  {
   "cell_type": "code",
   "execution_count": 2,
   "metadata": {},
   "outputs": [],
   "source": [
    "maxMonth = {1:31, 2:29, 3:31, 4:30, 5:31, 6:30, 7:31, 8:31, 9:30, 10:31, 11:30, 12:31}\n",
    "\n",
    "def next_day(current_day):\n",
    "    # assusmes that everything is in 2020\n",
    "    if current_day.day < maxMonth[current_day.month]:\n",
    "        return datetime.datetime(2020, current_day.month, current_day.day + 1)\n",
    "    else:\n",
    "        return datetime.datetime(2020, current_day.month + 1, current_day.day)"
   ]
  },
  {
   "cell_type": "code",
   "execution_count": 3,
   "metadata": {},
   "outputs": [],
   "source": [
    "def format_submission(dates, death_errors, start, fips):\n",
    "    # swap columns and rows for death_errors\n",
    "    death_errors = np.array(death_errors)\n",
    "    death_errors = death_errors.T\n",
    "    death_errors = death_errors.tolist()\n",
    "    \n",
    "    # adding to dates so lengths match up\n",
    "    final_date = dates[-1]\n",
    "    while len(dates) < len(death_errors):\n",
    "        dates.append(next_day(final_date))\n",
    "        final_date = dates[-1]\n",
    "    \n",
    "    # trim both lists so they begin with date represented by start\n",
    "    # assumes the lists begin originally at the same place\n",
    "    start_index = -1\n",
    "    for i in range(0, len(dates)):\n",
    "        current_day = dates[i]\n",
    "        if current_day.month == start.month and current_day.day == start.day:\n",
    "            start_index = i\n",
    "            break\n",
    "    if start_index == -1: # start doesn't exist in dates\n",
    "        raise Exception(\"start date not present\")\n",
    "    dates[start_index:]\n",
    "    death_errors[start_index:]\n",
    "    \n",
    "    # convert dates from datetime to string, add fips code\n",
    "    for i in range(len(dates)):\n",
    "        day = dates[i]\n",
    "        day_format = '{year}-{month}-{day}-{fips}'.format(year = day.year, month = day.month, day = day.day, fips = fips)\n",
    "        dates[i] = day_format\n",
    "        death_errors[i].insert(0, dates[i])\n",
    "        \n",
    "    return death_errors"
   ]
  }
 ],
 "metadata": {
  "kernelspec": {
   "display_name": "Python 3",
   "language": "python",
   "name": "python3"
  },
  "language_info": {
   "codemirror_mode": {
    "name": "ipython",
    "version": 3
   },
   "file_extension": ".py",
   "mimetype": "text/x-python",
   "name": "python",
   "nbconvert_exporter": "python",
   "pygments_lexer": "ipython3",
   "version": "3.7.7"
  }
 },
 "nbformat": 4,
 "nbformat_minor": 4
}
