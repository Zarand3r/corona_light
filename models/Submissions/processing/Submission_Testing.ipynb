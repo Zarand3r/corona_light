{
 "cells": [
  {
   "cell_type": "code",
   "execution_count": 9,
   "metadata": {},
   "outputs": [],
   "source": [
    "import pandas as pd\n",
    "import numpy as np\n",
    "import os\n",
    "import datetime"
   ]
  },
  {
   "cell_type": "code",
   "execution_count": 10,
   "metadata": {},
   "outputs": [],
   "source": [
    "import git\n",
    "import sys\n",
    "repo = git.Repo(\"./\", search_parent_directories=True)\n",
    "homedir = repo.working_dir"
   ]
  },
  {
   "cell_type": "code",
   "execution_count": 11,
   "metadata": {},
   "outputs": [],
   "source": [
    "pop = pd.read_csv(f\"{homedir}/data/us/demographics/county_populations.csv\")\n",
    "submission = pd.read_csv(f\"{homedir}/models/Submissions/processing/formatted_submission.csv\")"
   ]
  },
  {
   "cell_type": "code",
   "execution_count": 12,
   "metadata": {},
   "outputs": [],
   "source": [
    "submission['Date'] = submission.id.str.rsplit(\"-\", n = 1, expand = True)[0]\n",
    "submission['FIPS'] = submission.id.str.rsplit(\"-\", n = 1, expand = True)[1].astype(int)\n",
    "submission = submission.join(pop.set_index('FIPS'), on='FIPS')\n",
    "submission['total_pop'] = submission['total_pop'].fillna(2000)\n",
    "submission['total_pop'] = submission['total_pop'].astype(int)"
   ]
  },
  {
   "cell_type": "code",
   "execution_count": 13,
   "metadata": {},
   "outputs": [],
   "source": [
    "temp = submission.copy()\n",
    "Large_10 = temp.loc[submission['10'] >= 0.075*submission['total_pop']]\n",
    "temp.loc[Large_10.index.values,'10'] = Large_10.total_pop.values*0.075\n",
    "temp.loc[Large_10.index.values,'20'] = Large_10.total_pop.values*(1.1)**1*0.075\n",
    "temp.loc[Large_10.index.values,'30'] = Large_10.total_pop.values*(1.1)**2*0.075\n",
    "temp.loc[Large_10.index.values,'40'] = Large_10.total_pop.values*(1.1)**3*0.075\n",
    "temp.loc[Large_10.index.values,'50'] = Large_10.total_pop.values*(1.1)**4*0.075\n",
    "temp.loc[Large_10.index.values,'60'] = Large_10.total_pop.values*(1.1)**5*0.075\n",
    "temp.loc[Large_10.index.values,'70'] = Large_10.total_pop.values*(1.1)**6*0.075\n",
    "temp.loc[Large_10.index.values,'80'] = Large_10.total_pop.values*(1.1)**7*0.075\n",
    "temp.loc[Large_10.index.values,'90'] = Large_10.total_pop.values*(1.1)**8*0.075"
   ]
  },
  {
   "cell_type": "code",
   "execution_count": 14,
   "metadata": {},
   "outputs": [],
   "source": [
    "Large_Rat = temp.loc[temp['90']/temp['10'] >= 10]\n",
    "Meanval = (temp.loc[Large_Rat.index.values,'10'] + temp.loc[Large_Rat.index.values,'20'] + temp.loc[Large_Rat.index.values,'30'])/3\n",
    "temp.loc[Large_Rat.index.values,'10'] = Meanval/(1.2)\n",
    "temp.loc[Large_Rat.index.values,'20'] = Meanval*(1.2)**0\n",
    "temp.loc[Large_Rat.index.values,'30'] = Meanval*(1.2)**1\n",
    "temp.loc[Large_Rat.index.values,'40'] = Meanval*(1.2)**2\n",
    "temp.loc[Large_Rat.index.values,'50'] = Meanval*(1.2)**3\n",
    "temp.loc[Large_Rat.index.values,'60'] = Meanval*(1.2)**4\n",
    "temp.loc[Large_Rat.index.values,'70'] = Meanval*(1.2)**5\n",
    "temp.loc[Large_Rat.index.values,'80'] = Meanval*(1.2)**6\n",
    "temp.loc[Large_Rat.index.values,'90'] = Meanval*(1.2)**7"
   ]
  },
  {
   "cell_type": "code",
   "execution_count": 15,
   "metadata": {},
   "outputs": [],
   "source": [
    "temp = temp[['id','10','20','30','40','50','60','70','80','90']]"
   ]
  },
  {
   "cell_type": "code",
   "execution_count": 16,
   "metadata": {},
   "outputs": [],
   "source": [
    "temp.to_csv('submission_modified.csv')"
   ]
  },
  {
   "cell_type": "code",
   "execution_count": null,
   "metadata": {},
   "outputs": [],
   "source": []
  }
 ],
 "metadata": {
  "kernelspec": {
   "display_name": "Python 3",
   "language": "python",
   "name": "python3"
  },
  "language_info": {
   "codemirror_mode": {
    "name": "ipython",
    "version": 3
   },
   "file_extension": ".py",
   "mimetype": "text/x-python",
   "name": "python",
   "nbconvert_exporter": "python",
   "pygments_lexer": "ipython3",
   "version": "3.7.3"
  }
 },
 "nbformat": 4,
 "nbformat_minor": 2
}
