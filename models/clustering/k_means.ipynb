{
 "cells": [
  {
   "cell_type": "code",
   "execution_count": 40,
   "metadata": {},
   "outputs": [],
   "source": [
    "import pandas as pd\n",
    "import numpy as np\n",
    "import sklearn\n",
    "import os\n",
    "import git\n",
    "import math\n",
    "\n",
    "from sklearn.cluster import _kmeans"
   ]
  },
  {
   "cell_type": "code",
   "execution_count": 41,
   "metadata": {},
   "outputs": [],
   "source": [
    "repo = git.Repo(\"./\", search_parent_directories=True)\n",
    "homedir = repo.working_dir\n",
    "datadir = f\"{homedir}\" + \"/models/processing/USA/County_Based/\""
   ]
  },
  {
   "cell_type": "code",
   "execution_count": 42,
   "metadata": {},
   "outputs": [],
   "source": [
    "#helper functions\n",
    "def logFunc(x):\n",
    "    if x < 0.01:\n",
    "        x = 0.01\n",
    "    return math.log10(x)\n",
    "\n",
    "#def fillTerritories():\n",
    "    "
   ]
  },
  {
   "cell_type": "code",
   "execution_count": 43,
   "metadata": {},
   "outputs": [],
   "source": [
    "# read in the files, load as dataframe\n",
    "Age_Race = pd.read_csv(datadir + 'Age_Race_Filled.csv')\n",
    "Population = pd.read_csv(datadir + 'Total_Pop')\n",
    "Density = pd.read_csv(datadir + 'Density.csv')\n",
    "JHU = pd.read_csv(datadir + 'aggregate_jhu_filled.csv')\n",
    "Berkeley = pd.read_csv(datadir + 'Aggregate_Berkeley.csv')\n",
    "Policies = pd.read_csv(datadir + 'Policy_Transit.csv')\n",
    "Geography = pd.read_csv(datadir + 'County_Centers.csv')\n",
    "\n",
    "Data = pd.DataFrame()\n",
    "\n",
    "DataBasic = pd.DataFrame()\n",
    "DataDemographics = pd.DataFrame()\n",
    "DataHealth = pd.DataFrame()\n",
    "DataGeography = pd.DataFrame()"
   ]
  },
  {
   "cell_type": "code",
   "execution_count": 44,
   "metadata": {},
   "outputs": [],
   "source": [
    "Data['fips'] = Age_Race['fips']\n",
    "\n",
    "Population.columns = ['fips', 'Population']"
   ]
  },
  {
   "cell_type": "code",
   "execution_count": 45,
   "metadata": {},
   "outputs": [],
   "source": [
    "# Nature of the county, includes policies\n",
    "\n",
    "Data['Pop'] = Population['Population']\n",
    "Data['Pop'] = Data['Pop'].div(2000000.0) # population max is 5\n",
    "\n",
    "Data['Density'] = Density['2010 Density per square mile of land area - Population']\n",
    "Data['Density'] = Data['Density'].div(10000.0) # density max is 7\n",
    "\n",
    "Data['UrbanRural'] = JHU['Rural-urban_Continuum Code_2013']\n",
    "Data['UrbanRural'] = Data['UrbanRural'].div(5.0) # urban rural max is 2\n",
    "\n",
    "Data['EconType'] = JHU['Economic_typology_2015']\n",
    "Data['EconType'] = Data['EconType'].div(5.0) # economic typology max is 1\n",
    "\n",
    "# Policies\n",
    "Data['Policies'] = Policies['Score']\n",
    "Data['Policies'] = Data['Policies'].div(3) # policies max is just above 3\n",
    "\n",
    "# Typical immigration in/out. Proxy for being a sink/source in flows\n",
    "Data['Movement'] = JHU['R_NET_MIG_2018']\n",
    "Data['Movement'] = Data['Movement'].div(20.0) #range around -3.5 to 3.5\n",
    "\n",
    "DataBasic = Data[['Pop', 'Density', 'UrbanRural', 'EconType', 'Policies', 'Movement']]"
   ]
  },
  {
   "cell_type": "code",
   "execution_count": 49,
   "metadata": {},
   "outputs": [],
   "source": [
    "# Demographics of the county\n",
    "\n",
    "# Age distribution\n",
    "Data['65+'] = Age_Race['65 to 74 years'] + Age_Race['75 to 84 years'] + Age_Race['85 years and over']\n",
    "Data['65+'] = Data['65+'] / Population['Population']\n",
    "Data['65+'] = Data['65+'].mul(20) # 65+ max is 3, generally around 1.5\n",
    "\n",
    "# Race/gender\n",
    "Data['Male'] = Age_Race['Male'] / Population['Population']\n",
    "Data['Male'] = Data['Male'].mul(3) # male max is 2, generally 1\n",
    "\n",
    "Data['AfricanAmer'] = Age_Race['Exclusively Black or African American'] + Age_Race['Hispanic or Latino (of any race)!!Puerto Rican']\n",
    "Data['AfricanAmer'] = Data['AfricanAmer'] / Population['Population']\n",
    "Data['AfricanAmer'] = Data['AfricanAmer'].mul(5) # African American max is 5, generally 0-3\n",
    "     \n",
    "# Politics/education/income/economy\n",
    "Data['CollegePlus'] = JHU['Percent of adults completing some college or associate\\'s degree 2014-18']\n",
    "Data['CollegePlus'] = Data['CollegePlus'].mul(3) # education max is 3, generally around 1-1.5\n",
    "\n",
    "Data['Income'] = JHU['Median_Household_Income_2018']\n",
    "Data['Income'] = Data['Income'].div(25000) # income max is 4, generally around 2  \n",
    "\n",
    "Data['Unemployed'] = JHU['Unemployment_rate_2018']\n",
    "Data['Unemployed'] = Data['Unemployed'].div(2) # unemployed max around 3\n",
    "                         \n",
    "    # need puerto rico voting patterns\n",
    "Data['Dems'] = Berkeley['FracDem']\n",
    "Data['Dems'] = Data['Dems'].mul(3) # Dems max is 3, generally around 1.5\n",
    "\n",
    "DataDemographics = Data[['Males', 'AfricanAmer', 'CollegePlus', 'Income', 'Unemployed', 'Dems']]"
   ]
  },
  {
   "cell_type": "code",
   "execution_count": 50,
   "metadata": {},
   "outputs": [],
   "source": [
    "#Health care of the county\n",
    "\n",
    "Data['HospBeds'] = JHU['Total hospital beds per 1000 people (2019)'] # around 2-3\n",
    "\n",
    "Data['ICUBeds'] = Berkeley['#ICU_beds']\n",
    "Data['ICUBeds'] = Data['ICUBeds'] / Population['Population']\n",
    "Data['ICUBeds'] = Data['ICUBeds'].mul(1000)\n",
    "Data['ICUBeds'] = Data['ICUBeds'].mul(2) # around 5-6. Outliers ok, very important statistic\n",
    "\n",
    "#note: not considering comorbidities\n",
    "Data['HeartDiseaseMort'] = Berkeley['HeartDiseaseMortality'] \n",
    "Data['HeartDiseaseMort'] = Data['HeartDiseaseMort'].div(60) # max is 10, typically around 3-4\n",
    "\n",
    "Data['StrokeMort'] = Berkeley['StrokeMortality']\n",
    "Data['StrokeMort'] = Data['StrokeMort'].div(15) # max is 7-8, generally around 5\n",
    "\n",
    "Data['Diabetes'] = Berkeley['DiabetesPercentage'] \n",
    "Data['Diabetes'] = Data['Diabetes'].mul(3) # max 3\n",
    "\n",
    "Data['Smokers'] = Berkeley['SmokersPercentage'] \n",
    "Data['Smokers'] = Data['Smokers'].mul(3) # max 3\n",
    "\n",
    "DataHealth = Data[['HospBeds', 'ICUBeds', 'HeartDiseaseMort', 'StrokeMort', 'Diabetes', 'Smokers']]"
   ]
  },
  {
   "cell_type": "code",
   "execution_count": 51,
   "metadata": {},
   "outputs": [],
   "source": [
    "#Geography\n",
    "\n",
    "Data['PLon'] = Geography['pclon10'] # population weighted\n",
    "\n",
    "Data['PLat'] = Geography['pclat10'] # population weighted\n",
    "\n",
    "DataGeography = Data[['PLon', 'PLat']]"
   ]
  },
  {
   "cell_type": "code",
   "execution_count": null,
   "metadata": {},
   "outputs": [],
   "source": [
    "# drop first two columns\n",
    "Data = Data.drop(columns = ['fips'])\n",
    "\n",
    "# convert it into an array\n",
    "X = Data.to_numpy()\n",
    "X = [X[i][1:] for i in range(0, len(X))]"
   ]
  },
  {
   "cell_type": "code",
   "execution_count": 5,
   "metadata": {},
   "outputs": [
    {
     "ename": "NameError",
     "evalue": "name '_kMeans' is not defined",
     "output_type": "error",
     "traceback": [
      "\u001b[1;31m---------------------------------------------------------------------------\u001b[0m",
      "\u001b[1;31mNameError\u001b[0m                                 Traceback (most recent call last)",
      "\u001b[1;32m<ipython-input-5-73e6bb4bc9f3>\u001b[0m in \u001b[0;36m<module>\u001b[1;34m\u001b[0m\n\u001b[0;32m      2\u001b[0m \u001b[1;31m# compute the error in each case\u001b[0m\u001b[1;33m\u001b[0m\u001b[1;33m\u001b[0m\u001b[1;33m\u001b[0m\u001b[0m\n\u001b[0;32m      3\u001b[0m \u001b[1;32mfor\u001b[0m \u001b[0mk\u001b[0m \u001b[1;32min\u001b[0m \u001b[0mrange\u001b[0m\u001b[1;33m(\u001b[0m\u001b[1;36m4\u001b[0m\u001b[1;33m,\u001b[0m \u001b[1;36m5\u001b[0m\u001b[1;33m)\u001b[0m\u001b[1;33m:\u001b[0m\u001b[1;33m\u001b[0m\u001b[1;33m\u001b[0m\u001b[0m\n\u001b[1;32m----> 4\u001b[1;33m     \u001b[0mkmeans\u001b[0m \u001b[1;33m=\u001b[0m \u001b[0m_kMeans\u001b[0m\u001b[1;33m(\u001b[0m\u001b[0mn_clusters\u001b[0m\u001b[1;33m=\u001b[0m\u001b[1;36m2\u001b[0m\u001b[1;33m,\u001b[0m \u001b[0mrandom_state\u001b[0m\u001b[1;33m=\u001b[0m\u001b[1;36m0\u001b[0m\u001b[1;33m)\u001b[0m\u001b[1;33m.\u001b[0m\u001b[0mfit\u001b[0m\u001b[1;33m(\u001b[0m\u001b[0mAge_Race_Arr\u001b[0m\u001b[1;33m)\u001b[0m\u001b[1;33m\u001b[0m\u001b[1;33m\u001b[0m\u001b[0m\n\u001b[0m",
      "\u001b[1;31mNameError\u001b[0m: name '_kMeans' is not defined"
     ]
    }
   ],
   "source": [
    "# loop over k = 3 to 10 for instance\n",
    "# compute the error in each case\n",
    "for k in range(4, 5):\n",
    "    kmeans = _kMeans(n_clusters=2, random_state=0).fit(Age_Race_Arr)"
   ]
  },
  {
   "cell_type": "code",
   "execution_count": null,
   "metadata": {},
   "outputs": [],
   "source": [
    "# plot k vs error on a graph, decide optimal k via elbow method"
   ]
  },
  {
   "cell_type": "code",
   "execution_count": null,
   "metadata": {},
   "outputs": [],
   "source": [
    "# plot the clusters across the country to visualize"
   ]
  }
 ],
 "metadata": {
  "kernelspec": {
   "display_name": "Python 3",
   "language": "python",
   "name": "python3"
  },
  "language_info": {
   "codemirror_mode": {
    "name": "ipython",
    "version": 3
   },
   "file_extension": ".py",
   "mimetype": "text/x-python",
   "name": "python",
   "nbconvert_exporter": "python",
   "pygments_lexer": "ipython3",
   "version": "3.7.7"
  }
 },
 "nbformat": 4,
 "nbformat_minor": 4
}
