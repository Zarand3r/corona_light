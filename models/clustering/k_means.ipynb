{
 "cells": [
  {
   "cell_type": "code",
   "execution_count": 51,
   "metadata": {},
   "outputs": [],
   "source": [
    "import pandas as pd\n",
    "import numpy as np\n",
    "import sklearn\n",
    "import os\n",
    "import git\n",
    "import math\n",
    "\n",
    "from sklearn.cluster import _kmeans"
   ]
  },
  {
   "cell_type": "code",
   "execution_count": 13,
   "metadata": {},
   "outputs": [],
   "source": [
    "repo = git.Repo(\"./\", search_parent_directories=True)\n",
    "homedir = repo.working_dir\n",
    "datadir = f\"{homedir}\" + \"/models/processing/USA/County_Based/\""
   ]
  },
  {
   "cell_type": "code",
   "execution_count": 62,
   "metadata": {},
   "outputs": [],
   "source": [
    "#helper functions\n",
    "def logFunc(x):\n",
    "    if x < 0.01:\n",
    "        x = 0.01\n",
    "    return math.log10(x) \n"
   ]
  },
  {
   "cell_type": "code",
   "execution_count": 58,
   "metadata": {},
   "outputs": [],
   "source": [
    "# read in the files, load as dataframe\n",
    "Age_Race = pd.read_csv(datadir + 'Age_Race_Filled.csv')\n",
    "Population = pd.read_csv(datadir + 'Total_Pop')\n",
    "Density = pd.read_csv(datadir + 'Density.csv')\n",
    "JHU = pd.read_csv(datadir + 'aggregate_jhu_filled.csv')\n",
    "\n",
    "Data = pd.DataFrame()"
   ]
  },
  {
   "cell_type": "code",
   "execution_count": 65,
   "metadata": {},
   "outputs": [],
   "source": [
    "# combine data\n",
    "# NOTE: issue with units the data\n",
    "# Take log for population #s\n",
    "# \n",
    "\n",
    "Data['fips'] = Age_Race['fips']\n",
    "# Basic stats\n",
    "Data['Pop'] = Population['Population']\n",
    "Data['Pop'] = Data['logPop'].apply(logFunc)\n",
    "Data['Density'] = Density['2010 Density per square mile of land area - Population']\n",
    "Data['Density'] = Data['logDensity'].apply(logFunc)\n",
    "Data['UrbanRural'] = JHU['Rural-urban_Continuum Code_2013']\n",
    "# Race/gender\n",
    "Data['FracMale'] = Age_Race['Male'] * 5\n",
    "\n",
    "# Politics/education/income\n",
    "Data['CollegePlus'] = JHU['Percent of adults completing some college or associate\\'s degree 2014-18'] * Population['Population']\n",
    "Data['CollegePlus'] = Data['CollegePlus'].apply(logFunc)\n",
    "\n",
    "# Age distribution\n",
    "\n",
    "# Economy\n",
    "\n",
    "# Typical transit in/out\n",
    "\n",
    "# Health\n",
    "\n",
    "\n",
    "\n",
    "# drop first two columns\n",
    "Data = Data.drop(columns = ['fips'])\n",
    "\n",
    "# convert it into an array\n",
    "X = Data.to_numpy()\n",
    "X = [X[i][1:] for i in range(0, len(X))]"
   ]
  },
  {
   "cell_type": "code",
   "execution_count": 5,
   "metadata": {},
   "outputs": [
    {
     "ename": "NameError",
     "evalue": "name '_kMeans' is not defined",
     "output_type": "error",
     "traceback": [
      "\u001b[1;31m---------------------------------------------------------------------------\u001b[0m",
      "\u001b[1;31mNameError\u001b[0m                                 Traceback (most recent call last)",
      "\u001b[1;32m<ipython-input-5-73e6bb4bc9f3>\u001b[0m in \u001b[0;36m<module>\u001b[1;34m\u001b[0m\n\u001b[0;32m      2\u001b[0m \u001b[1;31m# compute the error in each case\u001b[0m\u001b[1;33m\u001b[0m\u001b[1;33m\u001b[0m\u001b[1;33m\u001b[0m\u001b[0m\n\u001b[0;32m      3\u001b[0m \u001b[1;32mfor\u001b[0m \u001b[0mk\u001b[0m \u001b[1;32min\u001b[0m \u001b[0mrange\u001b[0m\u001b[1;33m(\u001b[0m\u001b[1;36m4\u001b[0m\u001b[1;33m,\u001b[0m \u001b[1;36m5\u001b[0m\u001b[1;33m)\u001b[0m\u001b[1;33m:\u001b[0m\u001b[1;33m\u001b[0m\u001b[1;33m\u001b[0m\u001b[0m\n\u001b[1;32m----> 4\u001b[1;33m     \u001b[0mkmeans\u001b[0m \u001b[1;33m=\u001b[0m \u001b[0m_kMeans\u001b[0m\u001b[1;33m(\u001b[0m\u001b[0mn_clusters\u001b[0m\u001b[1;33m=\u001b[0m\u001b[1;36m2\u001b[0m\u001b[1;33m,\u001b[0m \u001b[0mrandom_state\u001b[0m\u001b[1;33m=\u001b[0m\u001b[1;36m0\u001b[0m\u001b[1;33m)\u001b[0m\u001b[1;33m.\u001b[0m\u001b[0mfit\u001b[0m\u001b[1;33m(\u001b[0m\u001b[0mAge_Race_Arr\u001b[0m\u001b[1;33m)\u001b[0m\u001b[1;33m\u001b[0m\u001b[1;33m\u001b[0m\u001b[0m\n\u001b[0m",
      "\u001b[1;31mNameError\u001b[0m: name '_kMeans' is not defined"
     ]
    }
   ],
   "source": [
    "# loop over k = 3 to 10 for instance\n",
    "# compute the error in each case\n",
    "for k in range(4, 5):\n",
    "    kmeans = _kMeans(n_clusters=2, random_state=0).fit(Age_Race_Arr)"
   ]
  },
  {
   "cell_type": "code",
   "execution_count": null,
   "metadata": {},
   "outputs": [],
   "source": [
    "# plot k vs error on a graph, decide optimal k via elbow method"
   ]
  },
  {
   "cell_type": "code",
   "execution_count": null,
   "metadata": {},
   "outputs": [],
   "source": [
    "# plot the clusters across the country to visualize"
   ]
  }
 ],
 "metadata": {
  "kernelspec": {
   "display_name": "Python 3",
   "language": "python",
   "name": "python3"
  },
  "language_info": {
   "codemirror_mode": {
    "name": "ipython",
    "version": 3
   },
   "file_extension": ".py",
   "mimetype": "text/x-python",
   "name": "python",
   "nbconvert_exporter": "python",
   "pygments_lexer": "ipython3",
   "version": "3.7.7"
  }
 },
 "nbformat": 4,
 "nbformat_minor": 4
}
