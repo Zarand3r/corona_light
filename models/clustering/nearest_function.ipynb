{
 "cells": [
  {
   "cell_type": "code",
   "execution_count": 1,
   "metadata": {},
   "outputs": [],
   "source": [
    "import pandas as pd\n",
    "import numpy as np\n",
    "import os\n",
    "import sys"
   ]
  },
  {
   "cell_type": "code",
   "execution_count": 2,
   "metadata": {},
   "outputs": [],
   "source": [
    "# helper function\n",
    "\n",
    "def find_n_nearest_euclid(n, data, index, index_fips_dict):\n",
    "    index_row = data[index]\n",
    "    n_nearest = [float(sys.maxsize)] * n\n",
    "    n_nearest_counties = []\n",
    "    for i in range(0, len(data)):\n",
    "        if i != index:\n",
    "            curr = data[i]\n",
    "            county = index_fips_dict[i]\n",
    "            dist = 0.0\n",
    "            for j in range(0, len(index_row)):\n",
    "                dist += (index_row[j] - curr[j]) ** 2\n",
    "            \n",
    "            if len(n_nearest) == 0:\n",
    "                n_nearest.append(dist)\n",
    "                n_nearest_counties.append(county)\n",
    "            else:\n",
    "                inserted = False\n",
    "                j = 0\n",
    "                while inserted == False and j < n:\n",
    "                    if dist < n_nearest[j]:\n",
    "                        first = n_nearest[:j]\n",
    "                        middle = [dist]\n",
    "                        last = n_nearest[j:n-1]\n",
    "                        n_nearest = first + middle + last\n",
    "                        \n",
    "                        first_counties = n_nearest_counties[:j]\n",
    "                        middle_counties = [county]\n",
    "                        last_counties = n_nearest_counties[j:n-1]\n",
    "                        n_nearest_counties = first_counties + middle_counties + last_counties\n",
    "                        \n",
    "                        inserted = True\n",
    "                    j += 1\n",
    "    \n",
    "    return n_nearest_counties"
   ]
  },
  {
   "cell_type": "code",
   "execution_count": 5,
   "metadata": {},
   "outputs": [],
   "source": [
    "# function finding the n nearest counties in order\n",
    "# parameters: \n",
    "# 1. n an integer\n",
    "# 2. pca 0 or 1 indicating if you don't or do use the pca data\n",
    "# 3. data_type a string the subset of the data \n",
    "\n",
    "def n_nearest_euclid(n, fips, pca, data_type):\n",
    "    # get the file name and load the file\n",
    "    data_file = ''\n",
    "    if pca == 1:\n",
    "        data_file += 'pca_'\n",
    "    else:\n",
    "        data_file += 'data_'\n",
    "    data_file += str.lower(data_type)\n",
    "    data_file += '.csv'\n",
    "    df = pd.read_csv(data_file)\n",
    "    \n",
    "    # get the dict of indices vs fips\n",
    "    index_fips = []\n",
    "    index_fips.append(list(df['Unnamed: 0']))\n",
    "    index_fips.append(list(df['FIPS']))\n",
    "    index_fips_dict = {}\n",
    "    index_dict = {}\n",
    "    for i in range(0, len(index_fips[0])):\n",
    "        index_fips_dict[index_fips[1][i]] = index_fips[0][i]\n",
    "        index_dict[index_fips[0][i]] = index_fips[1][i]\n",
    "    \n",
    "    # get the n nearest\n",
    "    df.drop(columns = ['Unnamed: 0', 'FIPS'])\n",
    "    data = df.to_numpy()\n",
    "    index = index_fips_dict[fips]\n",
    "    n_nearest = find_n_nearest_euclid(n, data, index, index_dict)\n",
    "    return n_nearest"
   ]
  },
  {
   "cell_type": "code",
   "execution_count": 9,
   "metadata": {},
   "outputs": [
    {
     "data": {
      "text/plain": [
       "[1009, 1001, 1021, 1015, 1003, 1013]"
      ]
     },
     "execution_count": 9,
     "metadata": {},
     "output_type": "execute_result"
    }
   ],
   "source": [
    "n_nearest_euclid(6, 1007, 1, 'geography')"
   ]
  }
 ],
 "metadata": {
  "kernelspec": {
   "display_name": "Python 3",
   "language": "python",
   "name": "python3"
  },
  "language_info": {
   "codemirror_mode": {
    "name": "ipython",
    "version": 3
   },
   "file_extension": ".py",
   "mimetype": "text/x-python",
   "name": "python",
   "nbconvert_exporter": "python",
   "pygments_lexer": "ipython3",
   "version": "3.7.7"
  }
 },
 "nbformat": 4,
 "nbformat_minor": 4
}
