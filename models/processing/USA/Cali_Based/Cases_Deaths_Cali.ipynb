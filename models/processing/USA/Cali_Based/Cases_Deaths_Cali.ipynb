{
 "cells": [
  {
   "cell_type": "code",
   "execution_count": 3,
   "metadata": {},
   "outputs": [],
   "source": [
    "import pandas as pd\n",
    "import numpy as np\n",
    "import os"
   ]
  },
  {
   "cell_type": "code",
   "execution_count": 4,
   "metadata": {},
   "outputs": [],
   "source": [
    "LAT_Agency = pd.read_csv('../../../../data/us/covid/california/latimes-agency-totals.csv')\n",
    "LAT_Place = pd.read_csv('../../../../data/us/covid/california/latimes-place-totals.csv')\n",
    "CDPH_State_Totals = pd.read_csv('../../../../data/us/covid/california/cdph-state-totals.csv')"
   ]
  }
 ],
 "metadata": {
  "kernelspec": {
   "display_name": "Python 3",
   "language": "python",
   "name": "python3"
  },
  "language_info": {
   "codemirror_mode": {
    "name": "ipython",
    "version": 3
   },
   "file_extension": ".py",
   "mimetype": "text/x-python",
   "name": "python",
   "nbconvert_exporter": "python",
   "pygments_lexer": "ipython3",
   "version": "3.7.3"
  }
 },
 "nbformat": 4,
 "nbformat_minor": 2
}
