{
 "cells": [
  {
   "cell_type": "code",
   "execution_count": 6,
   "metadata": {},
   "outputs": [],
   "source": [
    "import pandas as pd\n",
    "import numpy as np\n",
    "import os\n",
    "import datetime"
   ]
  },
  {
   "cell_type": "code",
   "execution_count": 7,
   "metadata": {},
   "outputs": [],
   "source": [
    "def edit_column_date(frame,index):\n",
    "    #Edits the date format of columns of dataframes\n",
    "    #index: index of the first column of dates + 1\n",
    "    i = 0\n",
    "    for col in frame:\n",
    "        i += 1\n",
    "        if i >= index:\n",
    "            new_d = date_format(col)\n",
    "            frame = frame.rename(columns={col : new_d})\n",
    "    return frame"
   ]
  },
  {
   "cell_type": "code",
   "execution_count": 8,
   "metadata": {},
   "outputs": [],
   "source": [
    "def sort_dates(frame,index):\n",
    "    #Sorts the columns by date of a frame with many nonconsecutive dates (several factors per date)\n",
    "    Beg = list(frame.columns[:index]) #First four entries\n",
    "    End = list(np.sort(np.array(frame.columns[index:]))) #Every Date Sorted\n",
    "    cols = list(Beg + End) #Ordered Columns\n",
    "\n",
    "    frame = frame[cols]\n",
    "    return frame"
   ]
  },
  {
   "cell_type": "code",
   "execution_count": 9,
   "metadata": {},
   "outputs": [],
   "source": [
    "def date_format(date):\n",
    "    d = datetime.datetime.strptime(date, '%Y-%m-%d')\n",
    "    return datetime.date.strftime(d, \"%m/%d/%y\")"
   ]
  },
  {
   "cell_type": "code",
   "execution_count": 10,
   "metadata": {},
   "outputs": [],
   "source": [
    "#Loading in mobility data\n",
    "DL_us_m50 = pd.read_csv('../../../../data/us/mobility/DL-us-m50.csv', encoding='latin1')\n",
    "DL_us_m50_index = pd.read_csv('../../../../data/us/mobility/DL-us-m50_index.csv', encoding='latin1')\n",
    "DL_us_samples = pd.read_csv('../../../../data/us/mobility/DL-us-samples.csv')"
   ]
  },
  {
   "cell_type": "code",
   "execution_count": 11,
   "metadata": {},
   "outputs": [],
   "source": [
    "#Cleaning the datasets\n",
    "DL_us_m50 = edit_column_date(DL_us_m50,6)\n",
    "DL_us_m50_index = edit_column_date(DL_us_m50_index,6)\n",
    "DL_us_samples = edit_column_date(DL_us_samples,6)\n",
    "\n",
    "DL_us_m50 = DL_us_m50.drop(columns=['country_code','admin_level','admin1','admin2'])\n",
    "DL_us_m50_index = DL_us_m50_index.drop(columns=['country_code','admin_level','admin1','admin2'])\n",
    "DL_us_samples = DL_us_samples.drop(columns=['country_code','admin_level','admin1','admin2'])"
   ]
  },
  {
   "cell_type": "code",
   "execution_count": 12,
   "metadata": {},
   "outputs": [],
   "source": [
    "#Separating data into state info\n",
    "DL_us_m50_State = DL_us_m50[DL_us_m50.fips <= 1000]\n",
    "DL_us_m50_index_State = DL_us_m50_index[DL_us_m50_index.fips <= 1000]\n",
    "DL_us_samples_State = DL_us_samples[DL_us_samples.fips <= 1000]"
   ]
  },
  {
   "cell_type": "code",
   "execution_count": 13,
   "metadata": {},
   "outputs": [],
   "source": [
    "#merging the 3 datasets together\n",
    "\n",
    "Mobility_State = pd.merge(DL_us_m50_State, DL_us_m50_index_State, \\\n",
    "                    left_on='fips', right_on='fips', suffixes=('_M_m50', ''), sort=True)\n",
    "Mobility_State = pd.merge(Mobility_State, DL_us_samples_State, \\\n",
    "                    left_on='fips', right_on='fips', suffixes=('_M_idx', '_M_samples'), sort=True)\n",
    "#saving datasets with 3 values not consecutive and then consecutive\n",
    "Mobility_State_Nonconsecutive = Mobility_State\n",
    "Mobility_State_Consecutive = sort_dates(Mobility_State,1)\n",
    "Mobility_State_Consecutive.to_csv('Mobility_State_Consecutive.csv')\n",
    "Mobility_State_Nonconsecutive.to_csv('Mobility_State_Nonconsecutive.csv')"
   ]
  }
 ],
 "metadata": {
  "kernelspec": {
   "display_name": "Python 3",
   "language": "python",
   "name": "python3"
  },
  "language_info": {
   "codemirror_mode": {
    "name": "ipython",
    "version": 3
   },
   "file_extension": ".py",
   "mimetype": "text/x-python",
   "name": "python",
   "nbconvert_exporter": "python",
   "pygments_lexer": "ipython3",
   "version": "3.7.3"
  }
 },
 "nbformat": 4,
 "nbformat_minor": 2
}
