{
 "cells": [
  {
   "cell_type": "code",
   "execution_count": 5,
   "metadata": {},
   "outputs": [],
   "source": [
    "import pandas as pd\n",
    "import numpy as np\n",
    "import os"
   ]
  },
  {
   "cell_type": "code",
   "execution_count": 6,
   "metadata": {},
   "outputs": [],
   "source": [
    "#State Bed Density (per 1000 people)\n",
    "State_Pop = pd.read_csv('../../../../data/us/demographics/state_populations.csv', encoding='latin1')\n",
    "State_Bed = pd.read_csv('../../../../data/us/hospitals/bed_densities.csv', encoding='latin1')\n",
    "State_Bed.columns = State_Bed.columns.str.replace('bedspermille', 'bedsper1000')"
   ]
  },
  {
   "cell_type": "code",
   "execution_count": 7,
   "metadata": {},
   "outputs": [],
   "source": [
    "#Cleaning State Bed Dataset\n",
    "State_Bed = pd.merge(State_Bed, State_Pop, left_on='state', right_on='state')\n",
    "State_Bed = State_Bed.drop(columns = ['country_x', 'country_y'])\n",
    "\n",
    "State_Bed.insert(3, \"Approx_Beds\", State_Bed.bedsper1000*State_Bed.population/1000, True)\n",
    "State_Bed = State_Bed.round(0)\n",
    "State_Bed = State_Bed[['state','population','bedsper1000','Approx_Beds']]\n",
    "State_Bed.to_csv('State_Bed.csv')"
   ]
  },
  {
   "cell_type": "code",
   "execution_count": 8,
   "metadata": {},
   "outputs": [
    {
     "data": {
      "text/html": [
       "<div>\n",
       "<style scoped>\n",
       "    .dataframe tbody tr th:only-of-type {\n",
       "        vertical-align: middle;\n",
       "    }\n",
       "\n",
       "    .dataframe tbody tr th {\n",
       "        vertical-align: top;\n",
       "    }\n",
       "\n",
       "    .dataframe thead th {\n",
       "        text-align: right;\n",
       "    }\n",
       "</style>\n",
       "<table border=\"1\" class=\"dataframe\">\n",
       "  <thead>\n",
       "    <tr style=\"text-align: right;\">\n",
       "      <th></th>\n",
       "      <th>state</th>\n",
       "      <th>population</th>\n",
       "      <th>bedsper1000</th>\n",
       "      <th>Approx_Beds</th>\n",
       "    </tr>\n",
       "  </thead>\n",
       "  <tbody>\n",
       "    <tr>\n",
       "      <th>0</th>\n",
       "      <td>AL</td>\n",
       "      <td>4903185</td>\n",
       "      <td>3.0</td>\n",
       "      <td>15200.0</td>\n",
       "    </tr>\n",
       "    <tr>\n",
       "      <th>1</th>\n",
       "      <td>AK</td>\n",
       "      <td>731545</td>\n",
       "      <td>2.0</td>\n",
       "      <td>1609.0</td>\n",
       "    </tr>\n",
       "    <tr>\n",
       "      <th>2</th>\n",
       "      <td>AZ</td>\n",
       "      <td>7278717</td>\n",
       "      <td>2.0</td>\n",
       "      <td>13830.0</td>\n",
       "    </tr>\n",
       "    <tr>\n",
       "      <th>3</th>\n",
       "      <td>AR</td>\n",
       "      <td>3017825</td>\n",
       "      <td>3.0</td>\n",
       "      <td>9657.0</td>\n",
       "    </tr>\n",
       "    <tr>\n",
       "      <th>4</th>\n",
       "      <td>CA</td>\n",
       "      <td>39512223</td>\n",
       "      <td>2.0</td>\n",
       "      <td>71122.0</td>\n",
       "    </tr>\n",
       "  </tbody>\n",
       "</table>\n",
       "</div>"
      ],
      "text/plain": [
       "  state  population  bedsper1000  Approx_Beds\n",
       "0    AL     4903185          3.0      15200.0\n",
       "1    AK      731545          2.0       1609.0\n",
       "2    AZ     7278717          2.0      13830.0\n",
       "3    AR     3017825          3.0       9657.0\n",
       "4    CA    39512223          2.0      71122.0"
      ]
     },
     "execution_count": 8,
     "metadata": {},
     "output_type": "execute_result"
    }
   ],
   "source": [
    "State_Bed.head()"
   ]
  }
 ],
 "metadata": {
  "kernelspec": {
   "display_name": "Python 3",
   "language": "python",
   "name": "python3"
  },
  "language_info": {
   "codemirror_mode": {
    "name": "ipython",
    "version": 3
   },
   "file_extension": ".py",
   "mimetype": "text/x-python",
   "name": "python",
   "nbconvert_exporter": "python",
   "pygments_lexer": "ipython3",
   "version": "3.7.3"
  }
 },
 "nbformat": 4,
 "nbformat_minor": 2
}
