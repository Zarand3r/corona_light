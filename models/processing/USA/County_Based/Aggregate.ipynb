{
 "cells": [
  {
   "cell_type": "code",
   "execution_count": 1,
   "metadata": {},
   "outputs": [],
   "source": [
    "import numpy as np\n",
    "import pandas as pd\n",
    "import os"
   ]
  },
  {
   "cell_type": "code",
   "execution_count": 2,
   "metadata": {},
   "outputs": [],
   "source": [
    "Berkeley = pd.read_csv('../../../../data/us/aggregate_berkeley.csv')                 \n",
    "JHU = pd.read_csv('../../../../data/us/aggregate_jhu.csv')                 "
   ]
  },
  {
   "cell_type": "code",
   "execution_count": 6,
   "metadata": {},
   "outputs": [],
   "source": [
    "def RatioToFrac(x):\n",
    "    return x/(x+1)\n",
    "\n",
    "def PercentToFrac(x):\n",
    "    return x/100\n",
    "\n",
    "def "
   ]
  },
  {
   "cell_type": "code",
   "execution_count": 7,
   "metadata": {},
   "outputs": [],
   "source": [
    "#Drop the first column which is meaningless\n",
    "Berkeley = Berkeley.drop(columns = ['Unnamed: 0'])"
   ]
  },
  {
   "cell_type": "code",
   "execution_count": 8,
   "metadata": {},
   "outputs": [],
   "source": [
    "#Improve readability\n",
    "Berkeley = Berkeley.rename(columns = {'Population(Persons)2017': 'Population2017'})\n",
    "Berkeley = Berkeley.rename(columns = {'PopTotalMale2017': 'PopMale2017'})\n",
    "Berkeley = Berkeley.rename(columns = {'PopTotalFemale2017': 'PopFemale2017'})\n",
    "Berkeley = Berkeley.rename(columns = {'MedianAge,Male2010': 'MedianAgeMale2010'})\n",
    "Berkeley = Berkeley.rename(columns = {'MedianAge,Female2010': 'MedianAgeFemale2010'})\n",
    "Berkeley = Berkeley.rename(columns = {'MedicareEnrollment,AgedTot2017':'MedicareEnrollmentTot2017'})\n",
    "Berkeley = Berkeley.rename(columns = {'Smokers_Percentage':'SmokersPercentage'})\n",
    "Berkeley = Berkeley.rename(columns = {'#FTEHospitalTotal2017':'#FTEHospital2017'})\n",
    "Berkeley = Berkeley.rename(columns = {'TotalM.D.\\'s,TotNon-FedandFed2017': '#MDs2017'})\n",
    "Berkeley = Berkeley.rename(columns = {'#HospParticipatinginNetwork2017': '#HospitalsInNetwork2017'})\n",
    "Berkeley = Berkeley.rename(columns = {'dem_to_rep_ratio':'FracDem'})"
   ]
  },
  {
   "cell_type": "code",
   "execution_count": 9,
   "metadata": {},
   "outputs": [],
   "source": [
    "#Changing ratios and percentages to frac. Doing this whenever its relative to a population total.\n",
    "#Editing to get dem_to_rep_ratio into a fraction of Democrats\n",
    "Berkeley['FracDem'] = Berkeley['FracDem'].apply(RatioToFrac)\n",
    "\n",
    "#Changing percentages to frac. \n",
    "Berkeley['DiabetesPercentage'] = Berkeley['DiabetesPercentage'].apply(PercentToFrac)\n",
    "Berkeley['SmokersPercentage'] = Berkeley['SmokersPercentage'].apply(PercentToFrac)"
   ]
  },
  {
   "cell_type": "code",
   "execution_count": 10,
   "metadata": {},
   "outputs": [],
   "source": [
    "Berkeley.to_csv('Aggregate_Berkeley.csv')"
   ]
  },
  {
   "cell_type": "code",
   "execution_count": 11,
   "metadata": {},
   "outputs": [],
   "source": [
    "#Editing percentages to fractions. No ratios relative to a population total.\n",
    "#Doing this whenever its a percentage out of a population total. Thus some percentages are still present, but they're relative to different quantities.\n",
    "\n",
    "#Changing labels\n",
    "JHU = JHU.rename(columns = {'Percent of adults with less than a high school diploma 2014-18': 'Frac of adults with less than a high school diploma 2014-18'})\n",
    "JHU = JHU.rename(columns = {'Percent of adults with a high school diploma only 2014-18': 'Frac of adults with a high school diploma only 2014-18'})\n",
    "JHU = JHU.rename(columns = {'Percent of adults completing some college or associate\\'s degree 2014-18': 'Frac of adults completing some college or associate\\'s degree 2014-18'}) \n",
    "JHU = JHU.rename(columns = {'Percent of adults with a bachelor\\'s degree or higher 2014-18': 'Frac of adults with a bachelor\\'s degree or higher 2014-18'})\n",
    "\n",
    "#Changing the data\n",
    "JHU['Frac of adults with less than a high school diploma 2014-18'] = JHU['Frac of adults with less than a high school diploma 2014-18'].apply(PercentToFrac)\n",
    "JHU['Frac of adults with a high school diploma only 2014-18'] = JHU['Frac of adults with a high school diploma only 2014-18'].apply(PercentToFrac)\n",
    "JHU['Frac of adults completing some college or associate\\'s degree 2014-18'] = JHU['Frac of adults completing some college or associate\\'s degree 2014-18'].apply(PercentToFrac)\n",
    "JHU['Frac of adults with a bachelor\\'s degree or higher 2014-18'] = JHU['Frac of adults with a bachelor\\'s degree or higher 2014-18'].apply(PercentToFrac)"
   ]
  },
  {
   "cell_type": "code",
   "execution_count": 12,
   "metadata": {},
   "outputs": [
    {
     "data": {
      "text/html": [
       "<div>\n",
       "<style scoped>\n",
       "    .dataframe tbody tr th:only-of-type {\n",
       "        vertical-align: middle;\n",
       "    }\n",
       "\n",
       "    .dataframe tbody tr th {\n",
       "        vertical-align: top;\n",
       "    }\n",
       "\n",
       "    .dataframe thead th {\n",
       "        text-align: right;\n",
       "    }\n",
       "</style>\n",
       "<table border=\"1\" class=\"dataframe\">\n",
       "  <thead>\n",
       "    <tr style=\"text-align: right;\">\n",
       "      <th></th>\n",
       "      <th>Med_HH_Income_Percent_of_State_Total_2018</th>\n",
       "    </tr>\n",
       "  </thead>\n",
       "  <tbody>\n",
       "    <tr>\n",
       "      <th>0</th>\n",
       "      <td>NaN</td>\n",
       "    </tr>\n",
       "    <tr>\n",
       "      <th>1</th>\n",
       "      <td>100.0</td>\n",
       "    </tr>\n",
       "    <tr>\n",
       "      <th>2</th>\n",
       "      <td>119.0</td>\n",
       "    </tr>\n",
       "    <tr>\n",
       "      <th>3</th>\n",
       "      <td>115.5</td>\n",
       "    </tr>\n",
       "    <tr>\n",
       "      <th>4</th>\n",
       "      <td>68.9</td>\n",
       "    </tr>\n",
       "    <tr>\n",
       "      <th>...</th>\n",
       "      <td>...</td>\n",
       "    </tr>\n",
       "    <tr>\n",
       "      <th>3268</th>\n",
       "      <td>NaN</td>\n",
       "    </tr>\n",
       "    <tr>\n",
       "      <th>3269</th>\n",
       "      <td>NaN</td>\n",
       "    </tr>\n",
       "    <tr>\n",
       "      <th>3270</th>\n",
       "      <td>NaN</td>\n",
       "    </tr>\n",
       "    <tr>\n",
       "      <th>3271</th>\n",
       "      <td>NaN</td>\n",
       "    </tr>\n",
       "    <tr>\n",
       "      <th>3272</th>\n",
       "      <td>NaN</td>\n",
       "    </tr>\n",
       "  </tbody>\n",
       "</table>\n",
       "<p>3273 rows × 1 columns</p>\n",
       "</div>"
      ],
      "text/plain": [
       "      Med_HH_Income_Percent_of_State_Total_2018\n",
       "0                                           NaN\n",
       "1                                         100.0\n",
       "2                                         119.0\n",
       "3                                         115.5\n",
       "4                                          68.9\n",
       "...                                         ...\n",
       "3268                                        NaN\n",
       "3269                                        NaN\n",
       "3270                                        NaN\n",
       "3271                                        NaN\n",
       "3272                                        NaN\n",
       "\n",
       "[3273 rows x 1 columns]"
      ]
     },
     "execution_count": 12,
     "metadata": {},
     "output_type": "execute_result"
    }
   ],
   "source": [
    "\n",
    "JHU[['Med_HH_Income_Percent_of_State_Total_2018']]"
   ]
  },
  {
   "cell_type": "code",
   "execution_count": 13,
   "metadata": {},
   "outputs": [],
   "source": [
    "JHU.to_csv('Aggregate_JHU.csv')"
   ]
  }
 ],
 "metadata": {
  "kernelspec": {
   "display_name": "Python 3",
   "language": "python",
   "name": "python3"
  },
  "language_info": {
   "codemirror_mode": {
    "name": "ipython",
    "version": 3
   },
   "file_extension": ".py",
   "mimetype": "text/x-python",
   "name": "python",
   "nbconvert_exporter": "python",
   "pygments_lexer": "ipython3",
   "version": "3.7.7"
  }
 },
 "nbformat": 4,
 "nbformat_minor": 2
}
