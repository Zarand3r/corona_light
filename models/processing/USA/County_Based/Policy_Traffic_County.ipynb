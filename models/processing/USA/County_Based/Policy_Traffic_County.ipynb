{
 "cells": [
  {
   "cell_type": "code",
   "execution_count": 1,
   "metadata": {},
   "outputs": [],
   "source": [
    "import pandas as pd\n",
    "import numpy as np\n",
    "import os"
   ]
  },
  {
   "cell_type": "code",
   "execution_count": 2,
   "metadata": {},
   "outputs": [],
   "source": [
    "#Loading in data\n",
    "Air_Traffic = pd.read_csv('../../../../data/us/other/air_traffic.csv', encoding='latin1')\n",
    "Policies = pd.read_csv('../../../../data/us/other/policies.csv', encoding='latin1')\n",
    "Transit = pd.read_csv('../../../../data/us/other/transit.csv', encoding='latin1')"
   ]
  },
  {
   "cell_type": "code",
   "execution_count": 3,
   "metadata": {},
   "outputs": [],
   "source": [
    "#Separating only county rows\n",
    "Policies_County = Policies[Policies.FIPS%1000 != 0]\n",
    "#Removing extra columns\n",
    "Policies_County = Policies_County.drop(columns = ['STATE', 'AREA_NAME'])\n",
    "\n",
    "Policies_County.to_csv('Policies_County.csv')"
   ]
  },
  {
   "cell_type": "code",
   "execution_count": 4,
   "metadata": {},
   "outputs": [],
   "source": [
    "#Separating only cleaning Transit Data\n",
    "Transit = Transit.sort_values(by=['FIPS'])\n",
    "Transit = Transit.drop(columns = ['Name', 'Population'])\n",
    "Transit.to_csv('Transit.csv')"
   ]
  },
  {
   "cell_type": "code",
   "execution_count": 5,
   "metadata": {},
   "outputs": [],
   "source": [
    "#Merging & Cleaning Policy/Transit Data\n",
    "Policy_Transit = pd.merge(Policies_County, Transit, left_on='FIPS', right_on='FIPS')\n",
    "Policy_Transit.to_csv('Policy_Transit.csv')"
   ]
  },
  {
   "cell_type": "code",
   "execution_count": 6,
   "metadata": {},
   "outputs": [
    {
     "name": "stdout",
     "output_type": "stream",
     "text": [
      "Policies: 3273\n",
      "Policies_County: 3220\n",
      "Transit: 3139\n",
      "Air_Traffic: 251436\n",
      "Policy_Transit: 3134\n"
     ]
    }
   ],
   "source": [
    "print('Policies: ' + str(len(Policies)))\n",
    "print('Policies_County: ' + str(len(Policies_County)))\n",
    "print('Transit: ' + str(len(Transit)))\n",
    "print('Air_Traffic: ' + str(len(Air_Traffic)))\n",
    "print('Policy_Transit: ' + str(len(Policy_Transit)))"
   ]
  },
  {
   "cell_type": "code",
   "execution_count": 7,
   "metadata": {},
   "outputs": [
    {
     "data": {
      "text/html": [
       "<div>\n",
       "<style scoped>\n",
       "    .dataframe tbody tr th:only-of-type {\n",
       "        vertical-align: middle;\n",
       "    }\n",
       "\n",
       "    .dataframe tbody tr th {\n",
       "        vertical-align: top;\n",
       "    }\n",
       "\n",
       "    .dataframe thead th {\n",
       "        text-align: right;\n",
       "    }\n",
       "</style>\n",
       "<table border=\"1\" class=\"dataframe\">\n",
       "  <thead>\n",
       "    <tr style=\"text-align: right;\">\n",
       "      <th></th>\n",
       "      <th>FIPS</th>\n",
       "      <th>stay at home</th>\n",
       "      <th>&gt;50 gatherings</th>\n",
       "      <th>&gt;500 gatherings</th>\n",
       "      <th>public schools</th>\n",
       "      <th>restaurant dine-in</th>\n",
       "      <th>entertainment/gym</th>\n",
       "      <th>federal guidelines</th>\n",
       "      <th>foreign travel ban</th>\n",
       "    </tr>\n",
       "  </thead>\n",
       "  <tbody>\n",
       "    <tr>\n",
       "      <th>2</th>\n",
       "      <td>1001</td>\n",
       "      <td>NaN</td>\n",
       "      <td>737504.0</td>\n",
       "      <td>737497.0</td>\n",
       "      <td>737500.0</td>\n",
       "      <td>737503.0</td>\n",
       "      <td>NaN</td>\n",
       "      <td>737500.0</td>\n",
       "      <td>737495.0</td>\n",
       "    </tr>\n",
       "    <tr>\n",
       "      <th>3</th>\n",
       "      <td>1003</td>\n",
       "      <td>NaN</td>\n",
       "      <td>737504.0</td>\n",
       "      <td>737497.0</td>\n",
       "      <td>737500.0</td>\n",
       "      <td>737503.0</td>\n",
       "      <td>NaN</td>\n",
       "      <td>737500.0</td>\n",
       "      <td>737495.0</td>\n",
       "    </tr>\n",
       "    <tr>\n",
       "      <th>4</th>\n",
       "      <td>1005</td>\n",
       "      <td>NaN</td>\n",
       "      <td>737504.0</td>\n",
       "      <td>737497.0</td>\n",
       "      <td>737500.0</td>\n",
       "      <td>737503.0</td>\n",
       "      <td>NaN</td>\n",
       "      <td>737500.0</td>\n",
       "      <td>737495.0</td>\n",
       "    </tr>\n",
       "    <tr>\n",
       "      <th>5</th>\n",
       "      <td>1007</td>\n",
       "      <td>NaN</td>\n",
       "      <td>737504.0</td>\n",
       "      <td>737497.0</td>\n",
       "      <td>737500.0</td>\n",
       "      <td>737503.0</td>\n",
       "      <td>NaN</td>\n",
       "      <td>737500.0</td>\n",
       "      <td>737495.0</td>\n",
       "    </tr>\n",
       "    <tr>\n",
       "      <th>6</th>\n",
       "      <td>1009</td>\n",
       "      <td>NaN</td>\n",
       "      <td>737504.0</td>\n",
       "      <td>737497.0</td>\n",
       "      <td>737500.0</td>\n",
       "      <td>737503.0</td>\n",
       "      <td>NaN</td>\n",
       "      <td>737500.0</td>\n",
       "      <td>737495.0</td>\n",
       "    </tr>\n",
       "  </tbody>\n",
       "</table>\n",
       "</div>"
      ],
      "text/plain": [
       "   FIPS  stay at home  >50 gatherings  >500 gatherings  public schools  \\\n",
       "2  1001           NaN        737504.0         737497.0        737500.0   \n",
       "3  1003           NaN        737504.0         737497.0        737500.0   \n",
       "4  1005           NaN        737504.0         737497.0        737500.0   \n",
       "5  1007           NaN        737504.0         737497.0        737500.0   \n",
       "6  1009           NaN        737504.0         737497.0        737500.0   \n",
       "\n",
       "   restaurant dine-in  entertainment/gym  federal guidelines  \\\n",
       "2            737503.0                NaN            737500.0   \n",
       "3            737503.0                NaN            737500.0   \n",
       "4            737503.0                NaN            737500.0   \n",
       "5            737503.0                NaN            737500.0   \n",
       "6            737503.0                NaN            737500.0   \n",
       "\n",
       "   foreign travel ban  \n",
       "2            737495.0  \n",
       "3            737495.0  \n",
       "4            737495.0  \n",
       "5            737495.0  \n",
       "6            737495.0  "
      ]
     },
     "execution_count": 7,
     "metadata": {},
     "output_type": "execute_result"
    }
   ],
   "source": [
    "Policies_County.head()"
   ]
  },
  {
   "cell_type": "code",
   "execution_count": 8,
   "metadata": {},
   "outputs": [
    {
     "data": {
      "text/html": [
       "<div>\n",
       "<style scoped>\n",
       "    .dataframe tbody tr th:only-of-type {\n",
       "        vertical-align: middle;\n",
       "    }\n",
       "\n",
       "    .dataframe tbody tr th {\n",
       "        vertical-align: top;\n",
       "    }\n",
       "\n",
       "    .dataframe thead th {\n",
       "        text-align: right;\n",
       "    }\n",
       "</style>\n",
       "<table border=\"1\" class=\"dataframe\">\n",
       "  <thead>\n",
       "    <tr style=\"text-align: right;\">\n",
       "      <th></th>\n",
       "      <th>Score</th>\n",
       "      <th>TCI+</th>\n",
       "      <th>Jobs+</th>\n",
       "      <th>Trips/Week+</th>\n",
       "      <th>Routes</th>\n",
       "      <th>Transit Shed</th>\n",
       "      <th>Transit</th>\n",
       "      <th>FIPS</th>\n",
       "    </tr>\n",
       "  </thead>\n",
       "  <tbody>\n",
       "    <tr>\n",
       "      <th>2106</th>\n",
       "      <td>0.0</td>\n",
       "      <td>0.0</td>\n",
       "      <td>0</td>\n",
       "      <td>0</td>\n",
       "      <td>0</td>\n",
       "      <td>0</td>\n",
       "      <td>0</td>\n",
       "      <td>1001</td>\n",
       "    </tr>\n",
       "    <tr>\n",
       "      <th>799</th>\n",
       "      <td>0.3</td>\n",
       "      <td>0.1</td>\n",
       "      <td>2691</td>\n",
       "      <td>14</td>\n",
       "      <td>1</td>\n",
       "      <td>1</td>\n",
       "      <td>0</td>\n",
       "      <td>1003</td>\n",
       "    </tr>\n",
       "    <tr>\n",
       "      <th>2121</th>\n",
       "      <td>0.0</td>\n",
       "      <td>0.0</td>\n",
       "      <td>0</td>\n",
       "      <td>0</td>\n",
       "      <td>0</td>\n",
       "      <td>0</td>\n",
       "      <td>0</td>\n",
       "      <td>1005</td>\n",
       "    </tr>\n",
       "    <tr>\n",
       "      <th>1009</th>\n",
       "      <td>0.1</td>\n",
       "      <td>0.0</td>\n",
       "      <td>279</td>\n",
       "      <td>2</td>\n",
       "      <td>0</td>\n",
       "      <td>0</td>\n",
       "      <td>0</td>\n",
       "      <td>1007</td>\n",
       "    </tr>\n",
       "    <tr>\n",
       "      <th>2178</th>\n",
       "      <td>0.0</td>\n",
       "      <td>0.0</td>\n",
       "      <td>0</td>\n",
       "      <td>0</td>\n",
       "      <td>0</td>\n",
       "      <td>0</td>\n",
       "      <td>0</td>\n",
       "      <td>1009</td>\n",
       "    </tr>\n",
       "  </tbody>\n",
       "</table>\n",
       "</div>"
      ],
      "text/plain": [
       "      Score  TCI+  Jobs+  Trips/Week+  Routes  Transit Shed  Transit  FIPS\n",
       "2106    0.0   0.0      0            0       0             0        0  1001\n",
       "799     0.3   0.1   2691           14       1             1        0  1003\n",
       "2121    0.0   0.0      0            0       0             0        0  1005\n",
       "1009    0.1   0.0    279            2       0             0        0  1007\n",
       "2178    0.0   0.0      0            0       0             0        0  1009"
      ]
     },
     "execution_count": 8,
     "metadata": {},
     "output_type": "execute_result"
    }
   ],
   "source": [
    "Transit.head()"
   ]
  }
 ],
 "metadata": {
  "kernelspec": {
   "display_name": "Python 3",
   "language": "python",
   "name": "python3"
  },
  "language_info": {
   "codemirror_mode": {
    "name": "ipython",
    "version": 3
   },
   "file_extension": ".py",
   "mimetype": "text/x-python",
   "name": "python",
   "nbconvert_exporter": "python",
   "pygments_lexer": "ipython3",
   "version": "3.7.3"
  }
 },
 "nbformat": 4,
 "nbformat_minor": 2
}
