{
 "cells": [
  {
   "cell_type": "code",
   "execution_count": 97,
   "metadata": {},
   "outputs": [],
   "source": [
    "import pandas as pd\n",
    "import numpy as np\n",
    "import os\n",
    "#Data with Dates is given in consecutive & nonconsecutive forms \n",
    "#(multiple factors per date or all dates of each factor, sequentially)"
   ]
  },
  {
   "cell_type": "code",
   "execution_count": 98,
   "metadata": {},
   "outputs": [],
   "source": [
    "#Key to give state & county name value for each FIPS code\n",
    "\n",
    "Key =  pd.read_csv('Key.csv', index_col=0).sort_values(by=['FIPS'])"
   ]
  },
  {
   "cell_type": "code",
   "execution_count": 99,
   "metadata": {},
   "outputs": [],
   "source": [
    "#County Covid Cases/Deaths\n",
    "\n",
    "Consecutive_CD =  pd.read_csv('USAFacts_CDConsecutive.csv', index_col=0).sort_values(by=['FIPS'])\n",
    "Nonconsecutive_CD =  pd.read_csv('USAFacts_CDNonconsecutive.csv', index_col=0).sort_values(by=['FIPS'])"
   ]
  },
  {
   "cell_type": "code",
   "execution_count": 100,
   "metadata": {},
   "outputs": [],
   "source": [
    "#County Health Info\n",
    "\n",
    "County_Beds =  pd.read_csv('County_Beds.csv', index_col=0).sort_values(by=['FIPS'])\n",
    "County_ICU =  pd.read_csv('County_ICU.csv', index_col=0).sort_values(by=['FIPS'])\n",
    "County_Health =  pd.read_csv('County_Health.csv', index_col=0).sort_values(by=['FIPS'])"
   ]
  },
  {
   "cell_type": "code",
   "execution_count": 101,
   "metadata": {},
   "outputs": [],
   "source": [
    "#County Mobility Info (Need to be cleaned for NaNs)\n",
    "\n",
    "Consecutive_M =  pd.read_csv('Mobility_County_Consecutive.csv', index_col=0).sort_values(by=['FIPS'])\n",
    "Nonconsecutive_M =  pd.read_csv('Mobility_County_Nonconsecutive.csv', index_col=0).sort_values(by=['FIPS'])\n",
    "#making NaN=0\n",
    "Consecutive_M = Consecutive_M.fillna(0)\n",
    "Nonconsecutive_M = Nonconsecutive_M.fillna(0)\n",
    "#######################################################"
   ]
  },
  {
   "cell_type": "code",
   "execution_count": 102,
   "metadata": {},
   "outputs": [],
   "source": [
    "#County Policy/Transit Info\n",
    "\n",
    "#This needs to be cleaned for NaNs\n",
    "Policies_County = pd.read_csv('Policies_County.csv', index_col=0).sort_values(by=['FIPS']) \n",
    "Transit = pd.read_csv('Transit.csv', index_col=0).sort_values(by=['FIPS'])"
   ]
  },
  {
   "cell_type": "code",
   "execution_count": 103,
   "metadata": {},
   "outputs": [],
   "source": [
    "#County Demographic Info\n",
    "\n",
    "Votes =  pd.read_csv('Votes.csv', index_col=0).sort_values(by=['FIPS'])\n",
    "Age_Race =  pd.read_csv('Age_Race.csv', index_col=0).sort_values(by=['FIPS'])\n",
    "Educ_County =  pd.read_csv('Educ_County.csv', index_col=0).sort_values(by=['FIPS'])\n",
    "Density =  pd.read_csv('Density.csv', index_col=0).sort_values(by=['FIPS'])\n",
    "Unemp =  pd.read_csv('Unemp.csv', index_col=0).sort_values(by=['FIPS'])\n",
    "Poverty =  pd.read_csv('Poverty.csv', index_col=0).sort_values(by=['FIPS'])\n",
    "Pop_60 =  pd.read_csv('Pop_60.csv', index_col=0).sort_values(by=['FIPS'])"
   ]
  },
  {
   "cell_type": "code",
   "execution_count": null,
   "metadata": {},
   "outputs": [],
   "source": []
  },
  {
   "cell_type": "code",
   "execution_count": null,
   "metadata": {},
   "outputs": [],
   "source": []
  },
  {
   "cell_type": "code",
   "execution_count": null,
   "metadata": {},
   "outputs": [],
   "source": []
  },
  {
   "cell_type": "code",
   "execution_count": null,
   "metadata": {},
   "outputs": [],
   "source": []
  }
 ],
 "metadata": {
  "kernelspec": {
   "display_name": "Python 3",
   "language": "python",
   "name": "python3"
  },
  "language_info": {
   "codemirror_mode": {
    "name": "ipython",
    "version": 3
   },
   "file_extension": ".py",
   "mimetype": "text/x-python",
   "name": "python",
   "nbconvert_exporter": "python",
   "pygments_lexer": "ipython3",
   "version": "3.7.3"
  }
 },
 "nbformat": 4,
 "nbformat_minor": 2
}
