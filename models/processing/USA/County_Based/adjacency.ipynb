{
 "cells": [
  {
   "cell_type": "code",
   "execution_count": 1,
   "metadata": {},
   "outputs": [],
   "source": [
    "import numpy as np\n",
    "import pandas as pd\n",
    "import os"
   ]
  },
  {
   "cell_type": "code",
   "execution_count": 8,
   "metadata": {},
   "outputs": [],
   "source": [
    "adjacency = pd.read_csv('../../../../models/processing/USA/County_Based/county_adjacency2.csv', sep='\\t')\n",
    "df = pd.DataFrame()"
   ]
  },
  {
   "cell_type": "code",
   "execution_count": 7,
   "metadata": {},
   "outputs": [
    {
     "data": {
      "text/plain": [
       "<bound method NDFrame.head of                  county_name  county_zip   adjacent_county_name  \\\n",
       "0         Autauga County, AL        1001     Autauga County, AL   \n",
       "1         Autauga County, AL        1001     Chilton County, AL   \n",
       "2         Autauga County, AL        1001      Dallas County, AL   \n",
       "3         Autauga County, AL        1001      Elmore County, AL   \n",
       "4         Autauga County, AL        1001     Lowndes County, AL   \n",
       "...                      ...         ...                    ...   \n",
       "22195   St. Croix Island, VI       78010   St. Croix Island, VI   \n",
       "22196    St. John Island, VI       78020    St. John Island, VI   \n",
       "22197    St. John Island, VI       78020  St. Thomas Island, VI   \n",
       "22198  St. Thomas Island, VI       78030    St. John Island, VI   \n",
       "22199  St. Thomas Island, VI       78030  St. Thomas Island, VI   \n",
       "\n",
       "       adjacent_county_zip  \n",
       "0                     1001  \n",
       "1                     1021  \n",
       "2                     1047  \n",
       "3                     1051  \n",
       "4                     1085  \n",
       "...                    ...  \n",
       "22195                78010  \n",
       "22196                78020  \n",
       "22197                78030  \n",
       "22198                78020  \n",
       "22199                78030  \n",
       "\n",
       "[22200 rows x 4 columns]>"
      ]
     },
     "execution_count": 7,
     "metadata": {},
     "output_type": "execute_result"
    }
   ],
   "source": [
    "adjacency.head"
   ]
  },
  {
   "cell_type": "code",
   "execution_count": null,
   "metadata": {},
   "outputs": [],
   "source": [
    "for row in adjacency.iterrows():\n",
    "    if row['county_zip']"
   ]
  }
 ],
 "metadata": {
  "kernelspec": {
   "display_name": "Python 3",
   "language": "python",
   "name": "python3"
  },
  "language_info": {
   "codemirror_mode": {
    "name": "ipython",
    "version": 3
   },
   "file_extension": ".py",
   "mimetype": "text/x-python",
   "name": "python",
   "nbconvert_exporter": "python",
   "pygments_lexer": "ipython3",
   "version": "3.7.7"
  }
 },
 "nbformat": 4,
 "nbformat_minor": 4
}
