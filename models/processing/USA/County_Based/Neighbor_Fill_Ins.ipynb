{
 "cells": [
  {
   "cell_type": "code",
   "execution_count": null,
   "metadata": {},
   "outputs": [],
   "source": [
    "import pandas as pd\n",
    "import numpy as np\n",
    "import os\n",
    "import datetime"
   ]
  },
  {
   "cell_type": "code",
   "execution_count": null,
   "metadata": {},
   "outputs": [],
   "source": [
    "#Neighbor Data\n",
    "neighborcounties = pd.read_csv('neighborcounties.csv', encoding='latin1', index_col=0)\n",
    "neighborstats = pd.read_csv('neighborstats.csv', encoding='latin1')\n",
    "#Google Data\n",
    "google_neighbor = pd.read_csv('google_neighbor.csv', encoding='latin1').drop(columns=['Unnamed: 0'])\n",
    "google_extrapolated_base = pd.read_csv('google_extrapolated_base.csv', encoding='latin1', index_col=0)\n",
    "\n",
    "#Fixed Data\n",
    "Age_Race = pd.read_csv('Age_Race.csv', encoding='latin1',index_col=0)\n",
    "Pop_60 = pd.read_csv('Pop_60.csv')\n",
    "Density = pd.read_csv('Density.csv')\n",
    "#Mobiliy Data\n",
    "Mobility = pd.read_csv('../../../../data/us/mobility/DL-us-mobility-daterow.csv', encoding='latin1')"
   ]
  },
  {
   "cell_type": "code",
   "execution_count": null,
   "metadata": {},
   "outputs": [],
   "source": [
    "def fillframe_date(fips, date, value, colname, neighborcounties, neighborstats, min_neighbors=2):\n",
    "    #Is able to fill a dataframe that has a date column by pivoting by date\n",
    "    #And filling in NaNs by factor & date for each county, using fillcol method\n",
    "    #Making Dataframe to sort values by dates, pivoting\n",
    "    frame = pd.DataFrame(data = [fips,date,value])\n",
    "    frame = frame.T\n",
    "    frame.columns = ['FIPS', 'Date', colname]\n",
    "    frame = frame.pivot(index = 'FIPS', columns='Date', values=[colname]).reset_index()\n",
    "    \n",
    "    #fixing up the frame to haev proper columns\n",
    "    frame.to_csv('frame.csv')\n",
    "    frame = pd.read_csv('frame.csv', encoding='latin1')\n",
    "    frame = frame.rename(columns=frame.iloc[0]).drop(frame.index[0])\n",
    "    frame.columns = frame.columns.fillna('FIPS')\n",
    "    frame = frame.drop(columns = 'Date')\n",
    "    \n",
    "    #Iterating through each date to fill NaNs\n",
    "    datelist = frame.columns    \n",
    "    datelist = datelist[1:]\n",
    "    for d in datelist:\n",
    "        print(d)\n",
    "        frame[d] = fillcol(frame['FIPS'], frame[d], neighborcounties, neighborstats, min_neighbors)\n",
    "    #Unpivoting the frame so it can be returned\n",
    "    frame = frame.melt(id_vars=['FIPS']).sort_values(['FIPS','variable']).reset_index(drop=True)\n",
    "    frame.columns = ['FIPS', 'Date', colname]\n",
    "    \n",
    "    return frame"
   ]
  },
  {
   "cell_type": "code",
   "execution_count": null,
   "metadata": {},
   "outputs": [],
   "source": [
    "def fillcol(fips, value, neighborcounties, neighborstats, min_neighbors=2):\n",
    "    #Takes in a column of fips codes, and any type of datafield with some NaNs,\n",
    "    #Computes distance-weighted average of the value across all neighbors of NaN counties\n",
    "    \n",
    "    #Loading in the fips and value into proper dataframes\n",
    "    df = pd.DataFrame(data = [fips,value]).T\n",
    "    df.columns = ['FIPS', 'Values']\n",
    "    df.Values = df.Values.astype(float)\n",
    "    df = df.set_index('FIPS')\n",
    "    \n",
    "    #creating new column to set to the current dataframe values\n",
    "    newcol = []\n",
    "    for ind in df.index:\n",
    "        #for any entries with NaNs\n",
    "        if np.isnan(df['Values'][ind]):\n",
    "            #list of neighbors for NaN county\n",
    "            neighbors = list(neighborcounties[neighborcounties['orgfips'] == ind]['adjfips'])\n",
    "            nonzero = 0\n",
    "            weightedval = 0\n",
    "            totalinvdist = 0\n",
    "            totaldist = 0\n",
    "            vals = 0\n",
    "            #iterates though neighbors of NaN county with non-NaN entires\n",
    "            for n in neighbors:\n",
    "                if n in df.index:\n",
    "                    if ~np.isnan(df['Values'][n]):\n",
    "                        #Getting weighted values, using 1/dist as a scalar to show closer distance counts more\n",
    "                        nonzero += 1\n",
    "                        dist = list(neighborcounties.query('orgfips == ' + str(ind) + ' and adjfips == ' + str(n))['Pop_10'])[0]\n",
    "                        totalinvdist += (1/dist)**1\n",
    "                        weightedval += ((1/dist)**1)*df['Values'][n]\n",
    "            #If there are at least 2 neighbors (this can be adjusted)\n",
    "            if nonzero >= min_neighbors:\n",
    "                newcol.append(weightedval/(totalinvdist))\n",
    "            else:\n",
    "                newcol.append(np.nan)\n",
    "        else:\n",
    "            newcol.append(df['Values'][ind])\n",
    "    return newcol"
   ]
  },
  {
   "cell_type": "code",
   "execution_count": null,
   "metadata": {},
   "outputs": [],
   "source": [
    "def fillgoogle(colname, google_neighbor):\n",
    "    #Method to fill up the google mobility data\n",
    "    #Uses colname to designate which column to fill\n",
    "    numnans = len(google_neighbor[np.isnan(google_neighbor[colname])])\n",
    "    while numnans > 0:\n",
    "        print(numnans)\n",
    "        tempnum = numnans\n",
    "        #Creating the filled column from method\n",
    "        temp = fillframe_date(google_neighbor['FIPS'],google_neighbor['Date'],google_neighbor[colname], colname, neighborcounties, neighborstats)\n",
    "        google_neighbor[colname] = temp[colname]\n",
    "        numnans = len(google_neighbor[np.isnan(google_neighbor[colname])])\n",
    "        #Checking if the number of nans changes\n",
    "        if tempnum == numnans:\n",
    "            #if number doesnt change, try again with only 1 neighbor, otherwise quit\n",
    "            temp = fillframe_date(google_neighbor['FIPS'],google_neighbor['Date'],google_neighbor[colname], colname, neighborcounties, neighborstats, 1)\n",
    "            google_neighbor[colname] = temp[colname]\n",
    "            numnans = len(google_neighbor[np.isnan(google_neighbor[colname])])\n",
    "            if tempnum == numnans:\n",
    "                numnans = 0     \n",
    "        \n",
    "    return google_neighbor"
   ]
  },
  {
   "cell_type": "code",
   "execution_count": null,
   "metadata": {},
   "outputs": [],
   "source": [
    "def fillfixed(colname, data, code, neighborcounties, neighborstats):\n",
    "    #Method to fill up the google mobility data\n",
    "    #Uses colname to designate which column to fill\n",
    "    numnans = len(data[np.isnan(data[colname])])\n",
    "    while numnans > 0:\n",
    "        tempnum = numnans\n",
    "        #Creating the filled column from method\n",
    "        newcol = fillcol(data[code], data[colname], neighborcounties, neighborstats)\n",
    "        data[colname] = newcol\n",
    "        numnans = len(data[np.isnan(data[colname])])\n",
    "        #Checking if the number of nans changes\n",
    "        if tempnum == numnans:\n",
    "            #if number doesnt change, try again with only 1 neighbor, otherwise quit\n",
    "            newcol = fillcol(data[code], data[colname], neighborcounties, neighborstats)\n",
    "            data[colname] = newcol\n",
    "            numnans = len(data[np.isnan(data[colname])])\n",
    "            if tempnum == numnans:\n",
    "                numnans = 0     \n",
    "    return data"
   ]
  },
  {
   "cell_type": "code",
   "execution_count": null,
   "metadata": {},
   "outputs": [],
   "source": [
    "def popfill(total,estimate):\n",
    "    #Fills in the population of each county, merging density with Pop_60\n",
    "    if np.isnan(total):\n",
    "        return estimate\n",
    "    else:\n",
    "        return total"
   ]
  },
  {
   "cell_type": "code",
   "execution_count": null,
   "metadata": {},
   "outputs": [],
   "source": [
    "#List of all the counties with neighbor data\n",
    "county_list = pd.DataFrame(neighborcounties.orgfips.unique(),columns = ['fips']).set_index('fips')\n",
    "#Calculating the Total population for each county\n",
    "Total_Pop = county_list.join(Pop_60.set_index('FIPS'), how='left')\n",
    "#Adding in extra approximated rows for NaN values, using Density\n",
    "Density['Pop'] = Density['2010 Density per square mile of land area - Population'] * Density['Area in square miles - Land area']\n",
    "Density = Density[['FIPS', 'Pop']]\n",
    "Total_Pop = Total_Pop.join(Density.set_index('FIPS'), how='left')\n",
    "Total_Pop['Population'] = Total_Pop.apply(lambda x: popfill(x['total_pop'],x['Pop']), axis=1)\n",
    "Total_Pop = Total_Pop['Population']\n",
    "Total_Pop.to_csv('Total_Pop')\n"
   ]
  },
  {
   "cell_type": "code",
   "execution_count": null,
   "metadata": {},
   "outputs": [],
   "source": [
    "#Adding extra rows to demographic info to include all counties\n",
    "Age_Race = county_list.join(Age_Race, how='left')\n",
    "#Setting the total population for each county\n",
    "Age_Race['Total population'] = list(Total_Pop)\n",
    "#Dividing the entires by population\n",
    "Age_Race = Age_Race.astype(str).astype(float)\n",
    "Age_Race = Age_Race.divide(Age_Race['Total population'], axis=0).reset_index()\n",
    "\n",
    "#Going through each column of Age_Race to fill NaNs\n",
    "cols = list(Age_Race.columns)[2:]\n",
    "for col in cols:\n",
    "    Age_Race = fillfixed(col, Age_Race, 'fips', neighborcounties, neighborstats)\n",
    "Age_Race = Age_Race.dropna()"
   ]
  },
  {
   "cell_type": "code",
   "execution_count": null,
   "metadata": {},
   "outputs": [],
   "source": [
    "Age_Race.to_csv('Age_Race_Filled.csv')"
   ]
  },
  {
   "cell_type": "code",
   "execution_count": null,
   "metadata": {},
   "outputs": [],
   "source": [
    "cols = list(google_neighbor.columns)[1:-1]\n",
    "for col in cols:\n",
    "    google_neighbor = fillgoogle(col, google_neighbor)\n",
    "google_neighbor = google_neighbor.fillna(0)"
   ]
  },
  {
   "cell_type": "code",
   "execution_count": null,
   "metadata": {},
   "outputs": [],
   "source": [
    "google_neighbor"
   ]
  },
  {
   "cell_type": "code",
   "execution_count": null,
   "metadata": {},
   "outputs": [],
   "source": [
    "google_neighbor.to_csv('google_mobility_filled.csv')"
   ]
  },
  {
   "cell_type": "code",
   "execution_count": null,
   "metadata": {},
   "outputs": [],
   "source": [
    "Age_Race.head(20)"
   ]
  },
  {
   "cell_type": "code",
   "execution_count": null,
   "metadata": {},
   "outputs": [],
   "source": [
    "google_neighbor.head(20)"
   ]
  },
  {
   "cell_type": "code",
   "execution_count": null,
   "metadata": {},
   "outputs": [],
   "source": [
    "google_extrapolated_base"
   ]
  },
  {
   "cell_type": "code",
   "execution_count": null,
   "metadata": {},
   "outputs": [],
   "source": [
    "cols = list(google_extrapolated_base.columns)[2:]\n",
    "for col in cols:\n",
    "    print(col)\n",
    "    google_extrapolated_base = fillgoogle(col, google_extrapolated_base)\n",
    "google_extrapolated_base"
   ]
  },
  {
   "cell_type": "code",
   "execution_count": null,
   "metadata": {},
   "outputs": [],
   "source": [
    "google_extrapolated_base = google_extrapolated_base.dropna()\n",
    "google_extrapolated_base.to_csv('google_extrapolated_filled.csv')"
   ]
  },
  {
   "cell_type": "code",
   "execution_count": null,
   "metadata": {},
   "outputs": [],
   "source": [
    "Mobility = Mobility.drop(columns = ['country_code','admin_level','admin1','admin2'])\n",
    "Mobility = Mobility[Mobility['fips'] > 1000]\n",
    "Mobility.to_csv(\"Mobility_Daily.csv\")"
   ]
  },
  {
   "cell_type": "code",
   "execution_count": null,
   "metadata": {},
   "outputs": [],
   "source": [
    "Mobility"
   ]
  },
  {
   "cell_type": "code",
   "execution_count": null,
   "metadata": {},
   "outputs": [],
   "source": []
  }
 ],
 "metadata": {
  "kernelspec": {
   "display_name": "Python 3",
   "language": "python",
   "name": "python3"
  },
  "language_info": {
   "codemirror_mode": {
    "name": "ipython",
    "version": 3
   },
   "file_extension": ".py",
   "mimetype": "text/x-python",
   "name": "python",
   "nbconvert_exporter": "python",
   "pygments_lexer": "ipython3",
   "version": "3.7.7"
  }
 },
 "nbformat": 4,
 "nbformat_minor": 4
}
