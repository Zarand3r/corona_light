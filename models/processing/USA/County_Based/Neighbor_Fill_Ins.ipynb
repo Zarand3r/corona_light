{
 "cells": [
  {
   "cell_type": "code",
   "execution_count": 5,
   "metadata": {},
   "outputs": [],
   "source": [
    "import pandas as pd\n",
    "import numpy as np\n",
    "import os\n",
    "import datetime\n",
    "import time"
   ]
  },
  {
   "cell_type": "code",
   "execution_count": 6,
   "metadata": {},
   "outputs": [],
   "source": [
    "import git\n",
    "import sys\n",
    "repo = git.Repo(\"./\", search_parent_directories=True)\n",
    "homedir = repo.working_dir"
   ]
  },
  {
   "cell_type": "code",
   "execution_count": 7,
   "metadata": {},
   "outputs": [],
   "source": [
    "#Neighbor Data\n",
    "neighborcounties = pd.read_csv(f\"{homedir}/models/processing/USA/County_Based/neighborcounties.csv\", index_col = 0)\n",
    "#Google Data\n",
    "Google = pd.read_csv(f\"{homedir}/models/processing/USA/County_Based/google_new.csv\", index_col = 0)\n",
    "#Fixed Data\n",
    "Age_Race = pd.read_csv(f\"{homedir}/models/processing/USA/County_Based/Age_Race.csv\", index_col = 0)\n",
    "Pop_60 = pd.read_csv(f\"{homedir}/models/processing/USA/County_Based/Pop_60.csv\")\n",
    "Density = pd.read_csv(f\"{homedir}/models/processing/USA/County_Based/Density.csv\")"
   ]
  },
  {
   "cell_type": "code",
   "execution_count": 8,
   "metadata": {},
   "outputs": [],
   "source": [
    "def fillframe_date(fips, date, value, colname, neighborcounties, min_neighbors=2):\n",
    "    #Is able to fill a dataframe that has a date column by pivoting by date\n",
    "    #And filling in NaNs by factor & date for each county, using fillcol method\n",
    "    #Making Dataframe to sort values by dates, pivoting\n",
    "    tic = time.time()\n",
    "    frame = pd.DataFrame(data = [fips,date,value])\n",
    "    frame = frame.T\n",
    "    frame.columns = ['FIPS', 'Date', colname]\n",
    "    frame = frame.pivot(index = 'FIPS', columns='Date', values=[colname]).reset_index()\n",
    "    \n",
    "    #fixing up the frame to haev proper columns\n",
    "    frame.to_csv('frame.csv')\n",
    "    frame = pd.read_csv('frame.csv', encoding='latin1')\n",
    "    frame = frame.rename(columns=frame.iloc[0]).drop(frame.index[0])\n",
    "    frame.columns = frame.columns.fillna('FIPS')\n",
    "    frame = frame.drop(columns = 'Date')\n",
    "    toc = time.time()\n",
    "    print(toc - tic)\n",
    "    #Iterating through each date to fill NaNs\n",
    "    datelist = frame.columns    \n",
    "    datelist = datelist[1:]\n",
    "    for d in datelist:\n",
    "        print(d)\n",
    "        tic = time.time()\n",
    "        frame[d] = fillcol(frame['FIPS'], frame[d], neighborcounties, min_neighbors)\n",
    "        toc = time.time()\n",
    "        print(toc - tic)\n",
    "    #Unpivoting the frame so it can be returned\n",
    "    frame = frame.melt(id_vars=['FIPS']).sort_values(['FIPS','variable']).reset_index(drop=True)\n",
    "    frame.columns = ['FIPS', 'Date', colname]\n",
    "    \n",
    "    return frame"
   ]
  },
  {
   "cell_type": "code",
   "execution_count": 9,
   "metadata": {},
   "outputs": [],
   "source": [
    "def fillcol(fips, value,neighborcounties, min_neighbors=2):\n",
    "    #Takes in a column of fips codes, and any type of datafield with some NaNs,\n",
    "    #Computes distance-weighted average of the value across all neighbors of NaN counties\n",
    "    tic1 = time.time()\n",
    "    #Loading in the fips and value into proper dataframes\n",
    "    #This is the df with only nan values\n",
    "    df = pd.DataFrame(data = [fips,value])\n",
    "    df.columns = ['FIPS', 'Values']\n",
    "    df.Values = df.Values.astype(float)\n",
    "    df = df.set_index('FIPS')\n",
    "    \n",
    "    #creating new column to set to the current dataframe values\n",
    "    newcol = []\n",
    "    for ind in df.index:\n",
    "        #for any entries with NaNs\n",
    "        if np.isnan(df['Values'][ind]):\n",
    "            #list of neighbors for NaN county\n",
    "            neighbors = list(neighborcounties[neighborcounties['orgfips'] == ind]['adjfips'])\n",
    "            nonzero = 0\n",
    "            weightedval = 0\n",
    "            totalinvdist = 0\n",
    "            totaldist = 0\n",
    "            vals = 0\n",
    "            #iterates though neighbors of NaN county with non-NaN entires\n",
    "            for n in neighbors:\n",
    "                if n in df.index:\n",
    "                    if ~np.isnan(df['Values'][n]):\n",
    "                        #Getting weighted values, using 1/dist as a scalar to show closer distance counts more\n",
    "                        nonzero += 1\n",
    "                        dist = list(neighborcounties.query('orgfips == ' + str(ind) + ' and adjfips == ' + str(n))['Pop_10'])[0]\n",
    "                        totalinvdist += (1/dist)**1\n",
    "                        weightedval += ((1/dist)**1)*df['Values'][n]\n",
    "            #If there are at least 2 neighbors (this can be adjusted)\n",
    "            if nonzero >= min_neighbors:\n",
    "                newcol.append(weightedval/(totalinvdist))\n",
    "            else:\n",
    "                newcol.append(np.nan)\n",
    "        else:\n",
    "            newcol.append(df['Values'][ind])\n",
    "    toc1 = time.time()\n",
    "    print(toc1 - tic1)\n",
    "    return newcol"
   ]
  },
  {
   "cell_type": "code",
   "execution_count": 10,
   "metadata": {},
   "outputs": [],
   "source": [
    "def fillgoogle(colname, google_neighbor):\n",
    "    #Method to fill up the google mobility data\n",
    "    #Uses colname to designate which column to fill\n",
    "    #rows that have NaN values at the value of interest\n",
    "    numnans = len(google_neighbor[np.isnan(google_neighbor[colname])])\n",
    "    while numnans > 0:\n",
    "        print('1: ' + str(numnans))\n",
    "        tempnum = numnans\n",
    "        #Creating the filled column from method\n",
    "        temp = fillframe_date(google_neighbor['FIPS'],google_neighbor['Date'],google_neighbor[colname], colname, neighborcounties)\n",
    "        google_neighbor[colname] = temp[colname]\n",
    "        numnans = len(google_neighbor[np.isnan(google_neighbor[colname])])\n",
    "        print('2: ' + str(numnans))\n",
    "        #Checking if the number of nans changes\n",
    "        if tempnum == numnans:\n",
    "            print(numnans)\n",
    "            print('3: ' + str(numnans))\n",
    "            #if number doesnt change, try again with only 1 neighbor, otherwise quit\n",
    "            temp = fillframe_date(google_neighbor['FIPS'],google_neighbor['Date'],google_neighbor[colname], colname, neighborcounties, 1)\n",
    "            google_neighbor[colname] = temp[colname]\n",
    "            numnans = len(google_neighbor[np.isnan(google_neighbor[colname])])\n",
    "            print('4: ' + str(numnans))\n",
    "            if tempnum <= numnans:\n",
    "                numnans = 0\n",
    "        elif tempnum < numnans:\n",
    "            numnans = 0\n",
    "        \n",
    "    return google_neighbor"
   ]
  },
  {
   "cell_type": "code",
   "execution_count": 11,
   "metadata": {},
   "outputs": [],
   "source": [
    "def fillfixed(colname, data, code, neighborcounties):\n",
    "    #Method to fill up the google mobility data\n",
    "    #Uses colname to designate which column to fill\n",
    "    numnans = len(data[np.isnan(data[colname])])\n",
    "    while numnans > 0:\n",
    "        print(numnans)\n",
    "        tempnum = numnans\n",
    "        #Creating the filled column from method\n",
    "        newcol = fillcol(data[code], data[colname], neighborcounties)\n",
    "        data[colname] = newcol\n",
    "        numnans = len(data[np.isnan(data[colname])])\n",
    "        #Checking if the number of nans changes\n",
    "        if tempnum == numnans:\n",
    "            #if number doesnt change, try again with only 1 neighbor, otherwise quit\n",
    "            newcol = fillcol(data[code], data[colname], neighborcounties)\n",
    "            data[colname] = newcol\n",
    "            numnans = len(data[np.isnan(data[colname])])\n",
    "            if tempnum == numnans:\n",
    "                numnans = 0     \n",
    "    return data"
   ]
  },
  {
   "cell_type": "code",
   "execution_count": 12,
   "metadata": {},
   "outputs": [],
   "source": [
    "def popfill(total,estimate):\n",
    "    #Fills in the population of each county, merging density with Pop_60\n",
    "    if np.isnan(total):\n",
    "        return estimate\n",
    "    else:\n",
    "        return total"
   ]
  },
  {
   "cell_type": "code",
   "execution_count": 13,
   "metadata": {},
   "outputs": [],
   "source": [
    "#List of all the counties with neighbor data\n",
    "county_list = pd.DataFrame(neighborcounties.orgfips.unique(),columns = ['fips']).set_index('fips')\n",
    "#Calculating the Total population for each county\n",
    "Total_Pop = county_list.join(Pop_60.set_index('FIPS'), how='left')\n",
    "#Adding in extra approximated rows for NaN values, using Density\n",
    "Density['Pop'] = Density['2010 Density per square mile of land area - Population'] * Density['Area in square miles - Land area']\n",
    "Density = Density[['FIPS', 'Pop']]\n",
    "Total_Pop = Total_Pop.join(Density.set_index('FIPS'), how='left')\n",
    "Total_Pop['Population'] = Total_Pop.apply(lambda x: popfill(x['total_pop'],x['Pop']), axis=1)\n",
    "Total_Pop = Total_Pop['Population']\n",
    "Total_Pop.to_csv('Total_Pop')"
   ]
  },
  {
   "cell_type": "code",
   "execution_count": 14,
   "metadata": {},
   "outputs": [
    {
     "name": "stdout",
     "output_type": "stream",
     "text": [
      "2383\n"
     ]
    },
    {
     "ename": "ValueError",
     "evalue": "Length mismatch: Expected axis has 3218 elements, new values have 2 elements",
     "output_type": "error",
     "traceback": [
      "\u001b[1;31m---------------------------------------------------------------------------\u001b[0m",
      "\u001b[1;31mValueError\u001b[0m                                Traceback (most recent call last)",
      "\u001b[1;32m<ipython-input-14-dc88c8b5af38>\u001b[0m in \u001b[0;36m<module>\u001b[1;34m\u001b[0m\n\u001b[0;32m     10\u001b[0m \u001b[0mcols\u001b[0m \u001b[1;33m=\u001b[0m \u001b[0mlist\u001b[0m\u001b[1;33m(\u001b[0m\u001b[0mAge_Race\u001b[0m\u001b[1;33m.\u001b[0m\u001b[0mcolumns\u001b[0m\u001b[1;33m)\u001b[0m\u001b[1;33m[\u001b[0m\u001b[1;36m2\u001b[0m\u001b[1;33m:\u001b[0m\u001b[1;33m]\u001b[0m\u001b[1;33m\u001b[0m\u001b[1;33m\u001b[0m\u001b[0m\n\u001b[0;32m     11\u001b[0m \u001b[1;32mfor\u001b[0m \u001b[0mcol\u001b[0m \u001b[1;32min\u001b[0m \u001b[0mcols\u001b[0m\u001b[1;33m:\u001b[0m\u001b[1;33m\u001b[0m\u001b[1;33m\u001b[0m\u001b[0m\n\u001b[1;32m---> 12\u001b[1;33m     \u001b[0mAge_Race\u001b[0m \u001b[1;33m=\u001b[0m \u001b[0mfillfixed\u001b[0m\u001b[1;33m(\u001b[0m\u001b[0mcol\u001b[0m\u001b[1;33m,\u001b[0m \u001b[0mAge_Race\u001b[0m\u001b[1;33m,\u001b[0m \u001b[1;34m'fips'\u001b[0m\u001b[1;33m,\u001b[0m \u001b[0mneighborcounties\u001b[0m\u001b[1;33m)\u001b[0m\u001b[1;33m\u001b[0m\u001b[1;33m\u001b[0m\u001b[0m\n\u001b[0m\u001b[0;32m     13\u001b[0m \u001b[0mAge_Race\u001b[0m \u001b[1;33m=\u001b[0m \u001b[0mAge_Race\u001b[0m\u001b[1;33m.\u001b[0m\u001b[0mdropna\u001b[0m\u001b[1;33m(\u001b[0m\u001b[1;33m)\u001b[0m\u001b[1;33m\u001b[0m\u001b[1;33m\u001b[0m\u001b[0m\n",
      "\u001b[1;32m<ipython-input-11-1b2fb64dcbfb>\u001b[0m in \u001b[0;36mfillfixed\u001b[1;34m(colname, data, code, neighborcounties)\u001b[0m\n\u001b[0;32m      7\u001b[0m         \u001b[0mtempnum\u001b[0m \u001b[1;33m=\u001b[0m \u001b[0mnumnans\u001b[0m\u001b[1;33m\u001b[0m\u001b[1;33m\u001b[0m\u001b[0m\n\u001b[0;32m      8\u001b[0m         \u001b[1;31m#Creating the filled column from method\u001b[0m\u001b[1;33m\u001b[0m\u001b[1;33m\u001b[0m\u001b[1;33m\u001b[0m\u001b[0m\n\u001b[1;32m----> 9\u001b[1;33m         \u001b[0mnewcol\u001b[0m \u001b[1;33m=\u001b[0m \u001b[0mfillcol\u001b[0m\u001b[1;33m(\u001b[0m\u001b[0mdata\u001b[0m\u001b[1;33m[\u001b[0m\u001b[0mcode\u001b[0m\u001b[1;33m]\u001b[0m\u001b[1;33m,\u001b[0m \u001b[0mdata\u001b[0m\u001b[1;33m[\u001b[0m\u001b[0mcolname\u001b[0m\u001b[1;33m]\u001b[0m\u001b[1;33m,\u001b[0m \u001b[0mneighborcounties\u001b[0m\u001b[1;33m)\u001b[0m\u001b[1;33m\u001b[0m\u001b[1;33m\u001b[0m\u001b[0m\n\u001b[0m\u001b[0;32m     10\u001b[0m         \u001b[0mdata\u001b[0m\u001b[1;33m[\u001b[0m\u001b[0mcolname\u001b[0m\u001b[1;33m]\u001b[0m \u001b[1;33m=\u001b[0m \u001b[0mnewcol\u001b[0m\u001b[1;33m\u001b[0m\u001b[1;33m\u001b[0m\u001b[0m\n\u001b[0;32m     11\u001b[0m         \u001b[0mnumnans\u001b[0m \u001b[1;33m=\u001b[0m \u001b[0mlen\u001b[0m\u001b[1;33m(\u001b[0m\u001b[0mdata\u001b[0m\u001b[1;33m[\u001b[0m\u001b[0mnp\u001b[0m\u001b[1;33m.\u001b[0m\u001b[0misnan\u001b[0m\u001b[1;33m(\u001b[0m\u001b[0mdata\u001b[0m\u001b[1;33m[\u001b[0m\u001b[0mcolname\u001b[0m\u001b[1;33m]\u001b[0m\u001b[1;33m)\u001b[0m\u001b[1;33m]\u001b[0m\u001b[1;33m)\u001b[0m\u001b[1;33m\u001b[0m\u001b[1;33m\u001b[0m\u001b[0m\n",
      "\u001b[1;32m<ipython-input-9-00ab647671f5>\u001b[0m in \u001b[0;36mfillcol\u001b[1;34m(fips, value, neighborcounties, min_neighbors)\u001b[0m\n\u001b[0;32m      6\u001b[0m     \u001b[1;31m#This is the df with only nan values\u001b[0m\u001b[1;33m\u001b[0m\u001b[1;33m\u001b[0m\u001b[1;33m\u001b[0m\u001b[0m\n\u001b[0;32m      7\u001b[0m     \u001b[0mdf\u001b[0m \u001b[1;33m=\u001b[0m \u001b[0mpd\u001b[0m\u001b[1;33m.\u001b[0m\u001b[0mDataFrame\u001b[0m\u001b[1;33m(\u001b[0m\u001b[0mdata\u001b[0m \u001b[1;33m=\u001b[0m \u001b[1;33m[\u001b[0m\u001b[0mfips\u001b[0m\u001b[1;33m,\u001b[0m\u001b[0mvalue\u001b[0m\u001b[1;33m]\u001b[0m\u001b[1;33m)\u001b[0m\u001b[1;33m\u001b[0m\u001b[1;33m\u001b[0m\u001b[0m\n\u001b[1;32m----> 8\u001b[1;33m     \u001b[0mdf\u001b[0m\u001b[1;33m.\u001b[0m\u001b[0mcolumns\u001b[0m \u001b[1;33m=\u001b[0m \u001b[1;33m[\u001b[0m\u001b[1;34m'FIPS'\u001b[0m\u001b[1;33m,\u001b[0m \u001b[1;34m'Values'\u001b[0m\u001b[1;33m]\u001b[0m\u001b[1;33m\u001b[0m\u001b[1;33m\u001b[0m\u001b[0m\n\u001b[0m\u001b[0;32m      9\u001b[0m     \u001b[0mdf\u001b[0m\u001b[1;33m.\u001b[0m\u001b[0mValues\u001b[0m \u001b[1;33m=\u001b[0m \u001b[0mdf\u001b[0m\u001b[1;33m.\u001b[0m\u001b[0mValues\u001b[0m\u001b[1;33m.\u001b[0m\u001b[0mastype\u001b[0m\u001b[1;33m(\u001b[0m\u001b[0mfloat\u001b[0m\u001b[1;33m)\u001b[0m\u001b[1;33m\u001b[0m\u001b[1;33m\u001b[0m\u001b[0m\n\u001b[0;32m     10\u001b[0m     \u001b[0mdf\u001b[0m \u001b[1;33m=\u001b[0m \u001b[0mdf\u001b[0m\u001b[1;33m.\u001b[0m\u001b[0mset_index\u001b[0m\u001b[1;33m(\u001b[0m\u001b[1;34m'FIPS'\u001b[0m\u001b[1;33m)\u001b[0m\u001b[1;33m\u001b[0m\u001b[1;33m\u001b[0m\u001b[0m\n",
      "\u001b[1;32m~\\Anaconda3\\lib\\site-packages\\pandas\\core\\generic.py\u001b[0m in \u001b[0;36m__setattr__\u001b[1;34m(self, name, value)\u001b[0m\n\u001b[0;32m   5285\u001b[0m         \u001b[1;32mtry\u001b[0m\u001b[1;33m:\u001b[0m\u001b[1;33m\u001b[0m\u001b[1;33m\u001b[0m\u001b[0m\n\u001b[0;32m   5286\u001b[0m             \u001b[0mobject\u001b[0m\u001b[1;33m.\u001b[0m\u001b[0m__getattribute__\u001b[0m\u001b[1;33m(\u001b[0m\u001b[0mself\u001b[0m\u001b[1;33m,\u001b[0m \u001b[0mname\u001b[0m\u001b[1;33m)\u001b[0m\u001b[1;33m\u001b[0m\u001b[1;33m\u001b[0m\u001b[0m\n\u001b[1;32m-> 5287\u001b[1;33m             \u001b[1;32mreturn\u001b[0m \u001b[0mobject\u001b[0m\u001b[1;33m.\u001b[0m\u001b[0m__setattr__\u001b[0m\u001b[1;33m(\u001b[0m\u001b[0mself\u001b[0m\u001b[1;33m,\u001b[0m \u001b[0mname\u001b[0m\u001b[1;33m,\u001b[0m \u001b[0mvalue\u001b[0m\u001b[1;33m)\u001b[0m\u001b[1;33m\u001b[0m\u001b[1;33m\u001b[0m\u001b[0m\n\u001b[0m\u001b[0;32m   5288\u001b[0m         \u001b[1;32mexcept\u001b[0m \u001b[0mAttributeError\u001b[0m\u001b[1;33m:\u001b[0m\u001b[1;33m\u001b[0m\u001b[1;33m\u001b[0m\u001b[0m\n\u001b[0;32m   5289\u001b[0m             \u001b[1;32mpass\u001b[0m\u001b[1;33m\u001b[0m\u001b[1;33m\u001b[0m\u001b[0m\n",
      "\u001b[1;32mpandas\\_libs\\properties.pyx\u001b[0m in \u001b[0;36mpandas._libs.properties.AxisProperty.__set__\u001b[1;34m()\u001b[0m\n",
      "\u001b[1;32m~\\Anaconda3\\lib\\site-packages\\pandas\\core\\generic.py\u001b[0m in \u001b[0;36m_set_axis\u001b[1;34m(self, axis, labels)\u001b[0m\n\u001b[0;32m    659\u001b[0m \u001b[1;33m\u001b[0m\u001b[0m\n\u001b[0;32m    660\u001b[0m     \u001b[1;32mdef\u001b[0m \u001b[0m_set_axis\u001b[0m\u001b[1;33m(\u001b[0m\u001b[0mself\u001b[0m\u001b[1;33m,\u001b[0m \u001b[0maxis\u001b[0m\u001b[1;33m,\u001b[0m \u001b[0mlabels\u001b[0m\u001b[1;33m)\u001b[0m \u001b[1;33m->\u001b[0m \u001b[1;32mNone\u001b[0m\u001b[1;33m:\u001b[0m\u001b[1;33m\u001b[0m\u001b[1;33m\u001b[0m\u001b[0m\n\u001b[1;32m--> 661\u001b[1;33m         \u001b[0mself\u001b[0m\u001b[1;33m.\u001b[0m\u001b[0m_data\u001b[0m\u001b[1;33m.\u001b[0m\u001b[0mset_axis\u001b[0m\u001b[1;33m(\u001b[0m\u001b[0maxis\u001b[0m\u001b[1;33m,\u001b[0m \u001b[0mlabels\u001b[0m\u001b[1;33m)\u001b[0m\u001b[1;33m\u001b[0m\u001b[1;33m\u001b[0m\u001b[0m\n\u001b[0m\u001b[0;32m    662\u001b[0m         \u001b[0mself\u001b[0m\u001b[1;33m.\u001b[0m\u001b[0m_clear_item_cache\u001b[0m\u001b[1;33m(\u001b[0m\u001b[1;33m)\u001b[0m\u001b[1;33m\u001b[0m\u001b[1;33m\u001b[0m\u001b[0m\n\u001b[0;32m    663\u001b[0m \u001b[1;33m\u001b[0m\u001b[0m\n",
      "\u001b[1;32m~\\Anaconda3\\lib\\site-packages\\pandas\\core\\internals\\managers.py\u001b[0m in \u001b[0;36mset_axis\u001b[1;34m(self, axis, new_labels)\u001b[0m\n\u001b[0;32m    176\u001b[0m         \u001b[1;32mif\u001b[0m \u001b[0mnew_len\u001b[0m \u001b[1;33m!=\u001b[0m \u001b[0mold_len\u001b[0m\u001b[1;33m:\u001b[0m\u001b[1;33m\u001b[0m\u001b[1;33m\u001b[0m\u001b[0m\n\u001b[0;32m    177\u001b[0m             raise ValueError(\n\u001b[1;32m--> 178\u001b[1;33m                 \u001b[1;34mf\"Length mismatch: Expected axis has {old_len} elements, new \"\u001b[0m\u001b[1;33m\u001b[0m\u001b[1;33m\u001b[0m\u001b[0m\n\u001b[0m\u001b[0;32m    179\u001b[0m                 \u001b[1;34mf\"values have {new_len} elements\"\u001b[0m\u001b[1;33m\u001b[0m\u001b[1;33m\u001b[0m\u001b[0m\n\u001b[0;32m    180\u001b[0m             )\n",
      "\u001b[1;31mValueError\u001b[0m: Length mismatch: Expected axis has 3218 elements, new values have 2 elements"
     ]
    }
   ],
   "source": [
    "#Adding extra rows to demographic info to include all counties\n",
    "Age_Race = county_list.join(Age_Race, how='left')\n",
    "#Setting the total population for each county\n",
    "Age_Race['Total population'] = list(Total_Pop)\n",
    "#Dividing the entires by population\n",
    "Age_Race = Age_Race.astype(str).astype(float)\n",
    "Age_Race = Age_Race.divide(Age_Race['Total population'], axis=0).reset_index()\n",
    "\n",
    "#Going through each column of Age_Race to fill NaNs\n",
    "cols = list(Age_Race.columns)[2:]\n",
    "for col in cols:\n",
    "    Age_Race = fillfixed(col, Age_Race, 'fips', neighborcounties)\n",
    "Age_Race = Age_Race.dropna()"
   ]
  },
  {
   "cell_type": "code",
   "execution_count": null,
   "metadata": {},
   "outputs": [],
   "source": [
    "Age_Race.to_csv('Age_Race_Filled.csv')"
   ]
  },
  {
   "cell_type": "code",
   "execution_count": null,
   "metadata": {},
   "outputs": [],
   "source": [
    "cols = list(Google.columns)[2:]"
   ]
  },
  {
   "cell_type": "code",
   "execution_count": null,
   "metadata": {},
   "outputs": [],
   "source": [
    "Google = fillgoogle(cols[0], Google)\n",
    "Google"
   ]
  },
  {
   "cell_type": "code",
   "execution_count": null,
   "metadata": {},
   "outputs": [],
   "source": [
    "Google = fillgoogle(cols[1], Google)\n",
    "Google"
   ]
  },
  {
   "cell_type": "code",
   "execution_count": null,
   "metadata": {},
   "outputs": [],
   "source": [
    "Google = fillgoogle(cols[2], Google)\n",
    "Google"
   ]
  },
  {
   "cell_type": "code",
   "execution_count": null,
   "metadata": {},
   "outputs": [],
   "source": [
    "Google = fillgoogle(cols[3], Google)\n",
    "Google"
   ]
  },
  {
   "cell_type": "code",
   "execution_count": null,
   "metadata": {},
   "outputs": [],
   "source": [
    "Google = fillgoogle(cols[4], Google)\n",
    "Google"
   ]
  },
  {
   "cell_type": "code",
   "execution_count": null,
   "metadata": {},
   "outputs": [],
   "source": [
    "Google = fillgoogle(cols[5], Google)\n",
    "Google"
   ]
  },
  {
   "cell_type": "code",
   "execution_count": null,
   "metadata": {},
   "outputs": [],
   "source": [
    "Google = Google.fillna(0)\n",
    "Google.to_csv('google_new_filled.csv')"
   ]
  }
 ],
 "metadata": {
  "kernelspec": {
   "display_name": "Python 3",
   "language": "python",
   "name": "python3"
  },
  "language_info": {
   "codemirror_mode": {
    "name": "ipython",
    "version": 3
   },
   "file_extension": ".py",
   "mimetype": "text/x-python",
   "name": "python",
   "nbconvert_exporter": "python",
   "pygments_lexer": "ipython3",
   "version": "3.7.7"
  }
 },
 "nbformat": 4,
 "nbformat_minor": 4
}
